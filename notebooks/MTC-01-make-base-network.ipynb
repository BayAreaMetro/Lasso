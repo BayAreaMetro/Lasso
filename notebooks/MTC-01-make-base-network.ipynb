{
 "cells": [
  {
   "cell_type": "markdown",
   "metadata": {},
   "source": [
    "# Make MTC base network\n",
    "\n",
    "In this notebook we will run through:\n",
    "\n",
    "1. Read in wrangler standard network  \n",
    "2. calculate NUMLANES, FT  \n",
    "3. Transforming the standard network format to the MTC expected format    \n",
    "4. Exporting the network to a shapefile and csvs  "
   ]
  },
  {
   "cell_type": "code",
   "execution_count": 1,
   "metadata": {},
   "outputs": [],
   "source": [
    "import os\n",
    "import sys\n",
    "import yaml\n",
    "\n",
    "import pandas as pd\n",
    "\n",
    "from network_wrangler import RoadwayNetwork\n",
    "from network_wrangler import TransitNetwork\n",
    "from network_wrangler import ProjectCard\n",
    "from network_wrangler import Scenario\n",
    "from network_wrangler import WranglerLogger\n",
    "\n",
    "from lasso import ModelRoadwayNetwork\n",
    "from lasso import StandardTransit\n",
    "from lasso import Parameters\n",
    "from lasso import mtc"
   ]
  },
  {
   "cell_type": "code",
   "execution_count": 2,
   "metadata": {},
   "outputs": [],
   "source": [
    "%load_ext autoreload\n",
    "%autoreload 2"
   ]
  },
  {
   "cell_type": "code",
   "execution_count": 3,
   "metadata": {},
   "outputs": [],
   "source": [
    "import logging\n",
    "logger = logging.getLogger(\"WranglerLogger\")\n",
    "logger.handlers[0].stream = sys.stdout\n",
    "# if you don't want to see so much detail, set to logging.INFO or DEBUG\n",
    "logger.setLevel(logging.DEBUG)"
   ]
  },
  {
   "cell_type": "markdown",
   "metadata": {},
   "source": [
    "# Remote I/O"
   ]
  },
  {
   "cell_type": "code",
   "execution_count": 4,
   "metadata": {},
   "outputs": [],
   "source": [
    "input_dir = \"Z:/Data/Users/Sijia/MTC/github/travel-model-two-networks/data/interim/step8_standard_format\"\n",
    "output_dir = input_dir"
   ]
  },
  {
   "cell_type": "code",
   "execution_count": 5,
   "metadata": {},
   "outputs": [
    {
     "name": "stdout",
     "output_type": "stream",
     "text": [
      "2020-10-09 00:17:02, INFO: Lasso base directory set as: z:\\Data\\Users\\Sijia\\MTC\\github\\Lasso\n"
     ]
    }
   ],
   "source": [
    "parameters = Parameters()"
   ]
  },
  {
   "cell_type": "markdown",
   "metadata": {},
   "source": [
    "# Read Roadway and Transit Networks"
   ]
  },
  {
   "cell_type": "code",
   "execution_count": 6,
   "metadata": {},
   "outputs": [
    {
     "name": "stdout",
     "output_type": "stream",
     "text": [
      "2020-10-09 00:17:05, INFO: Reading from following files:\n",
      "-Z:/Data/Users/Sijia/MTC/github/travel-model-two-networks/data/interim/step8_standard_format\\link.json\n",
      "-Z:/Data/Users/Sijia/MTC/github/travel-model-two-networks/data/interim/step8_standard_format\\node.geojson\n",
      "-Z:/Data/Users/Sijia/MTC/github/travel-model-two-networks/data/interim/step8_standard_format\\shape.geojson.\n",
      "2020-10-09 00:21:11, INFO: Read 1634769 links from Z:/Data/Users/Sijia/MTC/github/travel-model-two-networks/data/interim/step8_standard_format\\link.json\n",
      "2020-10-09 00:21:11, INFO: Read 644475 nodes from Z:/Data/Users/Sijia/MTC/github/travel-model-two-networks/data/interim/step8_standard_format\\node.geojson\n",
      "2020-10-09 00:21:11, INFO: Read 869970 shapes from Z:/Data/Users/Sijia/MTC/github/travel-model-two-networks/data/interim/step8_standard_format\\shape.geojson\n"
     ]
    }
   ],
   "source": [
    "link_file = os.path.join(input_dir, 'link.json')\n",
    "node_file = os.path.join(input_dir, 'node.geojson')\n",
    "shape_file = os.path.join(input_dir, 'shape.geojson')\n",
    "\n",
    "roadway_net = RoadwayNetwork.read(\n",
    "    link_file = link_file, \n",
    "    node_file = node_file, \n",
    "    shape_file = shape_file\n",
    ")"
   ]
  },
  {
   "cell_type": "code",
   "execution_count": 7,
   "metadata": {},
   "outputs": [
    {
     "data": {
      "text/plain": [
       "Index(['access', 'bike_access', 'drive_access', 'fromIntersectionId', 'lanes',\n",
       "       'maxspeed', 'name', 'oneWay', 'ref', 'roadway', 'shstGeometryId',\n",
       "       'shstReferenceId', 'toIntersectionId', 'u', 'v', 'walk_access', 'wayId',\n",
       "       'county', 'model_link_id', 'A', 'B', 'rail_traveltime', 'rail_only',\n",
       "       'locationReferences', 'shape_id', 'geometry'],\n",
       "      dtype='object')"
      ]
     },
     "execution_count": 7,
     "metadata": {},
     "output_type": "execute_result"
    }
   ],
   "source": [
    "roadway_net.links_df.columns"
   ]
  },
  {
   "cell_type": "markdown",
   "metadata": {},
   "source": [
    "# Make travel model network"
   ]
  },
  {
   "cell_type": "code",
   "execution_count": 8,
   "metadata": {},
   "outputs": [
    {
     "name": "stdout",
     "output_type": "stream",
     "text": [
      "2020-10-09 00:38:23, INFO: Lasso base directory set as: z:\\Data\\Users\\Sijia\\MTC\\github\\Lasso\n"
     ]
    }
   ],
   "source": [
    "m_net = ModelRoadwayNetwork.from_RoadwayNetwork(\n",
    "    roadway_network_object = roadway_net, \n",
    "    parameters = parameters)"
   ]
  },
  {
   "cell_type": "code",
   "execution_count": 11,
   "metadata": {},
   "outputs": [
    {
     "data": {
      "text/plain": [
       "Index(['access', 'bike_access', 'drive_access', 'fromIntersectionId', 'lanes',\n",
       "       'maxspeed', 'name', 'oneWay', 'ref', 'roadway', 'shstGeometryId',\n",
       "       'shstReferenceId', 'toIntersectionId', 'u', 'v', 'walk_access', 'wayId',\n",
       "       'county', 'model_link_id', 'A', 'B', 'rail_traveltime', 'rail_only',\n",
       "       'locationReferences', 'shape_id', 'geometry'],\n",
       "      dtype='object')"
      ]
     },
     "execution_count": 11,
     "metadata": {},
     "output_type": "execute_result"
    }
   ],
   "source": [
    "m_net.links_df.columns"
   ]
  },
  {
   "cell_type": "markdown",
   "metadata": {},
   "source": [
    "# Calculate number of lanes"
   ]
  },
  {
   "cell_type": "code",
   "execution_count": 12,
   "metadata": {
    "scrolled": false
   },
   "outputs": [
    {
     "name": "stdout",
     "output_type": "stream",
     "text": [
      "2020-10-09 00:44:35, INFO: Determining number of lanes\n",
      "2020-10-09 00:44:35, INFO: Lasso base directory set as: z:\\Data\\Users\\Sijia\\MTC\\github\\Lasso\n",
      "2020-10-09 00:49:29, INFO: Finished determining number of lanes using variable: numlanes\n"
     ]
    },
    {
     "data": {
      "text/plain": [
       "1    1486397\n",
       "2     104207\n",
       "3      22455\n",
       "4      14124\n",
       "5       6504\n",
       "6        929\n",
       "7        134\n",
       "8         18\n",
       "9          1\n",
       "Name: numlanes, dtype: int64"
      ]
     },
     "execution_count": 12,
     "metadata": {},
     "output_type": "execute_result"
    }
   ],
   "source": [
    "m_net = mtc.determine_number_of_lanes(\n",
    "    roadway_network_object = m_net,\n",
    "    parameters = parameters,\n",
    "    network_variable = 'numlanes'\n",
    ")\n",
    "\n",
    "m_net.links_df.numlanes.value_counts()"
   ]
  },
  {
   "cell_type": "code",
   "execution_count": 13,
   "metadata": {},
   "outputs": [
    {
     "data": {
      "text/html": [
       "<div>\n",
       "<style scoped>\n",
       "    .dataframe tbody tr th:only-of-type {\n",
       "        vertical-align: middle;\n",
       "    }\n",
       "\n",
       "    .dataframe tbody tr th {\n",
       "        vertical-align: top;\n",
       "    }\n",
       "\n",
       "    .dataframe thead th {\n",
       "        text-align: right;\n",
       "    }\n",
       "</style>\n",
       "<table border=\"1\" class=\"dataframe\">\n",
       "  <thead>\n",
       "    <tr style=\"text-align: right;\">\n",
       "      <th>numlanes</th>\n",
       "      <th>1</th>\n",
       "      <th>2</th>\n",
       "      <th>3</th>\n",
       "      <th>4</th>\n",
       "      <th>5</th>\n",
       "      <th>6</th>\n",
       "      <th>7</th>\n",
       "      <th>8</th>\n",
       "      <th>9</th>\n",
       "    </tr>\n",
       "    <tr>\n",
       "      <th>roadway</th>\n",
       "      <th></th>\n",
       "      <th></th>\n",
       "      <th></th>\n",
       "      <th></th>\n",
       "      <th></th>\n",
       "      <th></th>\n",
       "      <th></th>\n",
       "      <th></th>\n",
       "      <th></th>\n",
       "    </tr>\n",
       "  </thead>\n",
       "  <tbody>\n",
       "    <tr>\n",
       "      <th>cycleway</th>\n",
       "      <td>99067</td>\n",
       "      <td>36</td>\n",
       "      <td>4</td>\n",
       "      <td>0</td>\n",
       "      <td>0</td>\n",
       "      <td>0</td>\n",
       "      <td>0</td>\n",
       "      <td>0</td>\n",
       "      <td>0</td>\n",
       "    </tr>\n",
       "    <tr>\n",
       "      <th>footway</th>\n",
       "      <td>247365</td>\n",
       "      <td>87</td>\n",
       "      <td>27</td>\n",
       "      <td>8</td>\n",
       "      <td>2</td>\n",
       "      <td>0</td>\n",
       "      <td>0</td>\n",
       "      <td>0</td>\n",
       "      <td>0</td>\n",
       "    </tr>\n",
       "    <tr>\n",
       "      <th>motorway</th>\n",
       "      <td>115</td>\n",
       "      <td>576</td>\n",
       "      <td>640</td>\n",
       "      <td>1026</td>\n",
       "      <td>314</td>\n",
       "      <td>96</td>\n",
       "      <td>6</td>\n",
       "      <td>1</td>\n",
       "      <td>0</td>\n",
       "    </tr>\n",
       "    <tr>\n",
       "      <th>motorway_link</th>\n",
       "      <td>3561</td>\n",
       "      <td>1184</td>\n",
       "      <td>187</td>\n",
       "      <td>44</td>\n",
       "      <td>7</td>\n",
       "      <td>0</td>\n",
       "      <td>0</td>\n",
       "      <td>0</td>\n",
       "      <td>0</td>\n",
       "    </tr>\n",
       "    <tr>\n",
       "      <th>primary</th>\n",
       "      <td>2555</td>\n",
       "      <td>11633</td>\n",
       "      <td>7466</td>\n",
       "      <td>3151</td>\n",
       "      <td>1367</td>\n",
       "      <td>235</td>\n",
       "      <td>71</td>\n",
       "      <td>14</td>\n",
       "      <td>0</td>\n",
       "    </tr>\n",
       "    <tr>\n",
       "      <th>primary_link</th>\n",
       "      <td>1356</td>\n",
       "      <td>110</td>\n",
       "      <td>35</td>\n",
       "      <td>3</td>\n",
       "      <td>2</td>\n",
       "      <td>0</td>\n",
       "      <td>0</td>\n",
       "      <td>0</td>\n",
       "      <td>0</td>\n",
       "    </tr>\n",
       "    <tr>\n",
       "      <th>residential</th>\n",
       "      <td>503743</td>\n",
       "      <td>33033</td>\n",
       "      <td>1424</td>\n",
       "      <td>369</td>\n",
       "      <td>90</td>\n",
       "      <td>7</td>\n",
       "      <td>0</td>\n",
       "      <td>0</td>\n",
       "      <td>0</td>\n",
       "    </tr>\n",
       "    <tr>\n",
       "      <th>secondary</th>\n",
       "      <td>25600</td>\n",
       "      <td>25120</td>\n",
       "      <td>7300</td>\n",
       "      <td>6494</td>\n",
       "      <td>3534</td>\n",
       "      <td>435</td>\n",
       "      <td>44</td>\n",
       "      <td>2</td>\n",
       "      <td>0</td>\n",
       "    </tr>\n",
       "    <tr>\n",
       "      <th>secondary_link</th>\n",
       "      <td>1357</td>\n",
       "      <td>188</td>\n",
       "      <td>18</td>\n",
       "      <td>2</td>\n",
       "      <td>1</td>\n",
       "      <td>0</td>\n",
       "      <td>0</td>\n",
       "      <td>0</td>\n",
       "      <td>0</td>\n",
       "    </tr>\n",
       "    <tr>\n",
       "      <th>service</th>\n",
       "      <td>532611</td>\n",
       "      <td>8047</td>\n",
       "      <td>534</td>\n",
       "      <td>261</td>\n",
       "      <td>31</td>\n",
       "      <td>3</td>\n",
       "      <td>1</td>\n",
       "      <td>1</td>\n",
       "      <td>1</td>\n",
       "    </tr>\n",
       "    <tr>\n",
       "      <th>tertiary</th>\n",
       "      <td>65019</td>\n",
       "      <td>22022</td>\n",
       "      <td>3807</td>\n",
       "      <td>2100</td>\n",
       "      <td>950</td>\n",
       "      <td>47</td>\n",
       "      <td>2</td>\n",
       "      <td>0</td>\n",
       "      <td>0</td>\n",
       "    </tr>\n",
       "    <tr>\n",
       "      <th>tertiary_link</th>\n",
       "      <td>566</td>\n",
       "      <td>42</td>\n",
       "      <td>1</td>\n",
       "      <td>2</td>\n",
       "      <td>0</td>\n",
       "      <td>0</td>\n",
       "      <td>0</td>\n",
       "      <td>0</td>\n",
       "      <td>0</td>\n",
       "    </tr>\n",
       "    <tr>\n",
       "      <th>trunk</th>\n",
       "      <td>217</td>\n",
       "      <td>1989</td>\n",
       "      <td>984</td>\n",
       "      <td>652</td>\n",
       "      <td>204</td>\n",
       "      <td>104</td>\n",
       "      <td>10</td>\n",
       "      <td>0</td>\n",
       "      <td>0</td>\n",
       "    </tr>\n",
       "    <tr>\n",
       "      <th>trunk_link</th>\n",
       "      <td>1198</td>\n",
       "      <td>140</td>\n",
       "      <td>28</td>\n",
       "      <td>12</td>\n",
       "      <td>2</td>\n",
       "      <td>2</td>\n",
       "      <td>0</td>\n",
       "      <td>0</td>\n",
       "      <td>0</td>\n",
       "    </tr>\n",
       "  </tbody>\n",
       "</table>\n",
       "</div>"
      ],
      "text/plain": [
       "numlanes             1      2     3     4     5    6   7   8  9\n",
       "roadway                                                        \n",
       "cycleway         99067     36     4     0     0    0   0   0  0\n",
       "footway         247365     87    27     8     2    0   0   0  0\n",
       "motorway           115    576   640  1026   314   96   6   1  0\n",
       "motorway_link     3561   1184   187    44     7    0   0   0  0\n",
       "primary           2555  11633  7466  3151  1367  235  71  14  0\n",
       "primary_link      1356    110    35     3     2    0   0   0  0\n",
       "residential     503743  33033  1424   369    90    7   0   0  0\n",
       "secondary        25600  25120  7300  6494  3534  435  44   2  0\n",
       "secondary_link    1357    188    18     2     1    0   0   0  0\n",
       "service         532611   8047   534   261    31    3   1   1  1\n",
       "tertiary         65019  22022  3807  2100   950   47   2   0  0\n",
       "tertiary_link      566     42     1     2     0    0   0   0  0\n",
       "trunk              217   1989   984   652   204  104  10   0  0\n",
       "trunk_link        1198    140    28    12     2    2   0   0  0"
      ]
     },
     "execution_count": 13,
     "metadata": {},
     "output_type": "execute_result"
    }
   ],
   "source": [
    "pd.crosstab(m_net.links_df.roadway, m_net.links_df.numlanes)"
   ]
  },
  {
   "cell_type": "markdown",
   "metadata": {},
   "source": [
    "# Calculate facility type"
   ]
  },
  {
   "cell_type": "code",
   "execution_count": 14,
   "metadata": {},
   "outputs": [
    {
     "name": "stdout",
     "output_type": "stream",
     "text": [
      "2020-10-09 00:52:54, INFO: Calculating Facility Type\n",
      "2020-10-09 00:52:54, INFO: Lasso base directory set as: z:\\Data\\Users\\Sijia\\MTC\\github\\Lasso\n",
      "2020-10-09 00:55:12, INFO: Finished calculating roadway class variable: ft\n"
     ]
    },
    {
     "data": {
      "text/plain": [
       "99    890153\n",
       "7     538666\n",
       "6      96883\n",
       "5      58344\n",
       "4      38332\n",
       "3       6365\n",
       "2       3252\n",
       "1       2774\n",
       "Name: ft, dtype: int64"
      ]
     },
     "execution_count": 14,
     "metadata": {},
     "output_type": "execute_result"
    }
   ],
   "source": [
    "m_net = mtc.calculate_facility_type(\n",
    "    roadway_network_object = m_net,\n",
    "    parameters = parameters,\n",
    "    network_variable = 'ft'\n",
    ")\n",
    "\n",
    "m_net.links_df.ft.value_counts()"
   ]
  },
  {
   "cell_type": "code",
   "execution_count": 15,
   "metadata": {},
   "outputs": [
    {
     "data": {
      "text/html": [
       "<div>\n",
       "<style scoped>\n",
       "    .dataframe tbody tr th:only-of-type {\n",
       "        vertical-align: middle;\n",
       "    }\n",
       "\n",
       "    .dataframe tbody tr th {\n",
       "        vertical-align: top;\n",
       "    }\n",
       "\n",
       "    .dataframe thead th {\n",
       "        text-align: right;\n",
       "    }\n",
       "</style>\n",
       "<table border=\"1\" class=\"dataframe\">\n",
       "  <thead>\n",
       "    <tr style=\"text-align: right;\">\n",
       "      <th>ft</th>\n",
       "      <th>1</th>\n",
       "      <th>2</th>\n",
       "      <th>3</th>\n",
       "      <th>4</th>\n",
       "      <th>5</th>\n",
       "      <th>6</th>\n",
       "      <th>7</th>\n",
       "      <th>99</th>\n",
       "    </tr>\n",
       "    <tr>\n",
       "      <th>roadway</th>\n",
       "      <th></th>\n",
       "      <th></th>\n",
       "      <th></th>\n",
       "      <th></th>\n",
       "      <th></th>\n",
       "      <th></th>\n",
       "      <th></th>\n",
       "      <th></th>\n",
       "    </tr>\n",
       "  </thead>\n",
       "  <tbody>\n",
       "    <tr>\n",
       "      <th>cycleway</th>\n",
       "      <td>0</td>\n",
       "      <td>0</td>\n",
       "      <td>0</td>\n",
       "      <td>0</td>\n",
       "      <td>0</td>\n",
       "      <td>0</td>\n",
       "      <td>0</td>\n",
       "      <td>99107</td>\n",
       "    </tr>\n",
       "    <tr>\n",
       "      <th>footway</th>\n",
       "      <td>0</td>\n",
       "      <td>0</td>\n",
       "      <td>0</td>\n",
       "      <td>0</td>\n",
       "      <td>0</td>\n",
       "      <td>0</td>\n",
       "      <td>0</td>\n",
       "      <td>247489</td>\n",
       "    </tr>\n",
       "    <tr>\n",
       "      <th>motorway</th>\n",
       "      <td>2774</td>\n",
       "      <td>0</td>\n",
       "      <td>0</td>\n",
       "      <td>0</td>\n",
       "      <td>0</td>\n",
       "      <td>0</td>\n",
       "      <td>0</td>\n",
       "      <td>0</td>\n",
       "    </tr>\n",
       "    <tr>\n",
       "      <th>motorway_link</th>\n",
       "      <td>0</td>\n",
       "      <td>0</td>\n",
       "      <td>4983</td>\n",
       "      <td>0</td>\n",
       "      <td>0</td>\n",
       "      <td>0</td>\n",
       "      <td>0</td>\n",
       "      <td>0</td>\n",
       "    </tr>\n",
       "    <tr>\n",
       "      <th>primary</th>\n",
       "      <td>0</td>\n",
       "      <td>0</td>\n",
       "      <td>0</td>\n",
       "      <td>15505</td>\n",
       "      <td>8432</td>\n",
       "      <td>2555</td>\n",
       "      <td>0</td>\n",
       "      <td>0</td>\n",
       "    </tr>\n",
       "    <tr>\n",
       "      <th>primary_link</th>\n",
       "      <td>0</td>\n",
       "      <td>0</td>\n",
       "      <td>0</td>\n",
       "      <td>0</td>\n",
       "      <td>0</td>\n",
       "      <td>1506</td>\n",
       "      <td>0</td>\n",
       "      <td>0</td>\n",
       "    </tr>\n",
       "    <tr>\n",
       "      <th>residential</th>\n",
       "      <td>0</td>\n",
       "      <td>0</td>\n",
       "      <td>0</td>\n",
       "      <td>0</td>\n",
       "      <td>0</td>\n",
       "      <td>0</td>\n",
       "      <td>538666</td>\n",
       "      <td>0</td>\n",
       "    </tr>\n",
       "    <tr>\n",
       "      <th>secondary</th>\n",
       "      <td>0</td>\n",
       "      <td>0</td>\n",
       "      <td>0</td>\n",
       "      <td>17933</td>\n",
       "      <td>24996</td>\n",
       "      <td>25600</td>\n",
       "      <td>0</td>\n",
       "      <td>0</td>\n",
       "    </tr>\n",
       "    <tr>\n",
       "      <th>secondary_link</th>\n",
       "      <td>0</td>\n",
       "      <td>0</td>\n",
       "      <td>0</td>\n",
       "      <td>0</td>\n",
       "      <td>0</td>\n",
       "      <td>1566</td>\n",
       "      <td>0</td>\n",
       "      <td>0</td>\n",
       "    </tr>\n",
       "    <tr>\n",
       "      <th>service</th>\n",
       "      <td>0</td>\n",
       "      <td>0</td>\n",
       "      <td>0</td>\n",
       "      <td>0</td>\n",
       "      <td>0</td>\n",
       "      <td>0</td>\n",
       "      <td>0</td>\n",
       "      <td>541490</td>\n",
       "    </tr>\n",
       "    <tr>\n",
       "      <th>tertiary</th>\n",
       "      <td>0</td>\n",
       "      <td>0</td>\n",
       "      <td>0</td>\n",
       "      <td>4894</td>\n",
       "      <td>24034</td>\n",
       "      <td>65019</td>\n",
       "      <td>0</td>\n",
       "      <td>0</td>\n",
       "    </tr>\n",
       "    <tr>\n",
       "      <th>tertiary_link</th>\n",
       "      <td>0</td>\n",
       "      <td>0</td>\n",
       "      <td>0</td>\n",
       "      <td>0</td>\n",
       "      <td>0</td>\n",
       "      <td>611</td>\n",
       "      <td>0</td>\n",
       "      <td>0</td>\n",
       "    </tr>\n",
       "    <tr>\n",
       "      <th>trunk</th>\n",
       "      <td>0</td>\n",
       "      <td>3252</td>\n",
       "      <td>0</td>\n",
       "      <td>0</td>\n",
       "      <td>882</td>\n",
       "      <td>26</td>\n",
       "      <td>0</td>\n",
       "      <td>0</td>\n",
       "    </tr>\n",
       "    <tr>\n",
       "      <th>trunk_link</th>\n",
       "      <td>0</td>\n",
       "      <td>0</td>\n",
       "      <td>1382</td>\n",
       "      <td>0</td>\n",
       "      <td>0</td>\n",
       "      <td>0</td>\n",
       "      <td>0</td>\n",
       "      <td>0</td>\n",
       "    </tr>\n",
       "  </tbody>\n",
       "</table>\n",
       "</div>"
      ],
      "text/plain": [
       "ft                1     2     3      4      5      6       7       99\n",
       "roadway                                                              \n",
       "cycleway           0     0     0      0      0      0       0   99107\n",
       "footway            0     0     0      0      0      0       0  247489\n",
       "motorway        2774     0     0      0      0      0       0       0\n",
       "motorway_link      0     0  4983      0      0      0       0       0\n",
       "primary            0     0     0  15505   8432   2555       0       0\n",
       "primary_link       0     0     0      0      0   1506       0       0\n",
       "residential        0     0     0      0      0      0  538666       0\n",
       "secondary          0     0     0  17933  24996  25600       0       0\n",
       "secondary_link     0     0     0      0      0   1566       0       0\n",
       "service            0     0     0      0      0      0       0  541490\n",
       "tertiary           0     0     0   4894  24034  65019       0       0\n",
       "tertiary_link      0     0     0      0      0    611       0       0\n",
       "trunk              0  3252     0      0    882     26       0       0\n",
       "trunk_link         0     0  1382      0      0      0       0       0"
      ]
     },
     "execution_count": 15,
     "metadata": {},
     "output_type": "execute_result"
    }
   ],
   "source": [
    "pd.crosstab(m_net.links_df.roadway, m_net.links_df.ft)"
   ]
  },
  {
   "cell_type": "code",
   "execution_count": null,
   "metadata": {},
   "outputs": [],
   "source": []
  }
 ],
 "metadata": {
  "kernelspec": {
   "display_name": "Python 3",
   "language": "python",
   "name": "python3"
  },
  "language_info": {
   "codemirror_mode": {
    "name": "ipython",
    "version": 3
   },
   "file_extension": ".py",
   "mimetype": "text/x-python",
   "name": "python",
   "nbconvert_exporter": "python",
   "pygments_lexer": "ipython3",
   "version": "3.7.9"
  }
 },
 "nbformat": 4,
 "nbformat_minor": 4
}

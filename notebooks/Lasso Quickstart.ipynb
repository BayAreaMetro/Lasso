{
 "cells": [
  {
   "cell_type": "code",
   "execution_count": 1,
   "metadata": {},
   "outputs": [],
   "source": [
    "import os\n",
    "import pandas as pd\n",
    "from network_wrangler import RoadwayNetwork\n",
    "from network_wrangler import TransitNetwork\n",
    "from network_wrangler import ProjectCard\n",
    "from network_wrangler import Scenario\n",
    "from network_wrangler import WranglerLogger\n",
    "from lasso import ModelRoadwayNetwork\n",
    "import warnings\n",
    "\n",
    "warnings.filterwarnings(\"ignore\")\n",
    "import yaml\n",
    "import sys\n",
    "import ast"
   ]
  },
  {
   "cell_type": "markdown",
   "metadata": {},
   "source": [
    "## Read a Config File\n",
    "\n",
    "Stored as `my_config` variable"
   ]
  },
  {
   "cell_type": "code",
   "execution_count": 11,
   "metadata": {},
   "outputs": [
    {
     "name": "stdout",
     "output_type": "stream",
     "text": [
      "{\n",
      "  \"base_scenario\": {\n",
      "    \"input_dir\": \"examples/stpaul\",\n",
      "    \"shape_file_name\": \"shape.geojson\",\n",
      "    \"link_file_name\": \"link.json\",\n",
      "    \"node_file_name\": \"node.geojson\",\n",
      "    \"transit_directory\": \"\",\n",
      "    \"validate_network\": false\n",
      "  },\n",
      "  \"scenario\": {\n",
      "    \"project_cards_filenames\": [],\n",
      "    \"card_directory\": \"../../network_wrangler/examples/stpaul/project_cards\",\n",
      "    \"glob_search\": \"*attribute*.yml\",\n",
      "    \"tags\": []\n",
      "  },\n",
      "  \"output\": {\n",
      "    \"format\": \"geojson\",\n",
      "    \"directory\": \"\",\n",
      "    \"prefix\": \"\"\n",
      "  }\n",
      "}\n"
     ]
    }
   ],
   "source": [
    "MY_CONFIG_FILE = os.path.join(\n",
    "    os.path.dirname(os.path.abspath('')), \"examples\", \"settings\",\"my_config.yaml\"\n",
    ")\n",
    "\n",
    "with open(MY_CONFIG_FILE) as f:\n",
    "        my_config = yaml.safe_load(f)\n",
    "        \n",
    "import json\n",
    "print(json.dumps(my_config, indent=2))"
   ]
  },
  {
   "cell_type": "markdown",
   "metadata": {},
   "source": [
    "## Create a Base Scenario"
   ]
  },
  {
   "cell_type": "code",
   "execution_count": 15,
   "metadata": {},
   "outputs": [
    {
     "ename": "SystemExit",
     "evalue": "RoadwayNetwork: Data doesn't conform to schema",
     "output_type": "error",
     "traceback": [
      "An exception has occurred, use %tb to see the full traceback.\n",
      "\u001b[0;31mSystemExit\u001b[0m\u001b[0;31m:\u001b[0m RoadwayNetwork: Data doesn't conform to schema\n"
     ]
    }
   ],
   "source": [
    "base_project_path = os.path.dirname(os.path.abspath(''))\n",
    "\n",
    "base_scenario = Scenario.create_base_scenario(\n",
    "        my_config[\"base_scenario\"][\"shape_file_name\"],\n",
    "        my_config[\"base_scenario\"][\"link_file_name\"],\n",
    "        my_config[\"base_scenario\"][\"node_file_name\"],\n",
    "        base_dir=os.path.join(base_project_path,my_config[\"base_scenario\"][\"input_dir\"]),\n",
    "    )"
   ]
  },
  {
   "cell_type": "markdown",
   "metadata": {},
   "source": [
    "#### Create project cards from projects that are explicitely specified in config\n"
   ]
  },
  {
   "cell_type": "code",
   "execution_count": 22,
   "metadata": {},
   "outputs": [],
   "source": [
    "if len(my_config[\"scenario\"][\"project_cards_filenames\"]) > 0:\n",
    "    project_cards_list = [\n",
    "        ProjectCard.read(filename, validate=False)\n",
    "        for filename in my_config[\"scenario\"][\"project_cards_filenames\"]\n",
    "    ]\n",
    "    project_cards_list"
   ]
  },
  {
   "cell_type": "markdown",
   "metadata": {},
   "source": [
    "## Create Scenario"
   ]
  },
  {
   "cell_type": "code",
   "execution_count": null,
   "metadata": {},
   "outputs": [],
   "source": [
    "my_scenario = Scenario.create_scenario(\n",
    "    base_scenario=base_scenario,\n",
    "    card_directory=my_config[\"scenario\"][\"card_directory\"],\n",
    "    tags=my_config[\"scenario\"][\"tags\"],\n",
    "    project_cards_list=project_cards_list,\n",
    "    glob_search=my_config[\"scenario\"][\"glob_search\"],\n",
    ")"
   ]
  },
  {
   "cell_type": "markdown",
   "metadata": {},
   "source": [
    "### Apply all projects in scenario"
   ]
  },
  {
   "cell_type": "code",
   "execution_count": null,
   "metadata": {},
   "outputs": [],
   "source": [
    "my_scenario.apply_all_projects()"
   ]
  },
  {
   "cell_type": "markdown",
   "metadata": {},
   "source": [
    "# Write out as MetCouncil Model Network"
   ]
  },
  {
   "cell_type": "markdown",
   "metadata": {},
   "source": [
    "model_road_net = ModelRoadwayNetwork.from_RoadwayNetwork(\n",
    "    my_scenario.road_net, parameters=my_config.get(\"my_parameters\", {})\n",
    ")"
   ]
  },
  {
   "cell_type": "code",
   "execution_count": null,
   "metadata": {},
   "outputs": [],
   "source": [
    "model_road_net.write_roadway_as_shp()"
   ]
  }
 ],
 "metadata": {
  "kernelspec": {
   "display_name": "Python 3",
   "language": "python",
   "name": "python3"
  },
  "language_info": {
   "codemirror_mode": {
    "name": "ipython",
    "version": 3
   },
   "file_extension": ".py",
   "mimetype": "text/x-python",
   "name": "python",
   "nbconvert_exporter": "python",
   "pygments_lexer": "ipython3",
   "version": "3.7.3"
  }
 },
 "nbformat": 4,
 "nbformat_minor": 2
}

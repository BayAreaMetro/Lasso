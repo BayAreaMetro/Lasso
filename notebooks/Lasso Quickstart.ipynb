{
 "cells": [
  {
   "cell_type": "code",
   "execution_count": 1,
   "metadata": {},
   "outputs": [],
   "source": [
    "import os\n",
    "import sys\n",
    "import yaml\n",
    "\n",
    "import pandas as pd\n",
    "\n",
    "from network_wrangler import RoadwayNetwork\n",
    "from network_wrangler import TransitNetwork\n",
    "from network_wrangler import ProjectCard\n",
    "from network_wrangler import Scenario\n",
    "from network_wrangler import WranglerLogger\n",
    "\n",
    "from lasso import ModelRoadwayNetwork"
   ]
  },
  {
   "cell_type": "code",
   "execution_count": 2,
   "metadata": {},
   "outputs": [],
   "source": [
    "import warnings\n",
    "warnings.filterwarnings(\"ignore\")\n",
    "%load_ext autoreload\n",
    "%autoreload 2"
   ]
  },
  {
   "cell_type": "code",
   "execution_count": 3,
   "metadata": {},
   "outputs": [],
   "source": [
    "import logging\n",
    "logger = logging.getLogger(\"WranglerLogger\")\n",
    "logger.handlers[0].stream = sys.stdout\n",
    "# if you don't want to see so much detail, set to logging.INFO or DEBUG\n",
    "logger.setLevel(logging.DEBUG)"
   ]
  },
  {
   "cell_type": "code",
   "execution_count": null,
   "metadata": {},
   "outputs": [],
   "source": []
  },
  {
   "cell_type": "markdown",
   "metadata": {},
   "source": [
    "## Read a Config File\n",
    "\n",
    "Stored as `my_config` variable"
   ]
  },
  {
   "cell_type": "code",
   "execution_count": 4,
   "metadata": {},
   "outputs": [
    {
     "name": "stdout",
     "output_type": "stream",
     "text": [
      "{\n",
      "  \"base_scenario\": {\n",
      "    \"input_dir\": \"examples/stpaul\",\n",
      "    \"shape_file_name\": \"shape.geojson\",\n",
      "    \"link_file_name\": \"link.json\",\n",
      "    \"node_file_name\": \"node.geojson\",\n",
      "    \"transit_directory\": \"\",\n",
      "    \"validate_network\": false\n",
      "  },\n",
      "  \"scenario\": {\n",
      "    \"project_cards_filenames\": [],\n",
      "    \"card_directory\": \"examples/stpaul/project_cards\",\n",
      "    \"glob_search\": \"*simple*.yml\",\n",
      "    \"tags\": []\n",
      "  },\n",
      "  \"output\": {\n",
      "    \"format\": \"geojson\",\n",
      "    \"directory\": \"\",\n",
      "    \"prefix\": \"\"\n",
      "  }\n",
      "}\n"
     ]
    }
   ],
   "source": [
    "MY_CONFIG_FILE = os.path.join(\n",
    "    os.path.dirname(os.path.abspath('')), \"examples\", \"settings\",\"my_config.yaml\"\n",
    ")\n",
    "\n",
    "with open(MY_CONFIG_FILE) as f:\n",
    "        my_config = yaml.safe_load(f)\n",
    "        \n",
    "import json\n",
    "print(json.dumps(my_config, indent=2))\n",
    "\n",
    "## Alternatively this could be written in the notebook our selected via a notebook GUI"
   ]
  },
  {
   "cell_type": "markdown",
   "metadata": {},
   "source": [
    "## Create a Base Scenario"
   ]
  },
  {
   "cell_type": "code",
   "execution_count": 5,
   "metadata": {},
   "outputs": [
    {
     "name": "stdout",
     "output_type": "stream",
     "text": [
      "2019-11-21 16:56:22, INFO: Base Wrangler Path: /Users/elizabeth/Documents/urbanlabs/MetCouncil/working/network_wrangler\n",
      "2019-11-21 16:56:22, INFO: Reading from following files:\n",
      "-/Users/elizabeth/Documents/urbanlabs/MetCouncil/working/network_wrangler/examples/stpaul/link.json\n",
      "-/Users/elizabeth/Documents/urbanlabs/MetCouncil/working/network_wrangler/examples/stpaul/node.geojson\n",
      "-/Users/elizabeth/Documents/urbanlabs/MetCouncil/working/network_wrangler/examples/stpaul/shape.geojson.\n",
      "2019-11-21 16:56:54, INFO: Read 2054339 links from /Users/elizabeth/Documents/urbanlabs/MetCouncil/working/network_wrangler/examples/stpaul/link.json\n",
      "2019-11-21 16:56:54, INFO: Read 205908 nodes from /Users/elizabeth/Documents/urbanlabs/MetCouncil/working/network_wrangler/examples/stpaul/node.geojson\n",
      "2019-11-21 16:56:54, INFO: Read 331345 shapes from /Users/elizabeth/Documents/urbanlabs/MetCouncil/working/network_wrangler/examples/stpaul/shape.geojson\n",
      "2019-11-21 16:56:54, INFO: Removing calendar.txt from transit network config because file not found\n",
      "2019-11-21 16:56:54, INFO: Removing calendar_dates.txt from transit network config because file not found\n",
      "2019-11-21 16:56:54, INFO: Removing fare_attributes.txt from transit network config because file not found\n",
      "2019-11-21 16:56:54, INFO: Removing fare_rules.txt from transit network config because file not found\n",
      "2019-11-21 16:56:54, INFO: Removing feed_info.txt from transit network config because file not found\n",
      "2019-11-21 16:56:54, DEBUG: starting ox_graph()\n",
      "2019-11-21 16:56:54, DEBUG: GRAPH NODES: Index(['model_node_id', 'osm_node_id', 'shstReferenceId', 'transit_node',\n",
      "       'drive_node', 'walk_node', 'bike_node', 'geometry', 'x', 'y'],\n",
      "      dtype='object')\n",
      "2019-11-21 16:56:54, DEBUG: starting ox.gdfs_to_graph()\n",
      "2019-11-21 16:57:04, DEBUG: finished ox.gdfs_to_graph()\n"
     ]
    }
   ],
   "source": [
    "base_wrangler_path = os.path.join(os.path.dirname((os.path.dirname(os.path.abspath('')))),\"network_wrangler\")\n",
    "WranglerLogger.info(\"Base Wrangler Path: {}\".format(base_wrangler_path))\n",
    "\n",
    "base_scenario = Scenario.create_base_scenario(\n",
    "        my_config[\"base_scenario\"][\"shape_file_name\"],\n",
    "        my_config[\"base_scenario\"][\"link_file_name\"],\n",
    "        my_config[\"base_scenario\"][\"node_file_name\"],\n",
    "        base_dir=os.path.join(base_wrangler_path,my_config[\"base_scenario\"][\"input_dir\"]),\n",
    "    )"
   ]
  },
  {
   "cell_type": "markdown",
   "metadata": {},
   "source": [
    "#### Create project cards from projects that are explicitely specified in config\n"
   ]
  },
  {
   "cell_type": "code",
   "execution_count": 6,
   "metadata": {},
   "outputs": [
    {
     "data": {
      "text/plain": [
       "[]"
      ]
     },
     "execution_count": 6,
     "metadata": {},
     "output_type": "execute_result"
    }
   ],
   "source": [
    "if len(my_config[\"scenario\"][\"project_cards_filenames\"]) > 0:\n",
    "    project_cards_list = [\n",
    "        ProjectCard.read(filename, validate=False)\n",
    "        for filename in my_config[\"scenario\"][\"project_cards_filenames\"]\n",
    "    ]\n",
    "else: \n",
    "    project_cards_list = []\n",
    "project_cards_list"
   ]
  },
  {
   "cell_type": "markdown",
   "metadata": {},
   "source": [
    "## Create Scenario"
   ]
  },
  {
   "cell_type": "code",
   "execution_count": 7,
   "metadata": {},
   "outputs": [
    {
     "name": "stdout",
     "output_type": "stream",
     "text": [
      "2019-11-21 16:57:04, INFO: Creating Scenario\n",
      "2019-11-21 16:57:04, DEBUG: Adding project cards from directory.\n",
      "Dir: /Users/elizabeth/Documents/urbanlabs/MetCouncil/working/network_wrangler/examples/stpaul/project_cards\n",
      "2019-11-21 16:57:04, DEBUG: Adding project cards using glob search: *simple*.yml\n",
      "2019-11-21 16:57:04, DEBUG: Trying to add project card from file: /Users/elizabeth/Documents/urbanlabs/MetCouncil/working/network_wrangler/examples/stpaul/project_cards/9_simple_transit_attribute_change.yml\n",
      "2019-11-21 16:57:04, DEBUG: Adding project card to scenario: Improve Express Bus Frequency\n",
      "2019-11-21 16:57:04, DEBUG: Adding project card dependencies\n",
      "2019-11-21 16:57:04, DEBUG: Trying to add project card from file: /Users/elizabeth/Documents/urbanlabs/MetCouncil/working/network_wrangler/examples/stpaul/project_cards/1_simple_roadway_attribute_change.yml\n",
      "2019-11-21 16:57:04, DEBUG: Adding project card to scenario: 6th St E Road Diet\n",
      "2019-11-21 16:57:04, DEBUG: Adding project card dependencies\n",
      "2019-11-21 16:57:04, DEBUG: Trying to add project card from file: /Users/elizabeth/Documents/urbanlabs/MetCouncil/working/network_wrangler/examples/stpaul/project_cards/10_simple_roadway_add_change.yml\n",
      "2019-11-21 16:57:04, DEBUG: Adding project card to scenario: test simple roadway add\n",
      "2019-11-21 16:57:04, DEBUG: Adding project card dependencies\n",
      "2019-11-21 16:57:04, DEBUG: Trying to add project card from file: /Users/elizabeth/Documents/urbanlabs/MetCouncil/working/network_wrangler/examples/stpaul/project_cards/8_simple_transit_attribute_change.yml\n",
      "2019-11-21 16:57:04, DEBUG: Adding project card to scenario: Blue Line Service Enhancement C\n",
      "2019-11-21 16:57:04, DEBUG: Adding project card dependencies\n",
      "2019-11-21 16:57:04, DEBUG: Trying to add project card from file: /Users/elizabeth/Documents/urbanlabs/MetCouncil/working/network_wrangler/examples/stpaul/project_cards/4_simple_managed_lane.yml\n",
      "2019-11-21 16:57:04, DEBUG: Adding project card to scenario: test managed lane project\n",
      "2019-11-21 16:57:04, DEBUG: Adding project card dependencies\n",
      "2019-11-21 16:57:04, DEBUG: Trying to add project card from file: /Users/elizabeth/Documents/urbanlabs/MetCouncil/working/network_wrangler/examples/stpaul/project_cards/7_simple_transit_attribute_change.yml\n",
      "2019-11-21 16:57:04, DEBUG: Adding project card to scenario: Blue Line Service Enhancement A\n",
      "2019-11-21 16:57:04, DEBUG: Adding project card dependencies\n"
     ]
    }
   ],
   "source": [
    "my_scenario = None\n",
    "my_scenario = Scenario.create_scenario(\n",
    "    base_scenario=base_scenario,\n",
    "    card_directory=os.path.join(base_wrangler_path,my_config[\"scenario\"][\"card_directory\"]),\n",
    "    tags=my_config[\"scenario\"][\"tags\"],\n",
    "    project_cards_list=project_cards_list,\n",
    "    glob_search=my_config[\"scenario\"][\"glob_search\"],\n",
    "    validate_project_cards=False,\n",
    ")"
   ]
  },
  {
   "cell_type": "markdown",
   "metadata": {},
   "source": [
    "### Apply all projects in scenario"
   ]
  },
  {
   "cell_type": "code",
   "execution_count": 8,
   "metadata": {},
   "outputs": [
    {
     "data": {
      "text/plain": [
       "['Improve Express Bus Frequency',\n",
       " '6th St E Road Diet',\n",
       " 'test simple roadway add',\n",
       " 'Blue Line Service Enhancement C',\n",
       " 'test managed lane project',\n",
       " 'Blue Line Service Enhancement A']"
      ]
     },
     "execution_count": 8,
     "metadata": {},
     "output_type": "execute_result"
    }
   ],
   "source": [
    "my_scenario.get_project_names()"
   ]
  },
  {
   "cell_type": "code",
   "execution_count": 9,
   "metadata": {},
   "outputs": [
    {
     "name": "stdout",
     "output_type": "stream",
     "text": [
      "2019-11-21 16:57:04, DEBUG: Ordered Project Cards: {'blue line service enhancement a': <network_wrangler.ProjectCard.ProjectCard object at 0x11614f0f0>, 'test managed lane project': <network_wrangler.ProjectCard.ProjectCard object at 0x11beda908>, 'blue line service enhancement c': <network_wrangler.ProjectCard.ProjectCard object at 0x11c556d68>, 'test simple roadway add': <network_wrangler.ProjectCard.ProjectCard object at 0x11bedacf8>, '6th st e road diet': <network_wrangler.ProjectCard.ProjectCard object at 0x11c55e5f8>, 'improve express bus frequency': <network_wrangler.ProjectCard.ProjectCard object at 0x11beea908>}\n",
      "2019-11-21 16:57:04, DEBUG: Project Cards: [<network_wrangler.ProjectCard.ProjectCard object at 0x11614f0f0>, <network_wrangler.ProjectCard.ProjectCard object at 0x11beda908>, <network_wrangler.ProjectCard.ProjectCard object at 0x11c556d68>, <network_wrangler.ProjectCard.ProjectCard object at 0x11bedacf8>, <network_wrangler.ProjectCard.ProjectCard object at 0x11c55e5f8>, <network_wrangler.ProjectCard.ProjectCard object at 0x11beea908>]\n",
      "2019-11-21 16:57:04, INFO: Applying Blue Line Service Enhancement A\n",
      "2019-11-21 16:57:04, INFO: Applying Project to Transit Network: Blue Line Service Enhancement A\n",
      "2019-11-21 16:57:04, INFO: Applying test managed lane project\n",
      "2019-11-21 16:57:04, INFO: Applying Project to Roadway Network: test managed lane project\n",
      "2019-11-21 16:57:04, DEBUG: validating selection\n",
      "2019-11-21 16:57:04, DEBUG: Selection Key: ('((name.str.contains(\"I 35E\")) and drive_access==1)', '961117623', '2564047368')\n",
      "2019-11-21 16:57:04, DEBUG: Building selection query\n",
      "2019-11-21 16:57:04, DEBUG: Selecting features:\n",
      "((name.str.contains(\"I 35E\")) and drive_access==1)\n",
      "2019-11-21 16:57:04, DEBUG: Completed query\n",
      "2019-11-21 16:57:04, INFO: No candidate links in initial search.\n",
      "Retrying query using 'ref' instead of 'name'\n",
      "2019-11-21 16:57:04, DEBUG: Trying selection query replacing 'name' with 'ref'\n",
      "2019-11-21 16:57:04, DEBUG: Not a unique ID selection, conduct search\n",
      "2019-11-21 16:57:04, DEBUG: Foreign key list: ['961069462', '961117623', '961117695', '2564047368', '2307229054', '2307229071', '961117623', '2307229071', '961117623', '187845184', '2564047368', '2564047368']\n",
      "2019-11-21 16:57:04, DEBUG: calculating shortest path from graph\n",
      "2019-11-21 16:57:04, DEBUG: _shortest_path(): calculating shortest path from graph\n",
      "2019-11-21 16:57:04, DEBUG: creating network graph\n",
      "2019-11-21 16:57:04, DEBUG: starting ox_graph()\n",
      "2019-11-21 16:57:04, DEBUG: GRAPH NODES: Index(['model_node_id', 'osm_node_id', 'shstReferenceId', 'transit_node',\n",
      "       'drive_node', 'walk_node', 'bike_node', 'geometry', 'x', 'y'],\n",
      "      dtype='object')\n",
      "2019-11-21 16:57:04, DEBUG: starting ox.gdfs_to_graph()\n",
      "2019-11-21 16:57:04, DEBUG: finished ox.gdfs_to_graph()\n",
      "2019-11-21 16:57:04, DEBUG: calculating NX shortest path\n",
      "2019-11-21 16:57:04, INFO: Applying Blue Line Service Enhancement C\n",
      "2019-11-21 16:57:04, INFO: Applying Project to Transit Network: Blue Line Service Enhancement C\n",
      "2019-11-21 16:57:04, INFO: Applying test simple roadway add\n",
      "2019-11-21 16:57:04, INFO: Applying Project to Roadway Network: test simple roadway add\n",
      "2019-11-21 16:57:05, INFO: Applying 6th St E Road Diet\n",
      "2019-11-21 16:57:05, INFO: Applying Project to Roadway Network: 6th St E Road Diet\n",
      "2019-11-21 16:57:05, DEBUG: validating selection\n",
      "2019-11-21 16:57:05, DEBUG: Selection Key: ('((osm_link_id.str.contains(\"223371529\")) and drive_access==1)', '187854529', '187899923')\n",
      "2019-11-21 16:57:05, DEBUG: Building selection query\n",
      "2019-11-21 16:57:05, DEBUG: Selecting features:\n",
      "((osm_link_id.str.contains(\"223371529\")) and drive_access==1)\n",
      "2019-11-21 16:57:05, DEBUG: Completed query\n",
      "2019-11-21 16:57:05, DEBUG: Not a unique ID selection, conduct search\n",
      "2019-11-21 16:57:05, DEBUG: Foreign key list: ['187854529', '187899923', '187916875', '187899923', '187858777', '187854529']\n",
      "2019-11-21 16:57:05, DEBUG: calculating shortest path from graph\n",
      "2019-11-21 16:57:05, DEBUG: _shortest_path(): calculating shortest path from graph\n",
      "2019-11-21 16:57:05, DEBUG: creating network graph\n",
      "2019-11-21 16:57:05, DEBUG: starting ox_graph()\n",
      "2019-11-21 16:57:05, DEBUG: GRAPH NODES: Index(['model_node_id', 'osm_node_id', 'shstReferenceId', 'transit_node',\n",
      "       'drive_node', 'walk_node', 'bike_node', 'geometry', 'x', 'y'],\n",
      "      dtype='object')\n",
      "2019-11-21 16:57:05, DEBUG: starting ox.gdfs_to_graph()\n",
      "2019-11-21 16:57:05, DEBUG: finished ox.gdfs_to_graph()\n",
      "2019-11-21 16:57:05, DEBUG: calculating NX shortest path\n",
      "2019-11-21 16:57:05, WARNING: Existing value defined for lanes in project card does not match the value in the roadway network for the selected links\n",
      "2019-11-21 16:57:05, INFO: Applying Improve Express Bus Frequency\n",
      "2019-11-21 16:57:05, INFO: Applying Project to Transit Network: Improve Express Bus Frequency\n"
     ]
    }
   ],
   "source": [
    "my_scenario.apply_all_projects()"
   ]
  },
  {
   "cell_type": "code",
   "execution_count": 10,
   "metadata": {},
   "outputs": [
    {
     "data": {
      "text/plain": [
       "['Blue Line Service Enhancement A',\n",
       " 'test managed lane project',\n",
       " 'Blue Line Service Enhancement C',\n",
       " 'test simple roadway add',\n",
       " '6th St E Road Diet',\n",
       " 'Improve Express Bus Frequency']"
      ]
     },
     "execution_count": 10,
     "metadata": {},
     "output_type": "execute_result"
    }
   ],
   "source": [
    "my_scenario.applied_projects"
   ]
  },
  {
   "cell_type": "markdown",
   "metadata": {},
   "source": [
    "# Write out as MetCouncil Model Network"
   ]
  },
  {
   "cell_type": "code",
   "execution_count": 46,
   "metadata": {},
   "outputs": [],
   "source": [
    "model_road_net = ModelRoadwayNetwork.from_RoadwayNetwork(\n",
    "    my_scenario.road_net, parameters=my_config.get(\"my_parameters\", {})\n",
    ")"
   ]
  },
  {
   "cell_type": "code",
   "execution_count": 29,
   "metadata": {},
   "outputs": [
    {
     "name": "stdout",
     "output_type": "stream",
     "text": [
      "model_link_id\n",
      "osm_link_id\n",
      "shstReferenceId\n",
      "shstGeometryId\n",
      "u\n",
      "v\n",
      "A\n",
      "B\n",
      "access\n",
      "area\n",
      "bridge\n",
      "highway\n",
      "length\n",
      "maxspeed\n",
      "name\n",
      "oneway\n",
      "tunnel\n",
      "width\n",
      "lanes\n",
      "distance\n",
      "HOV_access\n",
      "transit_priority\n",
      "traveltime_assert\n",
      "transit_access\n",
      "drive_access\n",
      "walk_access\n",
      "bike_access\n",
      "transit_walk_access\n",
      "locationReferences\n",
      "ref\n",
      "geometry\n",
      "ML\n",
      "ML_lanes\n",
      "ML_price\n",
      "ML_access\n",
      "ML_egress\n"
     ]
    }
   ],
   "source": [
    "print(\"\\n\".join(model_road_net.links_df.columns))"
   ]
  },
  {
   "cell_type": "code",
   "execution_count": 30,
   "metadata": {},
   "outputs": [
    {
     "data": {
      "text/plain": [
       "<matplotlib.axes._subplots.AxesSubplot at 0x12e350710>"
      ]
     },
     "execution_count": 30,
     "metadata": {},
     "output_type": "execute_result"
    },
    {
     "data": {
      "image/png": "[encoded data removed]",
      "text/plain": [
       "<Figure size 432x288 with 1 Axes>"
      ]
     },
     "metadata": {
      "needs_background": "light"
     },
     "output_type": "display_data"
    }
   ],
   "source": [
    "model_road_net.links_df.plot(\"bike_access\")"
   ]
  },
  {
   "cell_type": "code",
   "execution_count": 47,
   "metadata": {},
   "outputs": [
    {
     "name": "stdout",
     "output_type": "stream",
     "text": [
      "2019-11-22 09:07:11, INFO: Renaming roadway attributes to be consistent with what metcouncil's model is expecting\n",
      "2019-11-22 09:07:11, INFO: Creating network with duplicated managed lanes\n",
      "2019-11-22 09:07:12, INFO: Calculating additional variables\n",
      "2019-11-22 09:07:12, INFO: Creating calculated roadway variables.\n",
      "2019-11-22 09:07:12, INFO: Calculating Area Type from Spatial Data and adding as roadway network variable: area_type\n",
      "2019-11-22 09:07:12, DEBUG: Reading Area Type Shapefile /Users/elizabeth/Documents/urbanlabs/MetCouncil/working/client_met_council_wrangler_utilities/metcouncil_data/area_type/ThriveMSP2040CommunityDesignation.shp\n",
      "2019-11-22 09:07:17, DEBUG: Area Type Codes Used: {23: 4, 24: 3, 25: 2, 35: 2, 36: 1, 41: 1, 51: 1, 52: 1, 53: 1, 60: 1}\n",
      "2019-11-22 09:07:17, INFO: Finished Calculating Area Type from Spatial Data into variable: area_type\n",
      "2019-11-22 09:07:17, INFO: Adding roadway network variable for county: county\n",
      "2019-11-22 09:07:21, INFO: Calculating Centroid Connector and adding as roadway network variable: centroid_connector\n",
      "2019-11-22 09:07:21, DEBUG: Calculating Centroid Connectors using highest TAZ number: 3100\n",
      "2019-11-22 09:07:21, INFO: Finished calculating centroid connector variable: centroid_connector\n",
      "2019-11-22 09:07:21, INFO: Calculating MPO as roadway network variable: mpo\n",
      "2019-11-22 09:07:21, DEBUG: MPO Counties: ANOKA,DAKOTA,HENNEPIN,RAMSEY,SCOTT,WASHINGTON,CARVER\n",
      "2019-11-22 09:07:21, INFO: Finished calculating MPO variable: mpo\n",
      "2019-11-22 09:07:21, INFO: Adding Counts\n",
      "2019-11-22 09:07:21, DEBUG: Adding MNDOT Counts using \n",
      "- shst file: /Users/elizabeth/Documents/urbanlabs/MetCouncil/working/client_met_council_wrangler_utilities/metcouncil_data/count_mn/mn_count_ShSt_API_match.csv\n",
      "- shp file: AADT_mn\n",
      "- as network variable: AADT\n",
      "2019-11-22 09:07:21, INFO: Adding Variable AADT using Shared Streets Reference from /Users/elizabeth/Documents/urbanlabs/MetCouncil/working/client_met_council_wrangler_utilities/metcouncil_data/count_mn/mn_count_ShSt_API_match.csv\n",
      "2019-11-22 09:07:22, INFO: Added variable: AADT using Shared Streets Reference\n",
      "2019-11-22 09:07:22, DEBUG: Adding WiDot Counts using \n",
      "- shst file: /Users/elizabeth/Documents/urbanlabs/MetCouncil/working/client_met_council_wrangler_utilities/metcouncil_data/Wisconsin_Lanes_Counts_Median/wi_count_ShSt_API_match.csv\n",
      "- shp file: AADT_wi\n",
      "- as network variable: AADT\n",
      "2019-11-22 09:07:22, INFO: Adding Variable AADT using Shared Streets Reference from /Users/elizabeth/Documents/urbanlabs/MetCouncil/working/client_met_council_wrangler_utilities/metcouncil_data/Wisconsin_Lanes_Counts_Median/wi_count_ShSt_API_match.csv\n",
      "2019-11-22 09:07:22, INFO: Added variable: AADT using Shared Streets Reference\n",
      "2019-11-22 09:07:22, INFO: Finished adding counts variable: AADT\n",
      "2019-11-22 09:07:22, INFO: Splitting variables by time period and category\n",
      "2019-11-22 09:07:22, DEBUG: \n",
      "Couldn't find time period for (32400, 57600), returning default\n",
      "2019-11-22 09:07:22, DEBUG: \n",
      "Couldn't find time period for (32400, 57600), returning default\n",
      "2019-11-22 09:07:22, DEBUG: \n",
      "Couldn't find time period for (32400, 57600), returning default\n",
      "2019-11-22 09:07:22, DEBUG: \n",
      "Couldn't find time period for (32400, 57600), returning default\n",
      "2019-11-22 09:07:22, DEBUG: \n",
      "Couldn't find time period for (57600, 68400), returning default\n",
      "2019-11-22 09:07:22, DEBUG: \n",
      "Couldn't find time period for (57600, 68400), returning default\n",
      "2019-11-22 09:07:22, DEBUG: \n",
      "Couldn't find time period for (57600, 68400), returning default\n",
      "2019-11-22 09:07:22, DEBUG: \n",
      "Couldn't find time period for (57600, 68400), returning default\n",
      "2019-11-22 09:07:22, DEBUG: \n",
      "Couldn't find time period for (32400, 57600), returning default\n",
      "2019-11-22 09:07:22, DEBUG: \n",
      "Couldn't find time period for (32400, 57600), returning default\n",
      "2019-11-22 09:07:23, DEBUG: \n",
      "Couldn't find time period for (32400, 57600), returning default\n",
      "2019-11-22 09:07:23, DEBUG: \n",
      "Couldn't find time period for (32400, 57600), returning default\n",
      "2019-11-22 09:07:23, DEBUG: \n",
      "Couldn't find time period for (32400, 57600), returning default\n",
      "2019-11-22 09:07:23, DEBUG: \n",
      "Couldn't find time period for (32400, 57600), returning default\n",
      "2019-11-22 09:07:23, DEBUG: \n",
      "Couldn't find time period for (32400, 57600), returning default\n",
      "2019-11-22 09:07:23, DEBUG: \n",
      "Couldn't find time period for (32400, 57600), returning default\n",
      "2019-11-22 09:07:23, DEBUG: \n",
      "Couldn't find time period for (57600, 68400), returning default\n",
      "2019-11-22 09:07:23, DEBUG: \n",
      "Couldn't find time period for (57600, 68400), returning default\n",
      "2019-11-22 09:07:23, DEBUG: \n",
      "Couldn't find time period for (57600, 68400), returning default\n",
      "2019-11-22 09:07:23, DEBUG: \n",
      "Couldn't find time period for (57600, 68400), returning default\n",
      "2019-11-22 09:07:23, DEBUG: \n",
      "Couldn't find time period for (57600, 68400), returning default\n",
      "2019-11-22 09:07:23, DEBUG: \n",
      "Couldn't find time period for (57600, 68400), returning default\n",
      "2019-11-22 09:07:23, DEBUG: \n",
      "Couldn't find time period for (57600, 68400), returning default\n",
      "2019-11-22 09:07:23, DEBUG: \n",
      "Couldn't find time period for (57600, 68400), returning default\n",
      "2019-11-22 09:07:23, INFO: Setting Coordinate Reference System\n",
      "2019-11-22 09:07:23, INFO: Setting Coordinate Reference System to EPSG 26915\n",
      "2019-11-22 09:07:26, INFO: shapes geometry 0        LINESTRING (-93.08377 44.96334, -93.08376 44.9...\n",
      "1        LINESTRING (-93.08553 44.96621, -93.08524 44.9...\n",
      "2        LINESTRING (-93.08553 44.96621, -93.08574 44.9...\n",
      "3        LINESTRING (-93.08553 44.96621, -93.08554 44.9...\n",
      "4        LINESTRING (-93.08431 44.96570, -93.08419 44.9...\n",
      "                               ...                        \n",
      "66264    LINESTRING (-93.09748 44.95421, -93.09775 44.9...\n",
      "66265    LINESTRING (-93.10538 44.95590, -93.10567 44.9...\n",
      "66266    LINESTRING (-93.11637 44.95586, -93.11628 44.9...\n",
      "66267    LINESTRING (-93.12660 44.95582, -93.12650 44.9...\n",
      "66268    LINESTRING (-93.13668 44.95582, -93.13663 44.9...\n",
      "Name: geometry, Length: 66269, dtype: geometry\n"
     ]
    }
   ],
   "source": [
    "model_road_net.roadway_standard_to_met_council_network()"
   ]
  },
  {
   "cell_type": "code",
   "execution_count": 52,
   "metadata": {},
   "outputs": [
    {
     "name": "stdout",
     "output_type": "stream",
     "text": [
      "2019-11-22 09:26:50, INFO: Writing Network as Shapefile\n",
      "2019-11-22 09:26:50, INFO: Renaming roadway attributes to be consistent with what metcouncil's model is expecting\n",
      "2019-11-22 09:26:50, INFO: Creating network with duplicated managed lanes\n",
      "2019-11-22 09:26:50, ERROR: managed lane access links already exist in network; shouldn't be running create managed lane network. Returning network as-is.\n",
      "2019-11-22 09:26:50, INFO: Calculating additional variables\n",
      "2019-11-22 09:26:50, INFO: Creating calculated roadway variables.\n",
      "2019-11-22 09:26:50, INFO: Area Type Variable 'area_type' already in network. Returning without overwriting.\n",
      "2019-11-22 09:26:50, INFO: County Variable 'county' already in network. Returning without overwriting.\n",
      "2019-11-22 09:26:50, INFO: Centroid Connector Variable 'centroid_connector' already in network. Returning without overwriting.\n",
      "2019-11-22 09:26:50, INFO: MPO Variable 'mpo' already in network. Returning without overwriting.\n",
      "2019-11-22 09:26:50, INFO: Adding Counts\n",
      "2019-11-22 09:26:50, DEBUG: Adding MNDOT Counts using \n",
      "- shst file: /Users/elizabeth/Documents/urbanlabs/MetCouncil/working/client_met_council_wrangler_utilities/metcouncil_data/count_mn/mn_count_ShSt_API_match.csv\n",
      "- shp file: AADT_mn\n",
      "- as network variable: AADT\n",
      "2019-11-22 09:26:50, INFO: Adding Variable AADT using Shared Streets Reference from /Users/elizabeth/Documents/urbanlabs/MetCouncil/working/client_met_council_wrangler_utilities/metcouncil_data/count_mn/mn_count_ShSt_API_match.csv\n",
      "2019-11-22 09:26:50, INFO: Added variable: AADT using Shared Streets Reference\n",
      "2019-11-22 09:26:50, DEBUG: Adding WiDot Counts using \n",
      "- shst file: /Users/elizabeth/Documents/urbanlabs/MetCouncil/working/client_met_council_wrangler_utilities/metcouncil_data/Wisconsin_Lanes_Counts_Median/wi_count_ShSt_API_match.csv\n",
      "- shp file: AADT_wi\n",
      "- as network variable: AADT\n",
      "2019-11-22 09:26:50, INFO: Adding Variable AADT using Shared Streets Reference from /Users/elizabeth/Documents/urbanlabs/MetCouncil/working/client_met_council_wrangler_utilities/metcouncil_data/Wisconsin_Lanes_Counts_Median/wi_count_ShSt_API_match.csv\n",
      "2019-11-22 09:26:51, INFO: Added variable: AADT using Shared Streets Reference\n",
      "2019-11-22 09:26:51, INFO: Finished adding counts variable: AADT\n",
      "2019-11-22 09:26:51, INFO: Splitting variables by time period and category\n",
      "2019-11-22 09:26:51, DEBUG: \n",
      "Couldn't find time period for (32400, 57600), returning default\n",
      "2019-11-22 09:26:51, DEBUG: \n",
      "Couldn't find time period for (32400, 57600), returning default\n",
      "2019-11-22 09:26:51, DEBUG: \n",
      "Couldn't find time period for (32400, 57600), returning default\n",
      "2019-11-22 09:26:51, DEBUG: \n",
      "Couldn't find time period for (32400, 57600), returning default\n",
      "2019-11-22 09:26:51, DEBUG: \n",
      "Couldn't find time period for (57600, 68400), returning default\n",
      "2019-11-22 09:26:51, DEBUG: \n",
      "Couldn't find time period for (57600, 68400), returning default\n",
      "2019-11-22 09:26:51, DEBUG: \n",
      "Couldn't find time period for (57600, 68400), returning default\n",
      "2019-11-22 09:26:51, DEBUG: \n",
      "Couldn't find time period for (57600, 68400), returning default\n",
      "2019-11-22 09:26:51, DEBUG: \n",
      "Couldn't find time period for (32400, 57600), returning default\n",
      "2019-11-22 09:26:51, DEBUG: \n",
      "Couldn't find time period for (32400, 57600), returning default\n",
      "2019-11-22 09:26:51, DEBUG: \n",
      "Couldn't find time period for (32400, 57600), returning default\n",
      "2019-11-22 09:26:51, DEBUG: \n",
      "Couldn't find time period for (32400, 57600), returning default\n",
      "2019-11-22 09:26:51, DEBUG: \n",
      "Couldn't find time period for (32400, 57600), returning default\n",
      "2019-11-22 09:26:51, DEBUG: \n",
      "Couldn't find time period for (32400, 57600), returning default\n",
      "2019-11-22 09:26:52, DEBUG: \n",
      "Couldn't find time period for (32400, 57600), returning default\n",
      "2019-11-22 09:26:52, DEBUG: \n",
      "Couldn't find time period for (32400, 57600), returning default\n",
      "2019-11-22 09:26:52, DEBUG: \n",
      "Couldn't find time period for (57600, 68400), returning default\n",
      "2019-11-22 09:26:52, DEBUG: \n",
      "Couldn't find time period for (57600, 68400), returning default\n",
      "2019-11-22 09:26:52, DEBUG: \n",
      "Couldn't find time period for (57600, 68400), returning default\n",
      "2019-11-22 09:26:52, DEBUG: \n",
      "Couldn't find time period for (57600, 68400), returning default\n",
      "2019-11-22 09:26:52, DEBUG: \n",
      "Couldn't find time period for (57600, 68400), returning default\n",
      "2019-11-22 09:26:52, DEBUG: \n",
      "Couldn't find time period for (57600, 68400), returning default\n",
      "2019-11-22 09:26:52, DEBUG: \n",
      "Couldn't find time period for (57600, 68400), returning default\n",
      "2019-11-22 09:26:52, DEBUG: \n",
      "Couldn't find time period for (57600, 68400), returning default\n",
      "2019-11-22 09:26:52, INFO: Setting Coordinate Reference System to EPSG 26915\n",
      "2019-11-22 09:26:57, INFO: Renaming DBF Node Variables\n",
      "2019-11-22 09:26:57, INFO: Renaming variables so that they are DBF-safe\n",
      "2019-11-22 09:26:57, DEBUG: Variable crosswalk: /Users/elizabeth/Documents/urbanlabs/MetCouncil/working/client_met_council_wrangler_utilities/examples/settings/net_to_dbf.csv \n",
      "                      net         dbf\n",
      "0          model_link_id     link_id\n",
      "1         shstGeometryId       geoId\n",
      "2          roadway_class     rdclass\n",
      "3          bike_facility    bike_fac\n",
      "4            bike_access        bike\n",
      "5         transit_access     transit\n",
      "6            walk_access        walk\n",
      "7           drive_access       drive\n",
      "8           truck_access       truck\n",
      "9    transit_priority_AM       tp_AM\n",
      "10   transit_priority_MD       tp_MD\n",
      "11   transit_priority_PM       tp_PM\n",
      "12   transit_priority_NT       tp_NT\n",
      "13  traveltime_assert_AM      tta_AM\n",
      "14  traveltime_assert_MD      tta_MD\n",
      "15  traveltime_assert_PM      tta_PM\n",
      "16  traveltime_assert_NT      tta_NT\n",
      "17          price_sov_AM    P_SOV_AM\n",
      "18         price_hov2_AM   P_HOV2_AM\n",
      "19         price_hov3_AM   P_HOV3_AM\n",
      "20        price_truck_AM    P_TRK_AM\n",
      "21          price_sov_MD    P_SOV_MD\n",
      "22         price_hov2_MD   P_HOV2_MD\n",
      "23         price_hov3_MD   P_HOV3_MD\n",
      "24        price_truck_MD    P_TRK_MD\n",
      "25          price_sov_PM    P_SOV_PM\n",
      "26         price_hov2_PM   P_HOV2_PM\n",
      "27         price_hov3_PM   P_HOV3_PM\n",
      "28        price_truck_PM    P_TRK_PM\n",
      "29          price_sov_NT    P_SOV_NT\n",
      "30         price_hov2_NT   P_HOV2_NT\n",
      "31         price_hov3_NT   P_HOV3_NT\n",
      "32        price_truck_NT    P_TRK_NT\n",
      "33   roadway_class_index  rdclass_ix\n",
      "34      assignment_group    assgngrp\n",
      "35    centroid_connector    centroid\n",
      "36           count_daily   count_day\n",
      "37         model_node_id     node_id\n",
      "38           osm_node_id   osmnodeid\n",
      "39          transit_node   tran_node\n"
     ]
    },
    {
     "ename": "NameError",
     "evalue": "name 'copy' is not defined",
     "output_type": "error",
     "traceback": [
      "\u001b[0;31m---------------------------------------------------------------------------\u001b[0m",
      "\u001b[0;31mNameError\u001b[0m                                 Traceback (most recent call last)",
      "\u001b[0;32m<ipython-input-52-ce24e345d83e>\u001b[0m in \u001b[0;36m<module>\u001b[0;34m\u001b[0m\n\u001b[0;32m----> 1\u001b[0;31m \u001b[0mmodel_road_net\u001b[0m\u001b[0;34m.\u001b[0m\u001b[0mwrite_roadway_as_shp\u001b[0m\u001b[0;34m(\u001b[0m\u001b[0;34m)\u001b[0m\u001b[0;34m\u001b[0m\u001b[0;34m\u001b[0m\u001b[0m\n\u001b[0m",
      "\u001b[0;32m~/Documents/urbanlabs/MetCouncil/working/client_met_council_wrangler_utilities/lasso/Roadway.py\u001b[0m in \u001b[0;36mwrite_roadway_as_shp\u001b[0;34m(self, node_output_variables, link_output_variables, data_to_csv, data_to_dbf, output_link_shp, output_node_shp, output_link_csv, output_node_csv)\u001b[0m\n\u001b[1;32m   1011\u001b[0m         \u001b[0mWranglerLogger\u001b[0m\u001b[0;34m.\u001b[0m\u001b[0minfo\u001b[0m\u001b[0;34m(\u001b[0m\u001b[0;34m\"Renaming DBF Node Variables\"\u001b[0m\u001b[0;34m)\u001b[0m\u001b[0;34m\u001b[0m\u001b[0;34m\u001b[0m\u001b[0m\n\u001b[1;32m   1012\u001b[0m         nodes_dbf_df = self.rename_variables_for_dbf(\n\u001b[0;32m-> 1013\u001b[0;31m             \u001b[0mself\u001b[0m\u001b[0;34m.\u001b[0m\u001b[0mnodes_metcouncil_df\u001b[0m\u001b[0;34m,\u001b[0m \u001b[0moutput_variables\u001b[0m\u001b[0;34m=\u001b[0m\u001b[0mnode_output_variables\u001b[0m\u001b[0;34m\u001b[0m\u001b[0;34m\u001b[0m\u001b[0m\n\u001b[0m\u001b[1;32m   1014\u001b[0m         )\n\u001b[1;32m   1015\u001b[0m         \u001b[0mWranglerLogger\u001b[0m\u001b[0;34m.\u001b[0m\u001b[0minfo\u001b[0m\u001b[0;34m(\u001b[0m\u001b[0;34m\"Renaming DBF Link Variables\"\u001b[0m\u001b[0;34m)\u001b[0m\u001b[0;34m\u001b[0m\u001b[0;34m\u001b[0m\u001b[0m\n",
      "\u001b[0;32m~/Documents/urbanlabs/MetCouncil/working/client_met_council_wrangler_utilities/lasso/Roadway.py\u001b[0m in \u001b[0;36mrename_variables_for_dbf\u001b[0;34m(self, input_df, variable_crosswalk, output_variables, convert_geometry_to_xy)\u001b[0m\n\u001b[1;32m    916\u001b[0m         \u001b[0mdbf_name_list\u001b[0m \u001b[0;34m=\u001b[0m \u001b[0;34m[\u001b[0m\u001b[0;34m]\u001b[0m\u001b[0;34m\u001b[0m\u001b[0;34m\u001b[0m\u001b[0m\n\u001b[1;32m    917\u001b[0m \u001b[0;34m\u001b[0m\u001b[0m\n\u001b[0;32m--> 918\u001b[0;31m         \u001b[0mdbf_df\u001b[0m \u001b[0;34m=\u001b[0m \u001b[0mcopy\u001b[0m\u001b[0;34m.\u001b[0m\u001b[0mdeepcopy\u001b[0m\u001b[0;34m(\u001b[0m\u001b[0minput_df\u001b[0m\u001b[0;34m)\u001b[0m\u001b[0;34m\u001b[0m\u001b[0;34m\u001b[0m\u001b[0m\n\u001b[0m\u001b[1;32m    919\u001b[0m \u001b[0;34m\u001b[0m\u001b[0m\n\u001b[1;32m    920\u001b[0m         \u001b[0;31m# only write out variables that we specify\u001b[0m\u001b[0;34m\u001b[0m\u001b[0;34m\u001b[0m\u001b[0;34m\u001b[0m\u001b[0m\n",
      "\u001b[0;31mNameError\u001b[0m: name 'copy' is not defined"
     ]
    }
   ],
   "source": [
    "model_road_net.write_roadway_as_shp()"
   ]
  },
  {
   "cell_type": "code",
   "execution_count": null,
   "metadata": {},
   "outputs": [],
   "source": []
  }
 ],
 "metadata": {
  "kernelspec": {
   "display_name": "Python 3",
   "language": "python",
   "name": "python3"
  },
  "language_info": {
   "codemirror_mode": {
    "name": "ipython",
    "version": 3
   },
   "file_extension": ".py",
   "mimetype": "text/x-python",
   "name": "python",
   "nbconvert_exporter": "python",
   "pygments_lexer": "ipython3",
   "version": "3.7.3"
  }
 },
 "nbformat": 4,
 "nbformat_minor": 2
}

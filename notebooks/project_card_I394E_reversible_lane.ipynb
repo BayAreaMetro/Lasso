{
 "cells": [
  {
   "cell_type": "markdown",
   "metadata": {},
   "source": [
    "# I394E Reversible Lane Project Card\n"
   ]
  },
  {
   "cell_type": "code",
   "execution_count": 1,
   "metadata": {},
   "outputs": [],
   "source": [
    "import os\n",
    "import sys\n",
    "\n",
    "from lasso import Project\n",
    "from lasso import CubeTransit\n",
    "from network_wrangler import WranglerLogger"
   ]
  },
  {
   "cell_type": "code",
   "execution_count": 2,
   "metadata": {},
   "outputs": [],
   "source": [
    "%load_ext autoreload\n",
    "%autoreload 2"
   ]
  },
  {
   "cell_type": "code",
   "execution_count": 3,
   "metadata": {},
   "outputs": [],
   "source": [
    "import logging\n",
    "logger = logging.getLogger(\"WranglerLogger\")\n",
    "logger.handlers[0].stream = sys.stdout\n",
    "# if you don't want to see so much detail, set to logging.INFO or DEBUG\n",
    "logger.setLevel(logging.DEBUG)"
   ]
  },
  {
   "cell_type": "code",
   "execution_count": 4,
   "metadata": {},
   "outputs": [
    {
     "data": {
      "text/plain": [
       "'C:\\\\projects\\\\met_council_git\\\\data\\\\interim'"
      ]
     },
     "execution_count": 4,
     "metadata": {},
     "output_type": "execute_result"
    }
   ],
   "source": [
    "#set examples directory\n",
    "INTERIM_DIR = \"C:\\\\projects\\\\met_council_git\\\\data\\\\interim\"\n",
    "INTERIM_DIR"
   ]
  },
  {
   "cell_type": "markdown",
   "metadata": {},
   "source": [
    "## Roadway Project Card\n",
    "\n",
    "Roadway project cards are built by reading in a base network in the standard network format and a then processing cube log files.  \n",
    "\n",
    "The log file information is stored in a dataframe called `roadway_changes`\n",
    "\n",
    "The project card data is created when comparing log file to the base network and is  stored in the variable `card_data`"
   ]
  },
  {
   "cell_type": "code",
   "execution_count": 5,
   "metadata": {},
   "outputs": [
    {
     "name": "stdout",
     "output_type": "stream",
     "text": [
      "2020-05-21 18:56:05, INFO: No base transit network.\n",
      "2020-05-21 18:56:05, INFO: No transit changes given or processed.\n",
      "2020-05-21 18:56:05, INFO: Reading logfile: C:\\projects\\met_council_git\\data\\interim\\change_logs\\i394_reversible_lanes.log\n",
      "2020-05-21 18:56:05, INFO: Processed 0 Node lines and 24 Link lines\n",
      "2020-05-21 18:56:05, INFO: Reading from following files:\n",
      "-C:\\projects\\met_council_git\\data\\interim\\networks\\base_network\\link.json\n",
      "-C:\\projects\\met_council_git\\data\\interim\\networks\\base_network\\node.geojson\n",
      "-C:\\projects\\met_council_git\\data\\interim\\networks\\base_network\\shape.geojson.\n",
      "2020-05-21 19:00:01, INFO: Read 1134074 links from C:\\projects\\met_council_git\\data\\interim\\networks\\base_network\\link.json\n",
      "2020-05-21 19:00:01, INFO: Read 354346 nodes from C:\\projects\\met_council_git\\data\\interim\\networks\\base_network\\node.geojson\n",
      "2020-05-21 19:00:01, INFO: Read 1134074 shapes from C:\\projects\\met_council_git\\data\\interim\\networks\\base_network\\shape.geojson\n",
      "2020-05-21 19:09:38, INFO: Lasso base directory set as: D:\\lasso\n",
      "2020-05-21 19:09:38, INFO: Creating calculated roadway variables.\n",
      "2020-05-21 19:09:38, INFO: Calculating Area Type from Spatial Data and adding as roadway network variable: area_type\n",
      "2020-05-21 19:09:49, DEBUG: Reading Area Type Shapefile D:\\lasso\\metcouncil_data\\area_type\\ThriveMSP2040CommunityDesignation.shp\n"
     ]
    },
    {
     "ename": "NameError",
     "evalue": "name 'ROADWAYNETWORK' is not defined",
     "output_type": "error",
     "traceback": [
      "\u001b[1;31m---------------------------------------------------------------------------\u001b[0m",
      "\u001b[1;31mNameError\u001b[0m                                 Traceback (most recent call last)",
      "\u001b[1;32m<ipython-input-5-4771e706f489>\u001b[0m in \u001b[0;36m<module>\u001b[1;34m\u001b[0m\n\u001b[0;32m      1\u001b[0m i394e_roadway_project = Project.create_project(\n\u001b[0;32m      2\u001b[0m         \u001b[0mbase_roadway_dir\u001b[0m\u001b[1;33m=\u001b[0m\u001b[0mos\u001b[0m\u001b[1;33m.\u001b[0m\u001b[0mpath\u001b[0m\u001b[1;33m.\u001b[0m\u001b[0mjoin\u001b[0m\u001b[1;33m(\u001b[0m\u001b[0mINTERIM_DIR\u001b[0m\u001b[1;33m,\u001b[0m\u001b[1;34m\"networks\"\u001b[0m\u001b[1;33m,\u001b[0m \u001b[1;34m\"base_network\"\u001b[0m\u001b[1;33m)\u001b[0m\u001b[1;33m,\u001b[0m\u001b[1;33m\u001b[0m\u001b[1;33m\u001b[0m\u001b[0m\n\u001b[1;32m----> 3\u001b[1;33m         \u001b[0mroadway_log_file\u001b[0m\u001b[1;33m=\u001b[0m\u001b[0mos\u001b[0m\u001b[1;33m.\u001b[0m\u001b[0mpath\u001b[0m\u001b[1;33m.\u001b[0m\u001b[0mjoin\u001b[0m\u001b[1;33m(\u001b[0m\u001b[0mINTERIM_DIR\u001b[0m\u001b[1;33m,\u001b[0m\u001b[1;34m\"change_logs\"\u001b[0m\u001b[1;33m,\u001b[0m\u001b[1;34m\"i394_reversible_lanes.log\"\u001b[0m\u001b[1;33m)\u001b[0m\u001b[1;33m\u001b[0m\u001b[1;33m\u001b[0m\u001b[0m\n\u001b[0m\u001b[0;32m      4\u001b[0m     )\n",
      "\u001b[1;32md:\\lasso\\lasso\\project.py\u001b[0m in \u001b[0;36mcreate_project\u001b[1;34m(roadway_log_file, roadway_shp_file, roadway_csv_file, base_roadway_dir, base_transit_source, build_transit_source, roadway_changes, transit_changes, base_roadway_network, base_transit_network, build_transit_network, project_name, parameters)\u001b[0m\n\u001b[0;32m    229\u001b[0m                 \u001b[1;32mTrue\u001b[0m\u001b[1;33m,\u001b[0m\u001b[1;33m\u001b[0m\u001b[1;33m\u001b[0m\u001b[0m\n\u001b[0;32m    230\u001b[0m             )\n\u001b[1;32m--> 231\u001b[1;33m             \u001b[0mbase_roadway_network\u001b[0m\u001b[1;33m.\u001b[0m\u001b[0mcreate_calculated_variables\u001b[0m\u001b[1;33m(\u001b[0m\u001b[1;33m)\u001b[0m\u001b[1;33m\u001b[0m\u001b[1;33m\u001b[0m\u001b[0m\n\u001b[0m\u001b[0;32m    232\u001b[0m             \u001b[0mbase_roadway_network\u001b[0m\u001b[1;33m.\u001b[0m\u001b[0mcalculate_distance\u001b[0m\u001b[1;33m(\u001b[0m\u001b[0moverwrite\u001b[0m \u001b[1;33m=\u001b[0m \u001b[1;32mTrue\u001b[0m\u001b[1;33m)\u001b[0m\u001b[1;33m\u001b[0m\u001b[1;33m\u001b[0m\u001b[0m\n\u001b[0;32m    233\u001b[0m             \u001b[0mbase_roadway_network\u001b[0m\u001b[1;33m.\u001b[0m\u001b[0mfill_na\u001b[0m\u001b[1;33m(\u001b[0m\u001b[1;33m)\u001b[0m\u001b[1;33m\u001b[0m\u001b[1;33m\u001b[0m\u001b[0m\n",
      "\u001b[1;32md:\\lasso\\lasso\\roadway.py\u001b[0m in \u001b[0;36mcreate_calculated_variables\u001b[1;34m(self)\u001b[0m\n\u001b[0;32m    165\u001b[0m         \"\"\"\n\u001b[0;32m    166\u001b[0m         \u001b[0mWranglerLogger\u001b[0m\u001b[1;33m.\u001b[0m\u001b[0minfo\u001b[0m\u001b[1;33m(\u001b[0m\u001b[1;34m\"Creating calculated roadway variables.\"\u001b[0m\u001b[1;33m)\u001b[0m\u001b[1;33m\u001b[0m\u001b[1;33m\u001b[0m\u001b[0m\n\u001b[1;32m--> 167\u001b[1;33m         \u001b[0mself\u001b[0m\u001b[1;33m.\u001b[0m\u001b[0mcalculate_area_type\u001b[0m\u001b[1;33m(\u001b[0m\u001b[1;33m)\u001b[0m\u001b[1;33m\u001b[0m\u001b[1;33m\u001b[0m\u001b[0m\n\u001b[0m\u001b[0;32m    168\u001b[0m         \u001b[0mself\u001b[0m\u001b[1;33m.\u001b[0m\u001b[0mcalculate_county\u001b[0m\u001b[1;33m(\u001b[0m\u001b[1;33m)\u001b[0m\u001b[1;33m\u001b[0m\u001b[1;33m\u001b[0m\u001b[0m\n\u001b[0;32m    169\u001b[0m         \u001b[0mself\u001b[0m\u001b[1;33m.\u001b[0m\u001b[0mcalculate_centroidconnect\u001b[0m\u001b[1;33m(\u001b[0m\u001b[1;33m)\u001b[0m\u001b[1;33m\u001b[0m\u001b[1;33m\u001b[0m\u001b[0m\n",
      "\u001b[1;32md:\\lasso\\lasso\\roadway.py\u001b[0m in \u001b[0;36mcalculate_area_type\u001b[1;34m(self, area_type_shape, area_type_shape_variable, network_variable, area_type_codes_dict, overwrite)\u001b[0m\n\u001b[0;32m    359\u001b[0m         \u001b[0mWranglerLogger\u001b[0m\u001b[1;33m.\u001b[0m\u001b[0mdebug\u001b[0m\u001b[1;33m(\u001b[0m\u001b[1;34m\"Reading Area Type Shapefile {}\"\u001b[0m\u001b[1;33m.\u001b[0m\u001b[0mformat\u001b[0m\u001b[1;33m(\u001b[0m\u001b[0marea_type_shape\u001b[0m\u001b[1;33m)\u001b[0m\u001b[1;33m)\u001b[0m\u001b[1;33m\u001b[0m\u001b[1;33m\u001b[0m\u001b[0m\n\u001b[0;32m    360\u001b[0m         \u001b[0marea_type_gdf\u001b[0m \u001b[1;33m=\u001b[0m \u001b[0mgpd\u001b[0m\u001b[1;33m.\u001b[0m\u001b[0mread_file\u001b[0m\u001b[1;33m(\u001b[0m\u001b[0marea_type_shape\u001b[0m\u001b[1;33m)\u001b[0m\u001b[1;33m\u001b[0m\u001b[1;33m\u001b[0m\u001b[0m\n\u001b[1;32m--> 361\u001b[1;33m         \u001b[0marea_type_gdf\u001b[0m \u001b[1;33m=\u001b[0m \u001b[0marea_type_gdf\u001b[0m\u001b[1;33m.\u001b[0m\u001b[0mto_crs\u001b[0m\u001b[1;33m(\u001b[0m\u001b[0mepsg\u001b[0m\u001b[1;33m=\u001b[0m\u001b[0mROADWAYNETWORK\u001b[0m\u001b[1;33m.\u001b[0m\u001b[0mCRS\u001b[0m\u001b[1;33m)\u001b[0m\u001b[1;33m\u001b[0m\u001b[1;33m\u001b[0m\u001b[0m\n\u001b[0m\u001b[0;32m    362\u001b[0m \u001b[1;33m\u001b[0m\u001b[0m\n\u001b[0;32m    363\u001b[0m         joined_gdf = gpd.sjoin(\n",
      "\u001b[1;31mNameError\u001b[0m: name 'ROADWAYNETWORK' is not defined"
     ]
    }
   ],
   "source": [
    "i394e_roadway_project = Project.create_project(\n",
    "        base_roadway_dir=os.path.join(INTERIM_DIR,\"networks\", \"base_network\"),\n",
    "        roadway_log_file=os.path.join(INTERIM_DIR,\"change_logs\",\"i394_reversible_lanes.log\")\n",
    "    )"
   ]
  },
  {
   "cell_type": "code",
   "execution_count": null,
   "metadata": {},
   "outputs": [],
   "source": []
  },
  {
   "cell_type": "code",
   "execution_count": null,
   "metadata": {},
   "outputs": [],
   "source": [
    "i394e_roadway_project.roadway_changes.columns"
   ]
  },
  {
   "cell_type": "code",
   "execution_count": null,
   "metadata": {},
   "outputs": [],
   "source": [
    "i394e_roadway_project.roadway_changes"
   ]
  },
  {
   "cell_type": "code",
   "execution_count": null,
   "metadata": {},
   "outputs": [],
   "source": [
    "i394e_roadway_project.write_project_card(\n",
    "        os.path.join(INTERIM_DIR,\"project_cards\", \"i394_reversible_managed_lane.yml\")\n",
    "    )"
   ]
  },
  {
   "cell_type": "code",
   "execution_count": null,
   "metadata": {},
   "outputs": [],
   "source": []
  }
 ],
 "metadata": {
  "kernelspec": {
   "display_name": "Python 3",
   "language": "python",
   "name": "python3"
  },
  "language_info": {
   "codemirror_mode": {
    "name": "ipython",
    "version": 3
   },
   "file_extension": ".py",
   "mimetype": "text/x-python",
   "name": "python",
   "nbconvert_exporter": "python",
   "pygments_lexer": "ipython3",
   "version": "3.7.6"
  }
 },
 "nbformat": 4,
 "nbformat_minor": 2
}

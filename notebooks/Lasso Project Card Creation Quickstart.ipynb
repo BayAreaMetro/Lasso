{
 "cells": [
  {
   "cell_type": "markdown",
   "metadata": {},
   "source": [
    "# Project Card Creation Quickstart\n",
    "\n",
    "In this notebook we will run through:\n",
    "\n",
    "1. creating a highway project card from a cube log file\n",
    "2. creating a transit project card from two cube line files"
   ]
  },
  {
   "cell_type": "code",
   "execution_count": null,
   "metadata": {},
   "outputs": [],
   "source": [
    "import os\n",
    "import sys\n",
    "\n",
    "from lasso import Project\n",
    "from lasso import CubeTransit\n",
    "from network_wrangler import WranglerLogger"
   ]
  },
  {
   "cell_type": "code",
   "execution_count": null,
   "metadata": {},
   "outputs": [],
   "source": [
    "%load_ext autoreload\n",
    "%autoreload 2"
   ]
  },
  {
   "cell_type": "code",
   "execution_count": null,
   "metadata": {},
   "outputs": [],
   "source": [
    "import logging\n",
    "logger = logging.getLogger(\"WranglerLogger\")\n",
    "logger.handlers[0].stream = sys.stdout\n",
    "# if you don't want to see so much detail, set to logging.INFO or DEBUG\n",
    "logger.setLevel(logging.DEBUG)"
   ]
  },
  {
   "cell_type": "code",
   "execution_count": null,
   "metadata": {},
   "outputs": [],
   "source": [
    "#set examples directory\n",
    "EX_DIR = os.path.join(os.path.dirname(os.getcwd()), \"examples\")\n",
    "EX_DIR"
   ]
  },
  {
   "cell_type": "markdown",
   "metadata": {},
   "source": [
    "## Roadway Project Card\n",
    "\n",
    "Roadway project cards are built by reading in a base network in the standard network format and a then processing cube log files.  \n",
    "\n",
    "The log file information is stored in a dataframe called `roadway_changes`\n",
    "\n",
    "The project card data is created when comparing log file to the base network and is  stored in the variable `card_data`"
   ]
  },
  {
   "cell_type": "code",
   "execution_count": null,
   "metadata": {},
   "outputs": [],
   "source": [
    "test_roadway_project = Project.create_project(\n",
    "        base_roadway_dir=os.path.join(EX_DIR,\"stpaul\"),\n",
    "        roadway_log_file=os.path.join(EX_DIR,\"cube\",\"st_paul_test.log\"),\n",
    "    )"
   ]
  },
  {
   "cell_type": "code",
   "execution_count": null,
   "metadata": {},
   "outputs": [],
   "source": [
    "test_roadway_project.roadway_changes[0:10]"
   ]
  },
  {
   "cell_type": "code",
   "execution_count": null,
   "metadata": {},
   "outputs": [],
   "source": [
    "test_roadway_project.roadway_changes.columns"
   ]
  },
  {
   "cell_type": "code",
   "execution_count": null,
   "metadata": {},
   "outputs": [],
   "source": [
    "test_roadway_project.card_data"
   ]
  },
  {
   "cell_type": "code",
   "execution_count": null,
   "metadata": {},
   "outputs": [],
   "source": [
    "test_roadway_project.write_project_card(\n",
    "        \"roadway_test.yml\"\n",
    "    )"
   ]
  },
  {
   "cell_type": "markdown",
   "metadata": {},
   "source": [
    "## Transit Project Card\n",
    "\n",
    "Transit project cards are built by taking the differences between two cube transit line files."
   ]
  },
  {
   "cell_type": "code",
   "execution_count": null,
   "metadata": {},
   "outputs": [],
   "source": [
    "test_transit_project = Project.create_project(\n",
    "        base_transit_source=os.path.join(EX_DIR,\"cube\",\"transit.LIN\"),\n",
    "        build_transit_source=os.path.join(EX_DIR,\"cube\",\"single_transit_route_attribute_change\",\"transit.LIN\"),\n",
    "    )\n",
    "\n",
    "test_transit_project.write_project_card(\n",
    "        \"transit_test.yml\"\n",
    "    )"
   ]
  },
  {
   "cell_type": "code",
   "execution_count": null,
   "metadata": {},
   "outputs": [],
   "source": []
  }
 ],
 "metadata": {
  "kernelspec": {
   "display_name": "Python 3",
   "language": "python",
   "name": "python3"
  },
  "language_info": {
   "codemirror_mode": {
    "name": "ipython",
    "version": 3
   },
   "file_extension": ".py",
   "mimetype": "text/x-python",
   "name": "python",
   "nbconvert_exporter": "python",
   "pygments_lexer": "ipython3",
   "version": "3.7.3"
  }
 },
 "nbformat": 4,
 "nbformat_minor": 2
}

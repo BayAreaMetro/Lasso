{
 "cells": [
  {
   "cell_type": "markdown",
   "metadata": {},
   "source": [
    "# Project Card Creation Quickstart\n",
    "\n",
    "In this notebook we will run through:\n",
    "\n",
    "1. creating a highway project card from a cube log file\n",
    "2. creating a transit project card from two cube line files"
   ]
  },
  {
   "cell_type": "code",
   "execution_count": 2,
   "metadata": {},
   "outputs": [],
   "source": [
    "import os\n",
    "import sys\n",
    "\n",
    "from lasso import process_line_file\n",
    "from lasso import Project\n",
    "from network_wrangler import WranglerLogger\n",
    "from lasso.TransitNetwork import TransitNetworkLasso"
   ]
  },
  {
   "cell_type": "code",
   "execution_count": 1,
   "metadata": {},
   "outputs": [],
   "source": [
    "%load_ext autoreload\n",
    "%autoreload 2"
   ]
  },
  {
   "cell_type": "code",
   "execution_count": 3,
   "metadata": {},
   "outputs": [],
   "source": [
    "import logging\n",
    "logger = logging.getLogger(\"WranglerLogger\")\n",
    "logger.handlers[0].stream = sys.stdout\n",
    "# if you don't want to see so much detail, set to logging.INFO or DEBUG\n",
    "logger.setLevel(logging.DEBUG)"
   ]
  },
  {
   "cell_type": "code",
   "execution_count": 4,
   "metadata": {},
   "outputs": [
    {
     "data": {
      "text/plain": [
       "'/Users/elizabeth/Documents/urbanlabs/MetCouncil/working/client_met_council_wrangler_utilities/examples'"
      ]
     },
     "execution_count": 4,
     "metadata": {},
     "output_type": "execute_result"
    }
   ],
   "source": [
    "#set examples directory\n",
    "EX_DIR = os.path.join(os.path.dirname(os.getcwd()), \"examples\")\n",
    "EX_DIR"
   ]
  },
  {
   "cell_type": "markdown",
   "metadata": {},
   "source": [
    "## Roadway Project Card\n",
    "\n",
    "Roadway project cards are built by processing cube log files into a dataframe called `roadway_changes`"
   ]
  },
  {
   "cell_type": "code",
   "execution_count": 55,
   "metadata": {},
   "outputs": [
    {
     "name": "stdout",
     "output_type": "stream",
     "text": [
      "2019-11-22 20:10:26, INFO: No transit changes given or processed.\n"
     ]
    },
    {
     "name": "stderr",
     "output_type": "stream",
     "text": [
      "INFO:WranglerLogger:No transit changes given or processed.\n"
     ]
    },
    {
     "name": "stdout",
     "output_type": "stream",
     "text": [
      "2019-11-22 20:10:26, INFO: Reading logfile: /Users/elizabeth/Documents/urbanlabs/MetCouncil/working/client_met_council_wrangler_utilities/examples/cube/st_paul_test.log\n"
     ]
    },
    {
     "name": "stderr",
     "output_type": "stream",
     "text": [
      "INFO:WranglerLogger:Reading logfile: /Users/elizabeth/Documents/urbanlabs/MetCouncil/working/client_met_council_wrangler_utilities/examples/cube/st_paul_test.log\n"
     ]
    },
    {
     "name": "stdout",
     "output_type": "stream",
     "text": [
      "2019-11-22 20:10:26, INFO: Processed 7 Node lines and 1 Link lines\n"
     ]
    },
    {
     "name": "stderr",
     "output_type": "stream",
     "text": [
      "INFO:WranglerLogger:Processed 7 Node lines and 1 Link lines\n"
     ]
    },
    {
     "name": "stdout",
     "output_type": "stream",
     "text": [
      "2019-11-22 20:10:26, INFO: Reading from following files:\n",
      "-/Users/elizabeth/Documents/urbanlabs/MetCouncil/working/client_met_council_wrangler_utilities/examples/stpaul/link.json\n",
      "-/Users/elizabeth/Documents/urbanlabs/MetCouncil/working/client_met_council_wrangler_utilities/examples/stpaul/node.geojson\n",
      "-/Users/elizabeth/Documents/urbanlabs/MetCouncil/working/client_met_council_wrangler_utilities/examples/stpaul/shape.geojson.\n"
     ]
    },
    {
     "name": "stderr",
     "output_type": "stream",
     "text": [
      "INFO:WranglerLogger:Reading from following files:\n",
      "-/Users/elizabeth/Documents/urbanlabs/MetCouncil/working/client_met_council_wrangler_utilities/examples/stpaul/link.json\n",
      "-/Users/elizabeth/Documents/urbanlabs/MetCouncil/working/client_met_council_wrangler_utilities/examples/stpaul/node.geojson\n",
      "-/Users/elizabeth/Documents/urbanlabs/MetCouncil/working/client_met_council_wrangler_utilities/examples/stpaul/shape.geojson.\n"
     ]
    },
    {
     "name": "stdout",
     "output_type": "stream",
     "text": [
      "2019-11-22 20:10:33, INFO: Read 2054339 links from /Users/elizabeth/Documents/urbanlabs/MetCouncil/working/client_met_council_wrangler_utilities/examples/stpaul/link.json\n"
     ]
    },
    {
     "name": "stderr",
     "output_type": "stream",
     "text": [
      "INFO:WranglerLogger:Read 2054339 links from /Users/elizabeth/Documents/urbanlabs/MetCouncil/working/client_met_council_wrangler_utilities/examples/stpaul/link.json\n"
     ]
    },
    {
     "name": "stdout",
     "output_type": "stream",
     "text": [
      "2019-11-22 20:10:33, INFO: Read 205908 nodes from /Users/elizabeth/Documents/urbanlabs/MetCouncil/working/client_met_council_wrangler_utilities/examples/stpaul/node.geojson\n"
     ]
    },
    {
     "name": "stderr",
     "output_type": "stream",
     "text": [
      "INFO:WranglerLogger:Read 205908 nodes from /Users/elizabeth/Documents/urbanlabs/MetCouncil/working/client_met_council_wrangler_utilities/examples/stpaul/node.geojson\n"
     ]
    },
    {
     "name": "stdout",
     "output_type": "stream",
     "text": [
      "2019-11-22 20:10:33, INFO: Read 331345 shapes from /Users/elizabeth/Documents/urbanlabs/MetCouncil/working/client_met_council_wrangler_utilities/examples/stpaul/shape.geojson\n"
     ]
    },
    {
     "name": "stderr",
     "output_type": "stream",
     "text": [
      "INFO:WranglerLogger:Read 331345 shapes from /Users/elizabeth/Documents/urbanlabs/MetCouncil/working/client_met_council_wrangler_utilities/examples/stpaul/shape.geojson\n"
     ]
    },
    {
     "name": "stdout",
     "output_type": "stream",
     "text": [
      "2019-11-22 20:10:46, INFO: No base transit network.\n"
     ]
    },
    {
     "name": "stderr",
     "output_type": "stream",
     "text": [
      "INFO:WranglerLogger:No base transit network.\n"
     ]
    },
    {
     "name": "stdout",
     "output_type": "stream",
     "text": [
      "2019-11-22 20:10:46, INFO: Evaluating compatibility between roadway network changes and base network. Not evaluating deletions.\n"
     ]
    },
    {
     "name": "stderr",
     "output_type": "stream",
     "text": [
      "INFO:WranglerLogger:Evaluating compatibility between roadway network changes and base network. Not evaluating deletions.\n"
     ]
    },
    {
     "name": "stdout",
     "output_type": "stream",
     "text": [
      "2019-11-22 20:10:46, DEBUG: Link changes df cols: Index(['OBJECT', 'OPERATION', 'GROUP', 'A', 'B', 'model_link_id', 'county',\n",
      "       'transit_priority', 'area_type', 'HOV_access', 'aadt', 'count_AM',\n",
      "       'count_MD', 'count_PM', 'count_NT', 'count_daily', 'assignment_group',\n",
      "       'lanes', 'centroid_connector', 'roadway_class', 'bike_facility',\n",
      "       'drive_access', 'walk_access', 'bike_access', 'transit_access',\n",
      "       'distance', 'traveltime_assert', 'model_node_id', 'X', 'Y',\n",
      "       'osm_node_id', 'drive_node', 'walk_node', 'bike_node', 'transit_node'],\n",
      "      dtype='object')\n"
     ]
    },
    {
     "name": "stderr",
     "output_type": "stream",
     "text": [
      "DEBUG:WranglerLogger:Link changes df cols: Index(['OBJECT', 'OPERATION', 'GROUP', 'A', 'B', 'model_link_id', 'county',\n",
      "       'transit_priority', 'area_type', 'HOV_access', 'aadt', 'count_AM',\n",
      "       'count_MD', 'count_PM', 'count_NT', 'count_daily', 'assignment_group',\n",
      "       'lanes', 'centroid_connector', 'roadway_class', 'bike_facility',\n",
      "       'drive_access', 'walk_access', 'bike_access', 'transit_access',\n",
      "       'distance', 'traveltime_assert', 'model_node_id', 'X', 'Y',\n",
      "       'osm_node_id', 'drive_node', 'walk_node', 'bike_node', 'transit_node'],\n",
      "      dtype='object')\n"
     ]
    },
    {
     "name": "stdout",
     "output_type": "stream",
     "text": [
      "2019-11-22 20:10:46, DEBUG: Roadway df cols: Index(['model_link_id', 'osm_link_id', 'shstReferenceId', 'shstGeometryId',\n",
      "       'u', 'v', 'A', 'B', 'access', 'area', 'bridge', 'highway', 'length',\n",
      "       'maxspeed', 'name', 'oneway', 'tunnel', 'width', 'lanes', 'distance',\n",
      "       'HOV_access', 'transit_priority', 'traveltime_assert', 'transit_access',\n",
      "       'drive_access', 'walk_access', 'bike_access', 'transit_walk_access',\n",
      "       'locationReferences', 'ref', 'geometry'],\n",
      "      dtype='object')\n"
     ]
    },
    {
     "name": "stderr",
     "output_type": "stream",
     "text": [
      "DEBUG:WranglerLogger:Roadway df cols: Index(['model_link_id', 'osm_link_id', 'shstReferenceId', 'shstGeometryId',\n",
      "       'u', 'v', 'A', 'B', 'access', 'area', 'bridge', 'highway', 'length',\n",
      "       'maxspeed', 'name', 'oneway', 'tunnel', 'width', 'lanes', 'distance',\n",
      "       'HOV_access', 'transit_priority', 'traveltime_assert', 'transit_access',\n",
      "       'drive_access', 'walk_access', 'bike_access', 'transit_walk_access',\n",
      "       'locationReferences', 'ref', 'geometry'],\n",
      "      dtype='object')\n"
     ]
    },
    {
     "name": "stdout",
     "output_type": "stream",
     "text": [
      "2019-11-22 20:10:46, INFO: Evaluating project changes.\n"
     ]
    },
    {
     "name": "stderr",
     "output_type": "stream",
     "text": [
      "INFO:WranglerLogger:Evaluating project changes.\n"
     ]
    },
    {
     "name": "stdout",
     "output_type": "stream",
     "text": [
      "2019-11-22 20:10:46, DEBUG: Processing link deletions\n"
     ]
    },
    {
     "name": "stderr",
     "output_type": "stream",
     "text": [
      "DEBUG:WranglerLogger:Processing link deletions\n"
     ]
    },
    {
     "name": "stdout",
     "output_type": "stream",
     "text": [
      "2019-11-22 20:10:46, DEBUG: Processing link additions\n"
     ]
    },
    {
     "name": "stderr",
     "output_type": "stream",
     "text": [
      "DEBUG:WranglerLogger:Processing link additions\n"
     ]
    },
    {
     "name": "stdout",
     "output_type": "stream",
     "text": [
      "2019-11-22 20:10:46, DEBUG: Processing changes\n"
     ]
    },
    {
     "name": "stderr",
     "output_type": "stream",
     "text": [
      "DEBUG:WranglerLogger:Processing changes\n"
     ]
    },
    {
     "ename": "ValueError",
     "evalue": "The truth value of a Series is ambiguous. Use a.empty, a.bool(), a.item(), a.any() or a.all().",
     "output_type": "error",
     "traceback": [
      "\u001b[0;31m---------------------------------------------------------------------------\u001b[0m",
      "\u001b[0;31mValueError\u001b[0m                                Traceback (most recent call last)",
      "\u001b[0;32m<ipython-input-55-9e09c472f64d>\u001b[0m in \u001b[0;36m<module>\u001b[0;34m\u001b[0m\n\u001b[1;32m      1\u001b[0m test_roadway_project = Project.create_project(\n\u001b[1;32m      2\u001b[0m         \u001b[0mbase_roadway_dir\u001b[0m\u001b[0;34m=\u001b[0m\u001b[0mos\u001b[0m\u001b[0;34m.\u001b[0m\u001b[0mpath\u001b[0m\u001b[0;34m.\u001b[0m\u001b[0mjoin\u001b[0m\u001b[0;34m(\u001b[0m\u001b[0mEX_DIR\u001b[0m\u001b[0;34m,\u001b[0m\u001b[0;34m\"stpaul\"\u001b[0m\u001b[0;34m)\u001b[0m\u001b[0;34m,\u001b[0m\u001b[0;34m\u001b[0m\u001b[0;34m\u001b[0m\u001b[0m\n\u001b[0;32m----> 3\u001b[0;31m         \u001b[0mroadway_log_file\u001b[0m\u001b[0;34m=\u001b[0m\u001b[0mos\u001b[0m\u001b[0;34m.\u001b[0m\u001b[0mpath\u001b[0m\u001b[0;34m.\u001b[0m\u001b[0mjoin\u001b[0m\u001b[0;34m(\u001b[0m\u001b[0mEX_DIR\u001b[0m\u001b[0;34m,\u001b[0m\u001b[0;34m\"cube\"\u001b[0m\u001b[0;34m,\u001b[0m\u001b[0;34m\"st_paul_test.log\"\u001b[0m\u001b[0;34m)\u001b[0m\u001b[0;34m,\u001b[0m\u001b[0;34m\u001b[0m\u001b[0;34m\u001b[0m\u001b[0m\n\u001b[0m\u001b[1;32m      4\u001b[0m     )\n",
      "\u001b[0;32m~/Documents/urbanlabs/MetCouncil/working/client_met_council_wrangler_utilities/lasso/project.py\u001b[0m in \u001b[0;36mcreate_project\u001b[0;34m(roadway_log_file, base_roadway_dir, base_transit_dir, build_transit_dir, roadway_changes, transit_changes, base_roadway_network, base_transit_network)\u001b[0m\n\u001b[1;32m    137\u001b[0m             \u001b[0mbase_roadway_network\u001b[0m\u001b[0;34m=\u001b[0m\u001b[0mbase_roadway_network\u001b[0m\u001b[0;34m,\u001b[0m\u001b[0;34m\u001b[0m\u001b[0;34m\u001b[0m\u001b[0m\n\u001b[1;32m    138\u001b[0m             \u001b[0mbase_transit_network\u001b[0m\u001b[0;34m=\u001b[0m\u001b[0mbase_transit_network\u001b[0m\u001b[0;34m,\u001b[0m\u001b[0;34m\u001b[0m\u001b[0;34m\u001b[0m\u001b[0m\n\u001b[0;32m--> 139\u001b[0;31m             \u001b[0mevaluate\u001b[0m\u001b[0;34m=\u001b[0m\u001b[0;32mTrue\u001b[0m\u001b[0;34m,\u001b[0m\u001b[0;34m\u001b[0m\u001b[0;34m\u001b[0m\u001b[0m\n\u001b[0m\u001b[1;32m    140\u001b[0m         )\n\u001b[1;32m    141\u001b[0m \u001b[0;34m\u001b[0m\u001b[0m\n",
      "\u001b[0;32m~/Documents/urbanlabs/MetCouncil/working/client_met_council_wrangler_utilities/lasso/project.py\u001b[0m in \u001b[0;36m__init__\u001b[0;34m(self, roadway_changes, transit_changes, base_roadway_network, base_transit_network, project_name, evaluate)\u001b[0m\n\u001b[1;32m     43\u001b[0m \u001b[0;34m\u001b[0m\u001b[0m\n\u001b[1;32m     44\u001b[0m         \u001b[0;32mif\u001b[0m \u001b[0mevaluate\u001b[0m\u001b[0;34m:\u001b[0m\u001b[0;34m\u001b[0m\u001b[0;34m\u001b[0m\u001b[0m\n\u001b[0;32m---> 45\u001b[0;31m             \u001b[0mself\u001b[0m\u001b[0;34m.\u001b[0m\u001b[0mevaluate_changes\u001b[0m\u001b[0;34m(\u001b[0m\u001b[0;34m)\u001b[0m\u001b[0;34m\u001b[0m\u001b[0;34m\u001b[0m\u001b[0m\n\u001b[0m\u001b[1;32m     46\u001b[0m \u001b[0;34m\u001b[0m\u001b[0m\n\u001b[1;32m     47\u001b[0m     \u001b[0;32mdef\u001b[0m \u001b[0mwrite_project_card\u001b[0m\u001b[0;34m(\u001b[0m\u001b[0mself\u001b[0m\u001b[0;34m,\u001b[0m \u001b[0mfilename\u001b[0m\u001b[0;34m)\u001b[0m\u001b[0;34m:\u001b[0m\u001b[0;34m\u001b[0m\u001b[0;34m\u001b[0m\u001b[0m\n",
      "\u001b[0;32m~/Documents/urbanlabs/MetCouncil/working/client_met_council_wrangler_utilities/lasso/project.py\u001b[0m in \u001b[0;36mevaluate_changes\u001b[0;34m(self)\u001b[0m\n\u001b[1;32m    225\u001b[0m \u001b[0;34m\u001b[0m\u001b[0m\n\u001b[1;32m    226\u001b[0m         \u001b[0;32mif\u001b[0m \u001b[0;32mnot\u001b[0m \u001b[0mself\u001b[0m\u001b[0;34m.\u001b[0m\u001b[0mroadway_changes\u001b[0m\u001b[0;34m.\u001b[0m\u001b[0mempty\u001b[0m\u001b[0;34m:\u001b[0m\u001b[0;34m\u001b[0m\u001b[0;34m\u001b[0m\u001b[0m\n\u001b[0;32m--> 227\u001b[0;31m             \u001b[0mhighway_change_list\u001b[0m \u001b[0;34m=\u001b[0m \u001b[0mself\u001b[0m\u001b[0;34m.\u001b[0m\u001b[0madd_highway_changes\u001b[0m\u001b[0;34m(\u001b[0m\u001b[0;34m)\u001b[0m\u001b[0;34m\u001b[0m\u001b[0;34m\u001b[0m\u001b[0m\n\u001b[0m\u001b[1;32m    228\u001b[0m \u001b[0;34m\u001b[0m\u001b[0m\n\u001b[1;32m    229\u001b[0m         \u001b[0;32mif\u001b[0m \u001b[0;32mnot\u001b[0m \u001b[0mself\u001b[0m\u001b[0;34m.\u001b[0m\u001b[0mtransit_changes\u001b[0m \u001b[0;34m==\u001b[0m \u001b[0;32mNone\u001b[0m\u001b[0;34m:\u001b[0m\u001b[0;34m\u001b[0m\u001b[0;34m\u001b[0m\u001b[0m\n",
      "\u001b[0;32m~/Documents/urbanlabs/MetCouncil/working/client_met_council_wrangler_utilities/lasso/project.py\u001b[0m in \u001b[0;36madd_highway_changes\u001b[0;34m(self)\u001b[0m\n\u001b[1;32m    398\u001b[0m                 if (change_row[x] == base_df[x]) | (\n\u001b[1;32m    399\u001b[0m                     \u001b[0mx\u001b[0m\u001b[0;34m\u001b[0m\u001b[0;34m\u001b[0m\u001b[0m\n\u001b[0;32m--> 400\u001b[0;31m                     in [\n\u001b[0m\u001b[1;32m    401\u001b[0m                         \u001b[0;34m\"model_link_id\"\u001b[0m\u001b[0;34m,\u001b[0m\u001b[0;34m\u001b[0m\u001b[0;34m\u001b[0m\u001b[0m\n\u001b[1;32m    402\u001b[0m                         \u001b[0;34m\"area_type\"\u001b[0m\u001b[0;34m,\u001b[0m\u001b[0;34m\u001b[0m\u001b[0;34m\u001b[0m\u001b[0m\n",
      "\u001b[0;32m~/anaconda3/envs/wrangler/lib/python3.7/site-packages/pandas/core/generic.py\u001b[0m in \u001b[0;36m__nonzero__\u001b[0;34m(self)\u001b[0m\n\u001b[1;32m   1553\u001b[0m             \u001b[0;34m\"The truth value of a {0} is ambiguous. \"\u001b[0m\u001b[0;34m\u001b[0m\u001b[0;34m\u001b[0m\u001b[0m\n\u001b[1;32m   1554\u001b[0m             \"Use a.empty, a.bool(), a.item(), a.any() or a.all().\".format(\n\u001b[0;32m-> 1555\u001b[0;31m                 \u001b[0mself\u001b[0m\u001b[0;34m.\u001b[0m\u001b[0m__class__\u001b[0m\u001b[0;34m.\u001b[0m\u001b[0m__name__\u001b[0m\u001b[0;34m\u001b[0m\u001b[0;34m\u001b[0m\u001b[0m\n\u001b[0m\u001b[1;32m   1556\u001b[0m             )\n\u001b[1;32m   1557\u001b[0m         )\n",
      "\u001b[0;31mValueError\u001b[0m: The truth value of a Series is ambiguous. Use a.empty, a.bool(), a.item(), a.any() or a.all()."
     ]
    }
   ],
   "source": [
    "test_roadway_project = Project.create_project(\n",
    "        base_roadway_dir=os.path.join(EX_DIR,\"stpaul\"),\n",
    "        roadway_log_file=os.path.join(EX_DIR,\"cube\",\"st_paul_test.log\"),\n",
    "    )"
   ]
  },
  {
   "cell_type": "code",
   "execution_count": 6,
   "metadata": {},
   "outputs": [
    {
     "data": {
      "text/html": [
       "<div>\n",
       "<style scoped>\n",
       "    .dataframe tbody tr th:only-of-type {\n",
       "        vertical-align: middle;\n",
       "    }\n",
       "\n",
       "    .dataframe tbody tr th {\n",
       "        vertical-align: top;\n",
       "    }\n",
       "\n",
       "    .dataframe thead th {\n",
       "        text-align: right;\n",
       "    }\n",
       "</style>\n",
       "<table border=\"1\" class=\"dataframe\">\n",
       "  <thead>\n",
       "    <tr style=\"text-align: right;\">\n",
       "      <th></th>\n",
       "      <th>OBJECT</th>\n",
       "      <th>OPERATION</th>\n",
       "      <th>GROUP</th>\n",
       "      <th>A</th>\n",
       "      <th>B</th>\n",
       "      <th>model_link_id</th>\n",
       "      <th>county</th>\n",
       "      <th>transit_priority</th>\n",
       "      <th>area_type</th>\n",
       "      <th>HOV_access</th>\n",
       "      <th>...</th>\n",
       "      <th>distance</th>\n",
       "      <th>traveltime_assert</th>\n",
       "      <th>model_node_id</th>\n",
       "      <th>X</th>\n",
       "      <th>Y</th>\n",
       "      <th>osm_node_id</th>\n",
       "      <th>drive_node</th>\n",
       "      <th>walk_node</th>\n",
       "      <th>bike_node</th>\n",
       "      <th>transit_node</th>\n",
       "    </tr>\n",
       "  </thead>\n",
       "  <tbody>\n",
       "    <tr>\n",
       "      <th>0</th>\n",
       "      <td>L</td>\n",
       "      <td>C</td>\n",
       "      <td>0</td>\n",
       "      <td>13574</td>\n",
       "      <td>124453</td>\n",
       "      <td>19895</td>\n",
       "      <td>4</td>\n",
       "      <td>0</td>\n",
       "      <td>4</td>\n",
       "      <td>0</td>\n",
       "      <td>...</td>\n",
       "      <td>0.2706</td>\n",
       "      <td>0</td>\n",
       "      <td>NaN</td>\n",
       "      <td>NaN</td>\n",
       "      <td>NaN</td>\n",
       "      <td>NaN</td>\n",
       "      <td>NaN</td>\n",
       "      <td>NaN</td>\n",
       "      <td>NaN</td>\n",
       "      <td>NaN</td>\n",
       "    </tr>\n",
       "    <tr>\n",
       "      <th>1</th>\n",
       "      <td>L</td>\n",
       "      <td>C</td>\n",
       "      <td>0</td>\n",
       "      <td>124453</td>\n",
       "      <td>13574</td>\n",
       "      <td>278688</td>\n",
       "      <td>4</td>\n",
       "      <td>0</td>\n",
       "      <td>4</td>\n",
       "      <td>0</td>\n",
       "      <td>...</td>\n",
       "      <td>0.2706</td>\n",
       "      <td>0</td>\n",
       "      <td>NaN</td>\n",
       "      <td>NaN</td>\n",
       "      <td>NaN</td>\n",
       "      <td>NaN</td>\n",
       "      <td>NaN</td>\n",
       "      <td>NaN</td>\n",
       "      <td>NaN</td>\n",
       "      <td>NaN</td>\n",
       "    </tr>\n",
       "    <tr>\n",
       "      <th>2</th>\n",
       "      <td>L</td>\n",
       "      <td>C</td>\n",
       "      <td>1</td>\n",
       "      <td>13462</td>\n",
       "      <td>13574</td>\n",
       "      <td>19640</td>\n",
       "      <td>4</td>\n",
       "      <td>0</td>\n",
       "      <td>4</td>\n",
       "      <td>0</td>\n",
       "      <td>...</td>\n",
       "      <td>0.1083</td>\n",
       "      <td>0</td>\n",
       "      <td>NaN</td>\n",
       "      <td>NaN</td>\n",
       "      <td>NaN</td>\n",
       "      <td>NaN</td>\n",
       "      <td>NaN</td>\n",
       "      <td>NaN</td>\n",
       "      <td>NaN</td>\n",
       "      <td>NaN</td>\n",
       "    </tr>\n",
       "    <tr>\n",
       "      <th>3</th>\n",
       "      <td>L</td>\n",
       "      <td>C</td>\n",
       "      <td>1</td>\n",
       "      <td>13574</td>\n",
       "      <td>13462</td>\n",
       "      <td>19894</td>\n",
       "      <td>4</td>\n",
       "      <td>0</td>\n",
       "      <td>4</td>\n",
       "      <td>0</td>\n",
       "      <td>...</td>\n",
       "      <td>0.1083</td>\n",
       "      <td>0</td>\n",
       "      <td>NaN</td>\n",
       "      <td>NaN</td>\n",
       "      <td>NaN</td>\n",
       "      <td>NaN</td>\n",
       "      <td>NaN</td>\n",
       "      <td>NaN</td>\n",
       "      <td>NaN</td>\n",
       "      <td>NaN</td>\n",
       "    </tr>\n",
       "    <tr>\n",
       "      <th>4</th>\n",
       "      <td>L</td>\n",
       "      <td>C</td>\n",
       "      <td>2</td>\n",
       "      <td>13462</td>\n",
       "      <td>122908</td>\n",
       "      <td>19638</td>\n",
       "      <td>4</td>\n",
       "      <td>0</td>\n",
       "      <td>4</td>\n",
       "      <td>0</td>\n",
       "      <td>...</td>\n",
       "      <td>0.0679</td>\n",
       "      <td>0</td>\n",
       "      <td>NaN</td>\n",
       "      <td>NaN</td>\n",
       "      <td>NaN</td>\n",
       "      <td>NaN</td>\n",
       "      <td>NaN</td>\n",
       "      <td>NaN</td>\n",
       "      <td>NaN</td>\n",
       "      <td>NaN</td>\n",
       "    </tr>\n",
       "  </tbody>\n",
       "</table>\n",
       "<p>5 rows × 35 columns</p>\n",
       "</div>"
      ],
      "text/plain": [
       "  OBJECT OPERATION GROUP       A       B model_link_id county  \\\n",
       "0      L         C     0   13574  124453         19895      4   \n",
       "1      L         C     0  124453   13574        278688      4   \n",
       "2      L         C     1   13462   13574         19640      4   \n",
       "3      L         C     1   13574   13462         19894      4   \n",
       "4      L         C     2   13462  122908         19638      4   \n",
       "\n",
       "  transit_priority area_type HOV_access  ... distance traveltime_assert  \\\n",
       "0                0         4          0  ...   0.2706                 0   \n",
       "1                0         4          0  ...   0.2706                 0   \n",
       "2                0         4          0  ...   0.1083                 0   \n",
       "3                0         4          0  ...   0.1083                 0   \n",
       "4                0         4          0  ...   0.0679                 0   \n",
       "\n",
       "  model_node_id    X    Y osm_node_id drive_node walk_node bike_node  \\\n",
       "0           NaN  NaN  NaN         NaN        NaN       NaN       NaN   \n",
       "1           NaN  NaN  NaN         NaN        NaN       NaN       NaN   \n",
       "2           NaN  NaN  NaN         NaN        NaN       NaN       NaN   \n",
       "3           NaN  NaN  NaN         NaN        NaN       NaN       NaN   \n",
       "4           NaN  NaN  NaN         NaN        NaN       NaN       NaN   \n",
       "\n",
       "  transit_node  \n",
       "0          NaN  \n",
       "1          NaN  \n",
       "2          NaN  \n",
       "3          NaN  \n",
       "4          NaN  \n",
       "\n",
       "[5 rows x 35 columns]"
      ]
     },
     "execution_count": 6,
     "metadata": {},
     "output_type": "execute_result"
    }
   ],
   "source": [
    "test_roadway_project.roadway_changes[0:5]"
   ]
  },
  {
   "cell_type": "code",
   "execution_count": 28,
   "metadata": {},
   "outputs": [
    {
     "data": {
      "text/plain": [
       "Index(['OBJECT', 'OPERATION', 'GROUP', 'A', 'B', 'model_link_id', 'county',\n",
       "       'transit_priority', 'area_type', 'HOV_access', 'aadt', 'count_AM',\n",
       "       'count_MD', 'count_PM', 'count_NT', 'count_daily', 'assignment_group',\n",
       "       'lanes', 'centroid_connector', 'roadway_class', 'bike_facility',\n",
       "       'drive_access', 'walk_access', 'bike_access', 'transit_access',\n",
       "       'distance', 'traveltime_assert', 'model_node_id', 'X', 'Y',\n",
       "       'osm_node_id', 'drive_node', 'walk_node', 'bike_node', 'transit_node'],\n",
       "      dtype='object')"
      ]
     },
     "execution_count": 28,
     "metadata": {},
     "output_type": "execute_result"
    }
   ],
   "source": [
    "test_roadway_project.roadway_changes.columns"
   ]
  },
  {
   "cell_type": "code",
   "execution_count": 9,
   "metadata": {},
   "outputs": [
    {
     "data": {
      "text/plain": [
       "{'project': 'USER TO define', 'changes': []}"
      ]
     },
     "execution_count": 9,
     "metadata": {},
     "output_type": "execute_result"
    }
   ],
   "source": [
    "test_roadway_project.card_data"
   ]
  },
  {
   "cell_type": "code",
   "execution_count": 7,
   "metadata": {},
   "outputs": [],
   "source": [
    "test_roadway_project.write_project_card(\n",
    "        \"roadway_test.yml\"\n",
    "    )"
   ]
  },
  {
   "cell_type": "markdown",
   "metadata": {},
   "source": [
    "## Transit Project Card\n",
    "\n",
    "Transit project cards are built by taking the differences between two cube transit line files."
   ]
  },
  {
   "cell_type": "code",
   "execution_count": null,
   "metadata": {},
   "outputs": [],
   "source": [
    "test_transit_project = Project.create_project(\n",
    "        base_transit_dir=os.path.join(EX_DIR,\"cube\",\"transit.LIN_\"),\n",
    "        build_transit_dir=os.path.join(EX_DIR,\"cube\",\"Reroute_294.LIN_\"),\n",
    "    )\n",
    "\n",
    "test_transit_project.write_project_card(\n",
    "        \"transit_test.yml\"\n",
    "    )"
   ]
  },
  {
   "cell_type": "code",
   "execution_count": null,
   "metadata": {},
   "outputs": [],
   "source": []
  }
 ],
 "metadata": {
  "kernelspec": {
   "display_name": "Python 3",
   "language": "python",
   "name": "python3"
  },
  "language_info": {
   "codemirror_mode": {
    "name": "ipython",
    "version": 3
   },
   "file_extension": ".py",
   "mimetype": "text/x-python",
   "name": "python",
   "nbconvert_exporter": "python",
   "pygments_lexer": "ipython3",
   "version": "3.7.3"
  }
 },
 "nbformat": 4,
 "nbformat_minor": 2
}

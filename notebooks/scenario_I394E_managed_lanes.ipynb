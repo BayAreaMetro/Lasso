{
 "cells": [
  {
   "cell_type": "markdown",
   "metadata": {},
   "source": [
    "# I394E managed lanes.\n",
    "\n",
    "In this notebook we will run through:\n",
    "\n",
    "1. Using a configuration file to run lasso  \n",
    "2. Setting up a base scenario and applying projects  \n",
    "3. Transforming the standard network format to the MetCouncil expected format    \n",
    "4. Exporting the network to a shapefile and csvs  "
   ]
  },
  {
   "cell_type": "code",
   "execution_count": 1,
   "metadata": {},
   "outputs": [],
   "source": [
    "import os\n",
    "import sys\n",
    "import yaml\n",
    "\n",
    "import pandas as pd\n",
    "\n",
    "from network_wrangler import RoadwayNetwork\n",
    "from network_wrangler import TransitNetwork\n",
    "from network_wrangler import ProjectCard\n",
    "from network_wrangler import Scenario\n",
    "from network_wrangler import WranglerLogger\n",
    "\n",
    "from lasso import ModelRoadwayNetwork\n",
    "from lasso import StandardTransit"
   ]
  },
  {
   "cell_type": "code",
   "execution_count": 2,
   "metadata": {},
   "outputs": [],
   "source": [
    "%load_ext autoreload\n",
    "%autoreload 2\n",
    "%config IPCompleter.greedy=True"
   ]
  },
  {
   "cell_type": "code",
   "execution_count": 3,
   "metadata": {},
   "outputs": [],
   "source": [
    "import logging\n",
    "logger = logging.getLogger(\"WranglerLogger\")\n",
    "logger.handlers[0].stream = sys.stdout\n",
    "# if you don't want to see so much detail, set to logging.INFO or DEBUG\n",
    "logger.setLevel(logging.DEBUG)"
   ]
  },
  {
   "cell_type": "markdown",
   "metadata": {},
   "source": [
    "## Read a Config File\n",
    "\n",
    "Let's examine the configuration file and store it as `my_config` variable.  \n",
    "\n",
    "Configuration files are written in YAML and read in as python dictionaries."
   ]
  },
  {
   "cell_type": "code",
   "execution_count": 11,
   "metadata": {},
   "outputs": [
    {
     "name": "stdout",
     "output_type": "stream",
     "text": [
      "{\n",
      "  \"base_scenario\": {\n",
      "    \"input_dir\": \"C:/projects/met_council_git/data/interim/networks/base_network\",\n",
      "    \"shape_file_name\": \"shape.geojson\",\n",
      "    \"link_file_name\": \"link.json\",\n",
      "    \"node_file_name\": \"node.geojson\",\n",
      "    \"transit_directory\": \"\",\n",
      "    \"validate_network\": false\n",
      "  },\n",
      "  \"scenario\": {\n",
      "    \"project_cards_filenames\": [\n",
      "      \"C:/projects/met_council_git/data/interim/project_cards/i394_reversible_managed_lane.yml\",\n",
      "      \"C:/projects/met_council_git/data/interim/project_cards/t_all_link_updated_assgngp.yml\",\n",
      "      \"C:/projects/met_council_git/data/interim/project_cards/t_update_met_council_network_manual_edits_010920.yml\",\n",
      "      \"C:/projects/met_council_git/data/interim/project_cards/t_update_met_council_network_mn_highways_010920.yml\"\n",
      "    ],\n",
      "    \"card_directory\": [],\n",
      "    \"glob_search\": [],\n",
      "    \"tags\": []\n",
      "  },\n",
      "  \"output\": {\n",
      "    \"format\": \"geojson\",\n",
      "    \"directory\": \"\",\n",
      "    \"prefix\": \"\"\n",
      "  }\n",
      "}\n"
     ]
    }
   ],
   "source": [
    "MY_CONFIG_FILE = \"C:/projects/met_council_git/data/interim/project_cards/settings/i394_reversible_lane.yaml\"\n",
    "\n",
    "with open(MY_CONFIG_FILE) as f:\n",
    "        my_config = yaml.safe_load(f)\n",
    "        \n",
    "import json\n",
    "print(json.dumps(my_config, indent=2))\n",
    "\n",
    "## Alternatively this could be written in the notebook our selected via a notebook GUI"
   ]
  },
  {
   "cell_type": "markdown",
   "metadata": {},
   "source": [
    "## Create a Base Scenario\n",
    "\n",
    "Base scenarios must at the least specify a highway network but can also specify a directory where transit networks can be found.  \n",
    "\n",
    "In this step the highway and transit networks are read in and validated to each other.  \n",
    "\n",
    "In some cases, you may want to override the validation (after reviewing the errors) using the flag: `validate = False`."
   ]
  },
  {
   "cell_type": "code",
   "execution_count": 12,
   "metadata": {},
   "outputs": [
    {
     "name": "stdout",
     "output_type": "stream",
     "text": [
      "2020-05-22 10:57:28, INFO: Base Wrangler Path: D:\\network_wrangler\n",
      "2020-05-22 10:57:28, INFO: Reading from following files:\n",
      "-C:/projects/met_council_git/data/interim/networks/base_network\\link.json\n",
      "-C:/projects/met_council_git/data/interim/networks/base_network\\node.geojson\n",
      "-C:/projects/met_council_git/data/interim/networks/base_network\\shape.geojson.\n",
      "2020-05-22 11:01:42, INFO: Read 1134074 links from C:/projects/met_council_git/data/interim/networks/base_network\\link.json\n",
      "2020-05-22 11:01:42, INFO: Read 354346 nodes from C:/projects/met_council_git/data/interim/networks/base_network\\node.geojson\n",
      "2020-05-22 11:01:42, INFO: Read 1134074 shapes from C:/projects/met_council_git/data/interim/networks/base_network\\shape.geojson\n",
      "2020-05-22 11:06:30, INFO: Read in transit feed from: C:/projects/met_council_git/data/interim/networks/base_network\n",
      "2020-05-22 11:06:30, DEBUG: ...agency.txt:\n",
      "  agency_id       agency_name                   agency_url  agency_timezone  \\\n",
      "0         0     Metro Transit  http://www.metrotransit.org  America/Chicago   \n",
      "1         2     Metro Transit  http://www.metrotransit.org  America/Chicago   \n",
      "2         3  Minnesota Valley          http://www.mvta.com  America/Chicago   \n",
      "\n",
      "  agency_lang  \n",
      "0          EN  \n",
      "1          EN  \n",
      "2          EN  \n",
      "2020-05-22 11:06:30, DEBUG: ...routes.txt:\n",
      "  route_id agency_id route_short_name  \\\n",
      "0    3-111         0                3   \n",
      "1   16-111         2               16   \n",
      "2   21-111         0               21   \n",
      "3   53-111         0               53   \n",
      "4   62-111         0               62   \n",
      "5   67-111         0               67   \n",
      "6   70-111         0               70   \n",
      "7   71-111         0               71   \n",
      "8   74-111         0               74   \n",
      "9   75-111         0               75   \n",
      "\n",
      "                                     route_long_name route_desc  route_type  \\\n",
      "0    U of M - Como Av - Energy Park Dr - Maryland Av        NaN           3   \n",
      "1                             University Av - Midway        NaN           3   \n",
      "2              Uptown - Lake St - Midway - Selby  Av        NaN           3   \n",
      "3          Ltd Stop - Uptown - Lake St - Marshall Av        NaN           3   \n",
      "4   Shoreview - Little Canada - Rice St Signal Hills        NaN           3   \n",
      "5         W Minnehaha Av - Raymond Sta - Franklin Av        NaN           3   \n",
      "6         St Clair Av - W 7th St - Burns Av - Sunray        NaN           3   \n",
      "7   Little Canada - Edgerton - Concord - Inver Hills        NaN           3   \n",
      "8  46th St - Randolph - W 7th St - E 7th St - Sunray        NaN           3   \n",
      "9    Stryker - Robert - Mendota Hts - Lake Cove Apts        NaN           3   \n",
      "\n",
      "                              route_url route_color route_text_color  \n",
      "0   http://www.metrotransit.org/route/3         NaN           000000  \n",
      "1  http://www.metrotransit.org/route/16         NaN           000000  \n",
      "2  http://www.metrotransit.org/route/21         NaN           000000  \n",
      "3  http://www.metrotransit.org/route/53         NaN           000000  \n",
      "4  http://www.metrotransit.org/route/62         NaN           000000  \n",
      "5  http://www.metrotransit.org/route/67         NaN           000000  \n",
      "6  http://www.metrotransit.org/route/70         NaN           000000  \n",
      "7  http://www.metrotransit.org/route/71         NaN           000000  \n",
      "8  http://www.metrotransit.org/route/74         NaN           000000  \n",
      "9  http://www.metrotransit.org/route/75         NaN           000000  \n",
      "2020-05-22 11:06:30, DEBUG: ...calendar.txt:\n",
      "Empty DataFrame\n",
      "Columns: [service_id, monday, tuesday, wednesday, thursday, friday, saturday, sunday, start_date, end_date]\n",
      "Index: []\n",
      "2020-05-22 11:06:30, INFO: Removing calendar.txt from transit network config because file not found\n",
      "2020-05-22 11:06:30, DEBUG: ...trips.txt:\n",
      "  route_id                service_id                            trip_id  \\\n",
      "0  452-111  JUN19-MVS-BUS-Weekday-01  14940701-JUN19-MVS-BUS-Weekday-01   \n",
      "1    3-111  JUN19-MVS-BUS-Weekday-01  14941148-JUN19-MVS-BUS-Weekday-01   \n",
      "2    3-111  JUN19-MVS-BUS-Weekday-01  14941151-JUN19-MVS-BUS-Weekday-01   \n",
      "3    3-111  JUN19-MVS-BUS-Weekday-01  14941153-JUN19-MVS-BUS-Weekday-01   \n",
      "4    3-111  JUN19-MVS-BUS-Weekday-01  14941163-JUN19-MVS-BUS-Weekday-01   \n",
      "5   74-111  JUN19-MVS-BUS-Weekday-01  14941643-JUN19-MVS-BUS-Weekday-01   \n",
      "6   74-111  JUN19-MVS-BUS-Weekday-01  14941652-JUN19-MVS-BUS-Weekday-01   \n",
      "7  417-111  JUN19-MVS-BUS-Weekday-01  14942968-JUN19-MVS-BUS-Weekday-01   \n",
      "8  294-111  JUN19-MVS-BUS-Weekday-01  14943414-JUN19-MVS-BUS-Weekday-01   \n",
      "9  294-111  JUN19-MVS-BUS-Weekday-01  14943415-JUN19-MVS-BUS-Weekday-01   \n",
      "\n",
      "                                       trip_headsign  direction_id block_id  \\\n",
      "0               Westbound 452  Express / Minneapolis             1     1874   \n",
      "1     Eastbound 3B Como Av/St Paul - Depot/Via Front             0     1018   \n",
      "2     Westbound 3B Como-Front/Dwtn Mpls/Target Field             1     1017   \n",
      "3     Westbound 3B Como-Front/Dwtn Mpls/Target Field             1     1017   \n",
      "4     Eastbound 3B Como Av/St Paul - Depot/Via Front             0     1036   \n",
      "5          Westbound 74A  Randolph Av / 46St Station             1     1642   \n",
      "6          Westbound 74A  Randolph Av / 46St Station             1     1642   \n",
      "7          Northbound 417 Ltd Stop/ Dodd Rd/ St Paul             0    31290   \n",
      "8                   Westbound 294  Express / St Paul             1     1576   \n",
      "9  Eastbound 294 Express/St Crx P&R/Via 4 Front Tech             0     1649   \n",
      "\n",
      "  shape_id  wheelchair_accessible trip_destination trip_short_name  \\\n",
      "0  4520004                    1.0              NaN             NaN   \n",
      "1    30009                    1.0              NaN             NaN   \n",
      "2    30014                    1.0              NaN             NaN   \n",
      "3    30014                    1.0              NaN             NaN   \n",
      "4    30009                    1.0              NaN             NaN   \n",
      "5   740006                    1.0              NaN             NaN   \n",
      "6   740006                    1.0              NaN             NaN   \n",
      "7  4170001                    1.0              NaN             NaN   \n",
      "8  2940002                    1.0              NaN             NaN   \n",
      "9  2940004                    1.0              NaN             NaN   \n",
      "\n",
      "  trip_route_name pub_dir_id rm_block_id  \n",
      "0             NaN        NaN         NaN  \n",
      "1             NaN        NaN         NaN  \n",
      "2             NaN        NaN         NaN  \n",
      "3             NaN        NaN         NaN  \n",
      "4             NaN        NaN         NaN  \n",
      "5             NaN        NaN         NaN  \n",
      "6             NaN        NaN         NaN  \n",
      "7             NaN        NaN         NaN  \n",
      "8             NaN        NaN         NaN  \n",
      "9             NaN        NaN         NaN  \n",
      "2020-05-22 11:06:30, DEBUG: ...calendar_dates.txt:\n",
      "Empty DataFrame\n",
      "Columns: [service_id, date, exception_type]\n",
      "Index: []\n",
      "2020-05-22 11:06:30, INFO: Removing calendar_dates.txt from transit network config because file not found\n",
      "2020-05-22 11:06:30, DEBUG: ...fare_attributes.txt:\n",
      "Empty DataFrame\n",
      "Columns: [fare_id, price, currency_type, payment_method, transfers]\n",
      "Index: []\n",
      "2020-05-22 11:06:30, INFO: Removing fare_attributes.txt from transit network config because file not found\n",
      "2020-05-22 11:06:30, DEBUG: ...fare_rules.txt:\n",
      "Empty DataFrame\n",
      "Columns: [fare_id]\n",
      "Index: []\n",
      "2020-05-22 11:06:30, INFO: Removing fare_rules.txt from transit network config because file not found\n",
      "2020-05-22 11:06:30, DEBUG: ...stops.txt:\n",
      "  stop_id stop_code                        stop_name      stop_desc  \\\n",
      "0   10119       NaN  St Clair Ave & Stairs to Grotto    Near side W   \n",
      "1   10120       NaN           St Clair Ave & Avon St    Near side W   \n",
      "2   10121       NaN       St Clair Ave & Victoria St    Near side W   \n",
      "3   10123       NaN         St Clair Ave & Milton St    Near side W   \n",
      "4   10124       NaN     St Clair Ave & Chatsworth St    Near side W   \n",
      "5   10126       NaN         St Clair Ave & Oxford St    Near side W   \n",
      "6   10172       NaN        St Clair Ave & Benhill Rd    Near side E   \n",
      "7   10174       NaN         St Clair Ave & Milton St    Near side E   \n",
      "8   10176       NaN       St Clair Ave & Victoria St  Across from E   \n",
      "9   10177       NaN           St Clair Ave & Avon St  Across from E   \n",
      "\n",
      "    stop_lat   stop_lon zone_id  \\\n",
      "0  44.934173 -93.131190     NaN   \n",
      "1  44.934178 -93.133690     NaN   \n",
      "2  44.934186 -93.136243     NaN   \n",
      "3  44.934210 -93.138773     NaN   \n",
      "4  44.934218 -93.141323     NaN   \n",
      "5  44.934215 -93.143884     NaN   \n",
      "6  44.934106 -93.143053     NaN   \n",
      "7  44.934106 -93.139055     NaN   \n",
      "8  44.934084 -93.136517     NaN   \n",
      "9  44.934073 -93.133944     NaN   \n",
      "\n",
      "                                            stop_url  location_type  \\\n",
      "0  http://www.metrotransit.org/NexTripBadge.aspx?...              0   \n",
      "1  http://www.metrotransit.org/NexTripBadge.aspx?...              0   \n",
      "2  http://www.metrotransit.org/NexTripBadge.aspx?...              0   \n",
      "3  http://www.metrotransit.org/NexTripBadge.aspx?...              0   \n",
      "4  http://www.metrotransit.org/NexTripBadge.aspx?...              0   \n",
      "5  http://www.metrotransit.org/NexTripBadge.aspx?...              0   \n",
      "6  http://www.metrotransit.org/NexTripBadge.aspx?...              0   \n",
      "7  http://www.metrotransit.org/NexTripBadge.aspx?...              0   \n",
      "8  http://www.metrotransit.org/NexTripBadge.aspx?...              0   \n",
      "9  http://www.metrotransit.org/NexTripBadge.aspx?...              0   \n",
      "\n",
      "   wheelchair_boarding model_node_id osm_node_id  \\\n",
      "0                  1.0         46886   187868000   \n",
      "1                  1.0         54358   187883263   \n",
      "2                  1.0         43004   187860779   \n",
      "3                  1.0         57392   187890295   \n",
      "4                  1.0         56476   187888280   \n",
      "5                  1.0         74731   187936294   \n",
      "6                  1.0         74730   187936293   \n",
      "7                  1.0         57392   187890295   \n",
      "8                  1.0        137734  3071141453   \n",
      "9                  1.0         54358   187883263   \n",
      "\n",
      "                          node_ssid parent_station  \n",
      "0  e096bcee806f8ee804e223b832b914a4            NaN  \n",
      "1  fb83b4f2cd360907befedfaf61081ef2            NaN  \n",
      "2  c16292a1f8165c26b71f2743189b7a49            NaN  \n",
      "3                               NaN            NaN  \n",
      "4                               NaN            NaN  \n",
      "5  e253d08af7eac74b6650133252908472            NaN  \n",
      "6  192efcdf1e3bf6912303adcba9c18bbb            NaN  \n",
      "7                               NaN            NaN  \n",
      "8  49e0f73c301f745ec9dc36a5b752a32e            NaN  \n",
      "9  fb83b4f2cd360907befedfaf61081ef2            NaN  \n"
     ]
    },
    {
     "name": "stdout",
     "output_type": "stream",
     "text": [
      "2020-05-22 11:06:30, DEBUG: ...frequencies.txt:\n",
      "                             trip_id  headway_secs  start_time  end_time\n",
      "0  14940701-JUN19-MVS-BUS-Weekday-01          3600     21600.0   32400.0\n",
      "1  14941148-JUN19-MVS-BUS-Weekday-01           830     21600.0   32400.0\n",
      "2  14941151-JUN19-MVS-BUS-Weekday-01           540     21600.0   32400.0\n",
      "3  14941153-JUN19-MVS-BUS-Weekday-01           696     32400.0   54000.0\n",
      "4  14941163-JUN19-MVS-BUS-Weekday-01           830     32400.0   54000.0\n",
      "5  14941643-JUN19-MVS-BUS-Weekday-01           900     21600.0   32400.0\n",
      "6  14941652-JUN19-MVS-BUS-Weekday-01          1200     32400.0   54000.0\n",
      "7  14942968-JUN19-MVS-BUS-Weekday-01          5400     21600.0   32400.0\n",
      "8  14943414-JUN19-MVS-BUS-Weekday-01          2160     21600.0   32400.0\n",
      "9  14943415-JUN19-MVS-BUS-Weekday-01          5400     21600.0   32400.0\n",
      "2020-05-22 11:06:30, DEBUG: ...shapes.txt:\n",
      "  shape_id  shape_pt_lat  shape_pt_lon  shape_pt_sequence shape_osm_node_id  \\\n",
      "0  4520004     44.923257    -93.067060                 55         507955865   \n",
      "1  4520004     44.930632    -93.071166                 56         507951624   \n",
      "2  4520004     44.932669    -93.071710                 57         507951633   \n",
      "3  4520004     44.939445    -93.075273                 58         507951645   \n",
      "4  4520004     44.943056    -93.076998                 59        2548150957   \n",
      "5  4520004     44.951951    -93.081687                 60        2291969930   \n",
      "6  4520004     44.952673    -93.083884                 61         187872060   \n",
      "7  4520004     44.952707    -93.087583                 62         961117649   \n",
      "8  4520004     44.954043    -93.089649                 63         961116213   \n",
      "9  4520004     44.952407    -93.096553                 64         961086473   \n",
      "\n",
      "  shape_model_node_id  \n",
      "0              152495  \n",
      "1              151635  \n",
      "2              151637  \n",
      "3              151641  \n",
      "4               23834  \n",
      "5              108658  \n",
      "6               49113  \n",
      "7               19614  \n",
      "8               19288  \n",
      "9               11354  \n",
      "2020-05-22 11:06:30, DEBUG: ...stop_times.txt:\n",
      "                             trip_id  arrival_time  departure_time stop_id  \\\n",
      "0  14940701-JUN19-MVS-BUS-Weekday-01           0.0             0.0   56107   \n",
      "1  14940701-JUN19-MVS-BUS-Weekday-01           0.0             0.0   42823   \n",
      "2  14940701-JUN19-MVS-BUS-Weekday-01           0.0             0.0   44061   \n",
      "3  14940701-JUN19-MVS-BUS-Weekday-01          60.0            60.0   42822   \n",
      "4  14940701-JUN19-MVS-BUS-Weekday-01          60.0            60.0   42821   \n",
      "5  14940701-JUN19-MVS-BUS-Weekday-01         120.0           120.0   42820   \n",
      "6  14940701-JUN19-MVS-BUS-Weekday-01         120.0           120.0    2719   \n",
      "7  14940701-JUN19-MVS-BUS-Weekday-01         120.0           120.0    2720   \n",
      "8  14940701-JUN19-MVS-BUS-Weekday-01         180.0           180.0    2721   \n",
      "9  14940701-JUN19-MVS-BUS-Weekday-01         180.0           180.0    2722   \n",
      "\n",
      "   stop_sequence  pickup_type drop_off_type stop_distance  timepoint  \\\n",
      "0              1            0             0           NaN        NaN   \n",
      "1              2            0             0           NaN        NaN   \n",
      "2              3            0             0           NaN        NaN   \n",
      "3              4            0             0           NaN        NaN   \n",
      "4              5            0             0           NaN        NaN   \n",
      "5              6            0             0           NaN        NaN   \n",
      "6              7            0             0           NaN        NaN   \n",
      "7              8            0             0           NaN        NaN   \n",
      "8              9            0             0           NaN        NaN   \n",
      "9             10            0             0           NaN        NaN   \n",
      "\n",
      "  stop_is_skipped  \n",
      "0             NaN  \n",
      "1             NaN  \n",
      "2             NaN  \n",
      "3             NaN  \n",
      "4             NaN  \n",
      "5             NaN  \n",
      "6             NaN  \n",
      "7             NaN  \n",
      "8             NaN  \n",
      "9             NaN  \n",
      "2020-05-22 11:06:30, DEBUG: ...transfers.txt:\n",
      "Empty DataFrame\n",
      "Columns: [from_stop_id, to_stop_id, transfer_type, min_transfer_time]\n",
      "Index: []\n",
      "2020-05-22 11:06:30, INFO: Removing transfers.txt from transit network config because file not found\n",
      "2020-05-22 11:06:30, DEBUG: ...feed_info.txt:\n",
      "Empty DataFrame\n",
      "Columns: [feed_publisher_name, feed_publisher_url, feed_lang]\n",
      "Index: []\n",
      "2020-05-22 11:06:30, INFO: Removing feed_info.txt from transit network config because file not found\n",
      "2020-05-22 11:06:30, WARNING: The following stop_ids from are referenced but missing from stops.txt: [nan, '10127', '15099', '3066', '388', '10560', '48573', '11003', '10133', '50220', '319', '10162', '18617', '48579', '13699', '48583', '51285', '13790', '56008', '19049', '51132', '16967', '46915', '15818', '56331', '11015', '267', '2747', '16945', '5181', '9718', '46942', '13223', '46925', '40974', '42382', '17884', '52536', '56041', '16092', '7458', '12898', '15223', '56036', '52789', '7297', '16932', '10223', '16875', '2734', '7646', '324', '16080', '15100', '51409', '40055', '10135', '18883', '389', '16901', '42039', '320', '13676', '49689', '2741', '7704', '46943', '15819', '9708', '9719', '13259', '13786', '46939', '16607', '15867', '46961', '46919', '56040', '338', '7277', '56335', '16066', '612', '10153', '51515', '56591', '392', '16111', '51206', '16949', '321', '17900', '51547', '53765', '7636', '16993', '10146', '46956', '51408', '14730', '19032', '50116', '13704', '40087', '16924', '3067', '43816', '49647', '18565', '918', '344', '54011', '10208', '50841', '46913', '16877', '17865', '2742', '811', '13702', '2713', '56107', '17887', '18870', '16832', '16968', '668', '46917', '390', '9685', '53872', '10140', '19047', '47073', '15859', '15857', '52857', '7287', '51093', '7296', '10134', '16998', '15130', '2700', '51454', '43553', '15798', '16514', '599', '15810', '40981', '19040', '15811', '49887', '15189', '2732', '40131', '7456', '16997', '56789', '397', '42657', '42041', '7683', '2284', '51780', '19034', '7638', '658', '16988', '49635', '369', '10147', '9706', '10221', '16841', '3070', '51095', '922', '7285', '404', '18302', '46898', '408', '56330', '259', '870', '16851', '52785', '10220', '56021', '52059', '19008', '13690', '2748', '19038', '7634', '809', '42444', '10559', '3217', '9688', '924', '938', '49637', '1334', '4992', '604', '18236', '46910', '13674', '48578', '808', '17860', '609', '50667', '16836', '3073', '46955', '49690', '1332', '814', '49656', '18873', '10168', '16091', '3068', '16067', '10205', '46912', '16837', '13236', '18564', '2745', '18665', '51113', '16103', '19039', '51183', '9910', '11712', '40987', '5182', '15101', '56784', '3056', '10144', '5099', '13675', '16845', '17890', '53435', '613', '46906', '12900', '18557', '16868', '18884', '49422', '46918', '42196', '12915', '44062', '12901', '49650', '2744', '19036', '10145', '7640', '40970', '7453', '49778', '19048', '13767', '18817', '16999', '53439', '19037', '16960', '5101', '7465', '17899', '16525', '51116', '80013', '8012', '16863', '56332', '18305', '16534', '43555', '7466', '56038', '46911', '15803', '42573', '10201', '13774', '2715', '51091', '2473', '9909', '7643', '268', '401', '13275', '3306', '425', '10199', '7472', '46899', '42820', '405', '16958', '50596', '18616', '812', '16531', '13630', '49651', '56704', '56768', '4282', '46896', '52788', '16860', '56338', '3054', '13672', '872', '16947', '2423', '2472', '56001', '56043', '42821', '53887', '56703', '47070', '49643', '49780', '49694', '7506', '46958', '9675', '1247', '40954', '2424', '46935', '2746', '41059', '17003', '15863', '16887', '326', '9709', '1333', '12903', '46908', '925', '15224', '18809', '330', '49896', '9699', '7254', '322', '10129', '56293', '10562', '40976', '45313', '10159', '16523', '9911', '42823', '10148', '46926', '56325', '16886', '56702', '16855', '52041', '2718', '16915', '15877', '46960', '56003', '56173', '7645', '15856', '18695', '3065', '13773', '51092', '19044', '916', '18882', '46909', '43815', '18566', '43496', '49888', '46880', '17870', '18229', '16859', '11746', '269', '42663', '2721', '644', '43022', '13765', '11710', '387', '17881', '53284', '2470', '364', '50114', '426', '7261', '16912', '7272', '17897', '16909', '16097', '340', '2719', '15874', '366', '2738', '2443', '17373', '400', '1478', '919', '5098', '43293', '15806', '14734', '52262', '7449', '49698', '48728', '46701', '52261', '10152', '43814', '7457', '42213', '51453', '52786', '13769', '48577', '50099', '15215', '15198', '53806', '46954', '16880', '911', '47529', '56009', '18563', '13688', '10218', '49178', '11709', '16895', '10204', '7502', '12902', '664', '80024', '16867', '9724', '13770', '46934', '19046', '614', '56004', '16077', '13279', '49697', '42843', '13761', '51048', '16946', '15866', '50743', '874', '19009', '56785', '43287', '11006', '46704', '665', '9704', '50542', '46924', '10170', '51096', '10157', '54098', '11011', '13694', '659', '43286', '53871', '9680', '43554', '53914', '914', '10224', '56334', '49660', '47069', '670', '271', '48296', '42822', '11744', '17864', '930', '49658', '50092', '16908', '10138', '881', '11716', '10226', '46702', '48574', '16866', '13757', '18810', '19033', '9683', '46699', '16948', '13667', '18523', '13678', '51290', '2739', '9692', '9713', '17857', '41542', '56788', '16890', '53121', '402', '377', '10139', '49688', '15878', '3071', '810', '40973', '7635', '49179', '40967', '56790', '2706', '53440', '16098', '80025', '46923', '12895', '56128', '2723', '41061', '51493', '53723', '48383', '7260', '16107', '52792', '19019', '7459', '12897', '52790', '56039', '56007', '16839', '17000', '42319', '51090', '262', '10150', '16881', '10155', '47068', '51424', '18303', '47815', '5249', '42310', '13708', '9702', '49979', '11752', '16070', '2435', '51450', '9690', '16559', '19021', '15809', '2710', '18875', '395', '18297', '3055', '13269', '15057', '648', '660', '18233', '56006', '2750', '877', '7446', '16865', '16920', '11749', '51184', '13705', '15868', '414', '52791', '16835', '7508', '266', '642', '56226', '9691', '13633', '49646', '52787', '18299', '16937', '16884', '2452', '51532', '7454', '7455', '16904', '15801', '56174', '2735', '16913', '886', '261', '46697', '318', '16102', '7256', '13789', '1243', '13701', '56787', '2737', '43559', '46700', '2722', '40125', '50595', '926', '18626', '15814', '10206', '17901', '12896', '42036', '13221', '41383', '18556', '51786', '13631', '10207', '9686', '56002', '2717', '16964', '10161', '46927', '16914', '7468', '16882', '11751', '16072', '917', '16989', '46957', '329', '46929', '7253', '2287', '9698', '51495', '13787', '42655', '13755', '10228', '9912', '46930', '7637', '10149', '19041', '16833', '18301', '49881', '48122', '16558', '15860', '19028', '260', '18816', '595', '56776', '16085', '17894', '18306', '15214', '4290', '40979', '40977', '12899', '10225', '46938', '49648', '18219', '10219', '605', '15872', '7503', '49889', '16076', '50212', '56333', '9710', '2736', '56339', '15222', '16941', '15855', '18811', '51448', '2450', '17859', '52305', '49641', '46705', '333', '49636', '7448', '5167', '49691', '10130', '40983', '15799', '13700', '4287', '54099', '51131', '13762', '48949', '939', '15196', '18220', '17001', '15131', '51071', '43504', '9705', '936', '13785', '16104', '52850', '407', '3069', '17305', '16990', '19045', '9716', '15217', '16965', '15102', '9707', '15054', '2707', '49640', '393', '19018', '9700', '40109', '56168', '46963', '16842', '52062', '2733', '16969', '9721', '921', '16930', '49890', '623', '51452', '13624', '46932', '47249', '16888', '9715', '9859', '16996', '50157', '2446', '49237', '49242', '16086', '42032', '873', '876', '2703', '18694', '16950', '52060', '42195', '16192', '9695', '13211', '56337', '4286', '50218', '17895', '15154', '17004', '56037', '13763', '16532', '10143', '1245', '56336', '53168', '17863', '15225', '5177', '935', '2705', '9727', '11711', '9687', '13241', '16894', '365', '16878', '44061', '17002', '10200', '10209', '370', '46921', '16991', '56034', '671', '940', '48569', '46905', '3072', '52063', '56786', '13784', '7470', '16966', '46914', '258', '11745', '18562', '882', '49657', '46903', '11706', '13245', '7464', '331', '16959', '16081', '53385', '625', '18298', '11014', '17882', '15876', '7259', '535', '9676', '11742', '49642', '15861', '13695', '382', '602', '11748', '50840', '49652', '15221', '46691', '56042', '16963', '43551', '7504', '50100', '56783', '9696', '50725', '15807', '17888', '7258', '10166', '2716', '11715', '2749', '18304', '56052', '48384', '2712', '18309', '18300', '884', '49141', '52047', '51449', '49659', '10203', '49692', '46916', '332', '13629', '7705', '669', '10131', '18872', '46928', '7642', '17866', '40118', '16527', '16101', '270', '2711', '16926', '7686', '16513', '15228', '2704', '49423', '15218', '13692', '52061', '50594', '866', '46907', '7505', '13759', '18307', '317', '2702', '46959', '662', '53142', '9728', '624', '14735', '51200', '13677', '15190', '19031', '18808', '15199', '16943', '48580', '2469', '13758', '48297', '46980', '16992', '16108', '879', '56035', '19023', '19035', '2281', '9726', '7445', '16853', '49750', '11754', '7507', '7644', '56292', '335', '53913', '15869', '15816', '16892', '15056', '42838', '16900', '9723', '5170', '10227', '1242', '16902', '40179', '16921', '16971', '16879', '56425', '19022', '16530', '51423', '5003', '15216', '11755', '15055', '10165', '54046', '11002', '9703', '1244', '53873', '49784', '46897', '46936', '47081', '51784', '13261', '18308', '13754', '46931', '16931', '16933', '16093', '15865', '51793', '16957', '2280', '15219', '17956', '10156', '15211', '7469', '51533', '46904', '647', '4288', '1335', '11747', '10151', '14727', '9720', '50024', '937', '43794', '15191', '607', '43505', '42040', '51785', '409', '16094', '2720', '47797', '50593', '7255', '7447', '11707', '49634', '46920', '52555', '56005', '385', '15804', '42845', '40985', '46937', '42844', '11743', '2283', '16857', '47794', '46922', '2740', '49779', '56599', '46933', '46901', '2731', '16846', '5100', '929', '13267', '5247', '49774', '18814', '47795', '50682', '17903', '17040', '10163', '52043', '43557', '50588', '11007', '13697', '40148', '15808', '46900', '927', '10137', '45314', '13750', '9689', '16071', '10222', '42425', '19042', '11741', '10202', '15858']\n"
     ]
    },
    {
     "name": "stdout",
     "output_type": "stream",
     "text": [
      "2020-05-22 11:06:30, DEBUG: starting ox_graph()\n",
      "2020-05-22 11:06:30, DEBUG: GRAPH NODES: Index(['model_node_id', 'osm_node_id', 'shstReferenceId', 'drive_node',\n",
      "       'walk_node', 'bike_node', 'bus_only', 'rail_only', 'geometry', 'x',\n",
      "       'y'],\n",
      "      dtype='object')\n",
      "2020-05-22 11:06:32, DEBUG: starting ox.gdfs_to_graph()\n",
      "2020-05-22 11:10:23, DEBUG: finished ox.gdfs_to_graph()\n"
     ]
    }
   ],
   "source": [
    "base_wrangler_path = os.path.join(os.path.dirname((os.path.dirname(os.path.abspath('')))),\"network_wrangler\")\n",
    "WranglerLogger.info(\"Base Wrangler Path: {}\".format(base_wrangler_path))\n",
    "\n",
    "base_scenario = Scenario.create_base_scenario(\n",
    "        my_config[\"base_scenario\"][\"shape_file_name\"],\n",
    "        my_config[\"base_scenario\"][\"link_file_name\"],\n",
    "        my_config[\"base_scenario\"][\"node_file_name\"],\n",
    "        roadway_dir=my_config[\"base_scenario\"][\"input_dir\"],\n",
    "        transit_dir=my_config[\"base_scenario\"][\"input_dir\"],\n",
    "        validate = False\n",
    "    )"
   ]
  },
  {
   "cell_type": "code",
   "execution_count": null,
   "metadata": {},
   "outputs": [],
   "source": []
  },
  {
   "cell_type": "markdown",
   "metadata": {},
   "source": [
    "#### Create project cards from projects that are explicitely specified in config\n"
   ]
  },
  {
   "cell_type": "code",
   "execution_count": 13,
   "metadata": {},
   "outputs": [
    {
     "data": {
      "text/plain": [
       "[<network_wrangler.projectcard.ProjectCard at 0x2763536b3c8>,\n",
       " <network_wrangler.projectcard.ProjectCard at 0x27582fc81c8>,\n",
       " <network_wrangler.projectcard.ProjectCard at 0x27583f868c8>,\n",
       " <network_wrangler.projectcard.ProjectCard at 0x27583a6ab08>]"
      ]
     },
     "execution_count": 13,
     "metadata": {},
     "output_type": "execute_result"
    }
   ],
   "source": [
    "if len(my_config[\"scenario\"][\"project_cards_filenames\"]) > 0:\n",
    "    project_cards_list = [\n",
    "        ProjectCard.read(filename, validate=False)\n",
    "        for filename in my_config[\"scenario\"][\"project_cards_filenames\"]\n",
    "    ]\n",
    "else: \n",
    "    project_cards_list = []\n",
    "project_cards_list\n"
   ]
  },
  {
   "cell_type": "markdown",
   "metadata": {},
   "source": [
    "## Create Scenario\n",
    "\n",
    "A scenario is constructed with a base scenario and then selecting project cards to be added to that base scenario to create the new scenario.\n",
    "\n",
    "Projects can be added a variety of ways:\n",
    "\n",
    " 1. `card_directory` + `tags` will search a directory add project's who's project tags match *at least one of* the tags in the keyword.\n",
    " 2. `card_directory` + `glob_search` will search a directory add project's who's file name matches the [glob search text](https://docs.python.org/3/library/glob.html)\n",
    " 3. `project_cards_list` is a list of ProjectCard objects\n",
    " \n",
    "Optionally, you may specify that project card formats are not validated by setting they keyword: \n",
    "   `validate = False`\n",
    "   \n",
    "Projects that are not added in the initial scenario development can be added by using the following methods:  \n",
    "\n",
    " - `add_project_card_from_file()`  \n",
    " - `add_project_cards_from_directory()`  \n",
    " - `add_project_cards_from_tags`\n",
    " \n",
    "Or by directly adding the project to the scenario's project attribute by running:\n",
    "\n",
    "```python\n",
    "my_project = ProjectCard.read(path_to_card)\n",
    "my_scenario.projects += my_project\n",
    "\n",
    "```\n"
   ]
  },
  {
   "cell_type": "code",
   "execution_count": null,
   "metadata": {},
   "outputs": [],
   "source": []
  },
  {
   "cell_type": "code",
   "execution_count": 14,
   "metadata": {},
   "outputs": [
    {
     "name": "stdout",
     "output_type": "stream",
     "text": [
      "2020-05-22 11:10:39, INFO: Creating Scenario\n",
      "2020-05-22 11:10:39, DEBUG: Adding project cards from List.\n",
      "I394 Reversible Lanes,Base Update 1,Base Update 2,Base Update 3\n"
     ]
    }
   ],
   "source": [
    "my_scenario=None\n",
    "\n",
    "my_scenario = Scenario.create_scenario(\n",
    "    base_scenario=base_scenario,\n",
    "    project_cards_list=project_cards_list,\n",
    "    validate_project_cards=False,\n",
    ")"
   ]
  },
  {
   "cell_type": "markdown",
   "metadata": {},
   "source": [
    "### Apply all projects in scenario"
   ]
  },
  {
   "cell_type": "code",
   "execution_count": 15,
   "metadata": {},
   "outputs": [
    {
     "name": "stdout",
     "output_type": "stream",
     "text": [
      "2020-05-22 11:12:38, INFO: \n",
      "Projects in queue to be applied: \n",
      " - I394 Reversible Lanes\n",
      " - Base Update 1\n",
      " - Base Update 2\n",
      " - Base Update 3\n",
      "2020-05-22 11:12:38, INFO: \n",
      "[Before] Applied Projects: \n",
      " - \n",
      "2020-05-22 11:12:38, DEBUG: Ordered Project Cards: {'base update 3': <network_wrangler.projectcard.ProjectCard object at 0x0000027583A6AB08>, 'base update 2': <network_wrangler.projectcard.ProjectCard object at 0x0000027583F868C8>, 'base update 1': <network_wrangler.projectcard.ProjectCard object at 0x0000027582FC81C8>, 'i394 reversible lanes': <network_wrangler.projectcard.ProjectCard object at 0x000002763536B3C8>}\n",
      "2020-05-22 11:12:38, DEBUG: Project Cards: [<network_wrangler.projectcard.ProjectCard object at 0x0000027583A6AB08>, <network_wrangler.projectcard.ProjectCard object at 0x0000027583F868C8>, <network_wrangler.projectcard.ProjectCard object at 0x0000027582FC81C8>, <network_wrangler.projectcard.ProjectCard object at 0x000002763536B3C8>]\n",
      "2020-05-22 11:12:38, INFO: Applying Base Update 3\n",
      "2020-05-22 11:12:38, INFO: Applying Base Update 3\n",
      "2020-05-22 11:12:38, INFO: Applying Project to Roadway Network: Base Update 3\n",
      "2020-05-22 11:12:40, INFO: Applying Project to Transit Network: Base Update 3\n",
      "2020-05-22 11:12:40, WARNING: Roadway Deletion not yet implemented in Transit; ignoring\n",
      "2020-05-22 11:12:40, INFO: Applying Base Update 3\n",
      "2020-05-22 11:12:40, INFO: Applying Base Update 3\n",
      "2020-05-22 11:12:40, INFO: Applying Base Update 3\n",
      "2020-05-22 11:12:40, INFO: Applying Base Update 2\n",
      "2020-05-22 11:12:40, INFO: Applying Base Update 2\n",
      "2020-05-22 11:12:40, INFO: Applying Project to Roadway Network: Base Update 2\n",
      "2020-05-22 11:12:41, INFO: Applying Project to Transit Network: Base Update 2\n",
      "2020-05-22 11:12:41, WARNING: Roadway Deletion not yet implemented in Transit; ignoring\n",
      "2020-05-22 11:12:41, INFO: Applying Base Update 2\n",
      "2020-05-22 11:12:41, INFO: Applying Base Update 2\n",
      "2020-05-22 11:12:41, INFO: Applying Base Update 2\n",
      "2020-05-22 11:12:41, INFO: Applying Base Update 2\n",
      "2020-05-22 11:12:41, INFO: Applying Base Update 2\n",
      "2020-05-22 11:12:41, INFO: Applying Base Update 1\n",
      "2020-05-22 11:12:41, INFO: Applying Base Update 1\n",
      "2020-05-22 11:12:41, INFO: Applying Project to Roadway Network: Base Update 1\n",
      "2020-05-22 11:12:43, INFO: Applying Project to Transit Network: Base Update 1\n",
      "2020-05-22 11:12:43, WARNING: Roadway Deletion not yet implemented in Transit; ignoring\n",
      "2020-05-22 11:12:43, INFO: Applying Base Update 1\n",
      "2020-05-22 11:12:43, INFO: Applying Base Update 1\n",
      "2020-05-22 11:12:43, INFO: Applying Base Update 1\n",
      "2020-05-22 11:12:43, INFO: Applying Base Update 1\n",
      "2020-05-22 11:12:43, INFO: Applying Base Update 1\n",
      "2020-05-22 11:12:43, INFO: Applying Base Update 1\n",
      "2020-05-22 11:12:43, INFO: Applying Base Update 1\n",
      "2020-05-22 11:12:43, INFO: Applying Base Update 1\n",
      "2020-05-22 11:12:43, INFO: Applying Base Update 1\n",
      "2020-05-22 11:12:43, INFO: Applying Base Update 1\n",
      "2020-05-22 11:12:43, INFO: Applying Base Update 1\n",
      "2020-05-22 11:12:43, INFO: Applying Base Update 1\n",
      "2020-05-22 11:12:43, INFO: Applying Base Update 1\n",
      "2020-05-22 11:12:43, INFO: Applying I394 Reversible Lanes\n",
      "2020-05-22 11:12:43, INFO: Applying I394 Reversible Lanes\n",
      "2020-05-22 11:12:43, INFO: Applying Project to Roadway Network: I394 Reversible Lanes\n",
      "2020-05-22 11:12:44, INFO: Applying Project to Transit Network: I394 Reversible Lanes\n",
      "2020-05-22 11:12:44, WARNING: Roadway Deletion not yet implemented in Transit; ignoring\n",
      "2020-05-22 11:12:44, INFO: Applying I394 Reversible Lanes\n",
      "2020-05-22 11:12:44, INFO: Applying Project to Roadway Network: I394 Reversible Lanes\n",
      "2020-05-22 11:12:44, INFO: Applying I394 Reversible Lanes\n",
      "2020-05-22 11:12:44, INFO: Applying Project to Roadway Network: I394 Reversible Lanes\n",
      "2020-05-22 11:12:44, DEBUG: validating selection\n",
      "2020-05-22 11:12:44, DEBUG: Selection Key: ((model_link_id==382272))\n",
      "2020-05-22 11:12:44, DEBUG: Building selection query\n",
      "2020-05-22 11:12:44, DEBUG: Selecting features:\n",
      "((model_link_id==382272))\n",
      "2020-05-22 11:12:44, DEBUG: Completed query\n"
     ]
    },
    {
     "name": "stderr",
     "output_type": "stream",
     "text": [
      "d:\\network_wrangler\\network_wrangler\\roadwaynetwork.py:847: SettingWithCopyWarning: \n",
      "A value is trying to be set on a copy of a slice from a DataFrame.\n",
      "Try using .loc[row_indexer,col_indexer] = value instead\n",
      "\n",
      "See the caveats in the documentation: http://pandas.pydata.org/pandas-docs/stable/user_guide/indexing.html#returning-a-view-versus-a-copy\n",
      "  candidate_links[\"i\"] = 0\n"
     ]
    },
    {
     "ename": "KeyError",
     "evalue": "'change'",
     "output_type": "error",
     "traceback": [
      "\u001b[1;31m---------------------------------------------------------------------------\u001b[0m",
      "\u001b[1;31mKeyError\u001b[0m                                  Traceback (most recent call last)",
      "\u001b[1;32m<ipython-input-15-24efc3097085>\u001b[0m in \u001b[0;36m<module>\u001b[1;34m\u001b[0m\n\u001b[0;32m      2\u001b[0m \u001b[0mWranglerLogger\u001b[0m\u001b[1;33m.\u001b[0m\u001b[0minfo\u001b[0m\u001b[1;33m(\u001b[0m\u001b[1;34m\"\\n[Before] Applied Projects: \\n - {}\"\u001b[0m\u001b[1;33m.\u001b[0m\u001b[0mformat\u001b[0m\u001b[1;33m(\u001b[0m\u001b[1;34m\"\\n - \"\u001b[0m\u001b[1;33m.\u001b[0m\u001b[0mjoin\u001b[0m\u001b[1;33m(\u001b[0m\u001b[0mmy_scenario\u001b[0m\u001b[1;33m.\u001b[0m\u001b[0mapplied_projects\u001b[0m\u001b[1;33m)\u001b[0m\u001b[1;33m)\u001b[0m\u001b[1;33m)\u001b[0m\u001b[1;33m\u001b[0m\u001b[1;33m\u001b[0m\u001b[0m\n\u001b[0;32m      3\u001b[0m \u001b[1;33m\u001b[0m\u001b[0m\n\u001b[1;32m----> 4\u001b[1;33m \u001b[0mmy_scenario\u001b[0m\u001b[1;33m.\u001b[0m\u001b[0mapply_all_projects\u001b[0m\u001b[1;33m(\u001b[0m\u001b[1;33m)\u001b[0m\u001b[1;33m\u001b[0m\u001b[1;33m\u001b[0m\u001b[0m\n\u001b[0m\u001b[0;32m      5\u001b[0m \u001b[1;33m\u001b[0m\u001b[0m\n\u001b[0;32m      6\u001b[0m \u001b[0mWranglerLogger\u001b[0m\u001b[1;33m.\u001b[0m\u001b[0minfo\u001b[0m\u001b[1;33m(\u001b[0m\u001b[1;34m\"\\n[After] Applied Projects: \\n - {}\"\u001b[0m\u001b[1;33m.\u001b[0m\u001b[0mformat\u001b[0m\u001b[1;33m(\u001b[0m\u001b[1;34m\"\\n - \"\u001b[0m\u001b[1;33m.\u001b[0m\u001b[0mjoin\u001b[0m\u001b[1;33m(\u001b[0m\u001b[0mmy_scenario\u001b[0m\u001b[1;33m.\u001b[0m\u001b[0mapplied_projects\u001b[0m\u001b[1;33m)\u001b[0m\u001b[1;33m)\u001b[0m\u001b[1;33m)\u001b[0m\u001b[1;33m\u001b[0m\u001b[1;33m\u001b[0m\u001b[0m\n",
      "\u001b[1;32md:\\network_wrangler\\network_wrangler\\scenario.py\u001b[0m in \u001b[0;36mapply_all_projects\u001b[1;34m(self)\u001b[0m\n\u001b[0;32m    511\u001b[0m \u001b[1;33m\u001b[0m\u001b[0m\n\u001b[0;32m    512\u001b[0m         \u001b[1;32mfor\u001b[0m \u001b[0mp\u001b[0m \u001b[1;32min\u001b[0m \u001b[0mself\u001b[0m\u001b[1;33m.\u001b[0m\u001b[0mproject_cards\u001b[0m\u001b[1;33m:\u001b[0m\u001b[1;33m\u001b[0m\u001b[1;33m\u001b[0m\u001b[0m\n\u001b[1;32m--> 513\u001b[1;33m             \u001b[0mself\u001b[0m\u001b[1;33m.\u001b[0m\u001b[0mapply_project\u001b[0m\u001b[1;33m(\u001b[0m\u001b[0mp\u001b[0m\u001b[1;33m.\u001b[0m\u001b[0m__dict__\u001b[0m\u001b[1;33m)\u001b[0m\u001b[1;33m\u001b[0m\u001b[1;33m\u001b[0m\u001b[0m\n\u001b[0m\u001b[0;32m    514\u001b[0m \u001b[1;33m\u001b[0m\u001b[0m\n\u001b[0;32m    515\u001b[0m     \u001b[1;32mdef\u001b[0m \u001b[0mapply_project\u001b[0m\u001b[1;33m(\u001b[0m\u001b[0mself\u001b[0m\u001b[1;33m,\u001b[0m \u001b[0mp\u001b[0m\u001b[1;33m)\u001b[0m\u001b[1;33m:\u001b[0m\u001b[1;33m\u001b[0m\u001b[1;33m\u001b[0m\u001b[0m\n",
      "\u001b[1;32md:\\network_wrangler\\network_wrangler\\scenario.py\u001b[0m in \u001b[0;36mapply_project\u001b[1;34m(self, p)\u001b[0m\n\u001b[0;32m    524\u001b[0m             \u001b[1;32mfor\u001b[0m \u001b[0mpc\u001b[0m \u001b[1;32min\u001b[0m \u001b[0mp\u001b[0m\u001b[1;33m[\u001b[0m\u001b[1;34m\"changes\"\u001b[0m\u001b[1;33m]\u001b[0m\u001b[1;33m:\u001b[0m\u001b[1;33m\u001b[0m\u001b[1;33m\u001b[0m\u001b[0m\n\u001b[0;32m    525\u001b[0m                 \u001b[0mpc\u001b[0m\u001b[1;33m[\u001b[0m\u001b[1;34m\"project\"\u001b[0m\u001b[1;33m]\u001b[0m \u001b[1;33m=\u001b[0m \u001b[0mp\u001b[0m\u001b[1;33m[\u001b[0m\u001b[1;34m\"project\"\u001b[0m\u001b[1;33m]\u001b[0m\u001b[1;33m\u001b[0m\u001b[1;33m\u001b[0m\u001b[0m\n\u001b[1;32m--> 526\u001b[1;33m                 \u001b[0mself\u001b[0m\u001b[1;33m.\u001b[0m\u001b[0mapply_project\u001b[0m\u001b[1;33m(\u001b[0m\u001b[0mpc\u001b[0m\u001b[1;33m)\u001b[0m\u001b[1;33m\u001b[0m\u001b[1;33m\u001b[0m\u001b[0m\n\u001b[0m\u001b[0;32m    527\u001b[0m \u001b[1;33m\u001b[0m\u001b[0m\n\u001b[0;32m    528\u001b[0m         \u001b[1;32melse\u001b[0m\u001b[1;33m:\u001b[0m\u001b[1;33m\u001b[0m\u001b[1;33m\u001b[0m\u001b[0m\n",
      "\u001b[1;32md:\\network_wrangler\\network_wrangler\\scenario.py\u001b[0m in \u001b[0;36mapply_project\u001b[1;34m(self, p)\u001b[0m\n\u001b[0;32m    530\u001b[0m                 \u001b[1;32mif\u001b[0m \u001b[1;32mnot\u001b[0m \u001b[0mself\u001b[0m\u001b[1;33m.\u001b[0m\u001b[0mroad_net\u001b[0m\u001b[1;33m:\u001b[0m\u001b[1;33m\u001b[0m\u001b[1;33m\u001b[0m\u001b[0m\n\u001b[0;32m    531\u001b[0m                     \u001b[1;32mraise\u001b[0m \u001b[1;33m(\u001b[0m\u001b[1;34m\"Missing Roadway Network\"\u001b[0m\u001b[1;33m)\u001b[0m\u001b[1;33m\u001b[0m\u001b[1;33m\u001b[0m\u001b[0m\n\u001b[1;32m--> 532\u001b[1;33m                 \u001b[0mself\u001b[0m\u001b[1;33m.\u001b[0m\u001b[0mroad_net\u001b[0m\u001b[1;33m.\u001b[0m\u001b[0mapply\u001b[0m\u001b[1;33m(\u001b[0m\u001b[0mp\u001b[0m\u001b[1;33m)\u001b[0m\u001b[1;33m\u001b[0m\u001b[1;33m\u001b[0m\u001b[0m\n\u001b[0m\u001b[0;32m    533\u001b[0m             \u001b[1;32mif\u001b[0m \u001b[0mp\u001b[0m\u001b[1;33m[\u001b[0m\u001b[1;34m\"category\"\u001b[0m\u001b[1;33m]\u001b[0m \u001b[1;32min\u001b[0m \u001b[0mProjectCard\u001b[0m\u001b[1;33m.\u001b[0m\u001b[0mTRANSIT_CATEGORIES\u001b[0m\u001b[1;33m:\u001b[0m\u001b[1;33m\u001b[0m\u001b[1;33m\u001b[0m\u001b[0m\n\u001b[0;32m    534\u001b[0m                 \u001b[1;32mif\u001b[0m \u001b[1;32mnot\u001b[0m \u001b[0mself\u001b[0m\u001b[1;33m.\u001b[0m\u001b[0mtransit_net\u001b[0m\u001b[1;33m:\u001b[0m\u001b[1;33m\u001b[0m\u001b[1;33m\u001b[0m\u001b[0m\n",
      "\u001b[1;32md:\\network_wrangler\\network_wrangler\\roadwaynetwork.py\u001b[0m in \u001b[0;36mapply\u001b[1;34m(self, project_card_dictionary)\u001b[0m\n\u001b[0;32m   1199\u001b[0m                 \u001b[0m_apply_individual_change\u001b[0m\u001b[1;33m(\u001b[0m\u001b[0mproject_dictionary\u001b[0m\u001b[1;33m)\u001b[0m\u001b[1;33m\u001b[0m\u001b[1;33m\u001b[0m\u001b[0m\n\u001b[0;32m   1200\u001b[0m         \u001b[1;32melse\u001b[0m\u001b[1;33m:\u001b[0m\u001b[1;33m\u001b[0m\u001b[1;33m\u001b[0m\u001b[0m\n\u001b[1;32m-> 1201\u001b[1;33m             \u001b[0m_apply_individual_change\u001b[0m\u001b[1;33m(\u001b[0m\u001b[0mproject_card_dictionary\u001b[0m\u001b[1;33m)\u001b[0m\u001b[1;33m\u001b[0m\u001b[1;33m\u001b[0m\u001b[0m\n\u001b[0m\u001b[0;32m   1202\u001b[0m \u001b[1;33m\u001b[0m\u001b[0m\n\u001b[0;32m   1203\u001b[0m     def apply_roadway_feature_change(\n",
      "\u001b[1;32md:\\network_wrangler\\network_wrangler\\roadwaynetwork.py\u001b[0m in \u001b[0;36m_apply_individual_change\u001b[1;34m(project_dictionary)\u001b[0m\n\u001b[0;32m   1177\u001b[0m                 self.apply_roadway_feature_change(\n\u001b[0;32m   1178\u001b[0m                     \u001b[0mself\u001b[0m\u001b[1;33m.\u001b[0m\u001b[0mselect_roadway_features\u001b[0m\u001b[1;33m(\u001b[0m\u001b[0mproject_dictionary\u001b[0m\u001b[1;33m[\u001b[0m\u001b[1;34m\"facility\"\u001b[0m\u001b[1;33m]\u001b[0m\u001b[1;33m)\u001b[0m\u001b[1;33m,\u001b[0m\u001b[1;33m\u001b[0m\u001b[1;33m\u001b[0m\u001b[0m\n\u001b[1;32m-> 1179\u001b[1;33m                     \u001b[0mproject_dictionary\u001b[0m\u001b[1;33m[\u001b[0m\u001b[1;34m\"properties\"\u001b[0m\u001b[1;33m]\u001b[0m\u001b[1;33m,\u001b[0m\u001b[1;33m\u001b[0m\u001b[1;33m\u001b[0m\u001b[0m\n\u001b[0m\u001b[0;32m   1180\u001b[0m                 )\n\u001b[0;32m   1181\u001b[0m             \u001b[1;32melif\u001b[0m \u001b[0mproject_dictionary\u001b[0m\u001b[1;33m[\u001b[0m\u001b[1;34m\"category\"\u001b[0m\u001b[1;33m]\u001b[0m\u001b[1;33m.\u001b[0m\u001b[0mlower\u001b[0m\u001b[1;33m(\u001b[0m\u001b[1;33m)\u001b[0m \u001b[1;33m==\u001b[0m \u001b[1;34m\"parallel managed lanes\"\u001b[0m\u001b[1;33m:\u001b[0m\u001b[1;33m\u001b[0m\u001b[1;33m\u001b[0m\u001b[0m\n",
      "\u001b[1;32md:\\network_wrangler\\network_wrangler\\roadwaynetwork.py\u001b[0m in \u001b[0;36mapply_roadway_feature_change\u001b[1;34m(self, link_idx, properties, in_place)\u001b[0m\n\u001b[0;32m   1241\u001b[0m                 \u001b[1;32melse\u001b[0m\u001b[1;33m:\u001b[0m\u001b[1;33m\u001b[0m\u001b[1;33m\u001b[0m\u001b[0m\n\u001b[0;32m   1242\u001b[0m                     self.links_df.loc[link_idx, attribute] = (\n\u001b[1;32m-> 1243\u001b[1;33m                         \u001b[0mself\u001b[0m\u001b[1;33m.\u001b[0m\u001b[0mlinks_df\u001b[0m\u001b[1;33m.\u001b[0m\u001b[0mloc\u001b[0m\u001b[1;33m[\u001b[0m\u001b[0mlink_idx\u001b[0m\u001b[1;33m,\u001b[0m \u001b[0mattribute\u001b[0m\u001b[1;33m]\u001b[0m \u001b[1;33m+\u001b[0m \u001b[0mp\u001b[0m\u001b[1;33m[\u001b[0m\u001b[1;34m\"change\"\u001b[0m\u001b[1;33m]\u001b[0m\u001b[1;33m\u001b[0m\u001b[1;33m\u001b[0m\u001b[0m\n\u001b[0m\u001b[0;32m   1244\u001b[0m                     )\n\u001b[0;32m   1245\u001b[0m             \u001b[1;32melse\u001b[0m\u001b[1;33m:\u001b[0m\u001b[1;33m\u001b[0m\u001b[1;33m\u001b[0m\u001b[0m\n",
      "\u001b[1;31mKeyError\u001b[0m: 'change'"
     ]
    }
   ],
   "source": [
    "WranglerLogger.info(\"\\nProjects in queue to be applied: \\n - {}\".format(\"\\n - \".join(my_scenario.get_project_names())))\n",
    "WranglerLogger.info(\"\\n[Before] Applied Projects: \\n - {}\".format(\"\\n - \".join(my_scenario.applied_projects)))\n",
    "\n",
    "my_scenario.apply_all_projects()\n",
    "\n",
    "WranglerLogger.info(\"\\n[After] Applied Projects: \\n - {}\".format(\"\\n - \".join(my_scenario.applied_projects)))"
   ]
  },
  {
   "cell_type": "code",
   "execution_count": null,
   "metadata": {
    "scrolled": false
   },
   "outputs": [],
   "source": [
    "#my_scenario.road_net.links_df.info()"
   ]
  },
  {
   "cell_type": "code",
   "execution_count": null,
   "metadata": {},
   "outputs": [],
   "source": [
    "#my_scenario.road_net.links_df[my_scenario.road_net.links_df[\"segment_id\"] == 5]"
   ]
  },
  {
   "cell_type": "markdown",
   "metadata": {},
   "source": [
    "# Write out as MetCouncil Model Roadway Network\n",
    "Everything above was done in \"pure wrangler\" rather than lasso.  However, we will need Lasso in order to add the MetCouncil specific variables. You can create a lasso ModelRoadwayNetwork object from the roadway network object and feed it any additional parameters from that `my_config` variable.\n",
    "\n",
    "You can see that the link variables for this network are the same as the standard roadway network at this point but that will change.\n",
    "\n",
    "Since this is a GeoDataFrame you can also use build-in Geopandas features to make simple plots based on these variables."
   ]
  },
  {
   "cell_type": "code",
   "execution_count": null,
   "metadata": {},
   "outputs": [],
   "source": []
  },
  {
   "cell_type": "code",
   "execution_count": null,
   "metadata": {},
   "outputs": [],
   "source": [
    "model_road_net = ModelRoadwayNetwork.from_RoadwayNetwork(\n",
    "    my_scenario.road_net, parameters=my_config.get(\"my_parameters\", {})\n",
    ")"
   ]
  },
  {
   "cell_type": "code",
   "execution_count": null,
   "metadata": {},
   "outputs": [],
   "source": [
    "#model_road_net.links_df.info()"
   ]
  },
  {
   "cell_type": "code",
   "execution_count": null,
   "metadata": {},
   "outputs": [],
   "source": [
    "#model_road_net.links_df.loc[model_road_net.links_df[\"HOV\"] == \"NaN\", \"HOV\"] = \"0\""
   ]
  },
  {
   "cell_type": "code",
   "execution_count": null,
   "metadata": {},
   "outputs": [],
   "source": []
  },
  {
   "cell_type": "code",
   "execution_count": null,
   "metadata": {},
   "outputs": [],
   "source": [
    "#model_road_net.links_df[model_road_net.links_df[\"HOV\"] != \"0\"]"
   ]
  },
  {
   "cell_type": "code",
   "execution_count": null,
   "metadata": {},
   "outputs": [],
   "source": [
    "#model_road_net.nodes_df.info()"
   ]
  },
  {
   "cell_type": "markdown",
   "metadata": {},
   "source": [
    "## Add MetCouncil variables\n",
    "At this point, we need to calculate all the variables into what MetCouncil's model is expecting. The method `roadway_standard_to_met_council_network()` broadly does the following:  \n",
    " \n",
    "- creates a parallel managed lane network\n",
    "- calculates additional variables based on geography or other variables (i.e. county, assignment group, area type, etc)\n",
    "- flattens variables stored as continuous time values and determines their value by time period (i.e. lanes_am)   \n",
    "- reprojects into MetCouncil's projection"
   ]
  },
  {
   "cell_type": "code",
   "execution_count": null,
   "metadata": {
    "scrolled": false
   },
   "outputs": [],
   "source": [
    "model_road_net.roadway_standard_to_met_council_network()"
   ]
  },
  {
   "cell_type": "code",
   "execution_count": null,
   "metadata": {},
   "outputs": [],
   "source": [
    "#model_road_net.links_metcouncil_df.query('lanes == 0 & drive_access == 1 & centroidconnect')"
   ]
  },
  {
   "cell_type": "code",
   "execution_count": null,
   "metadata": {},
   "outputs": [],
   "source": [
    "#pd.options.display.max_columns = None\n",
    "#model_road_net.links_metcouncil_df[model_road_net.links_metcouncil_df[\"model_link_id\"] == 1390975][\"segment_id\"]\n"
   ]
  },
  {
   "cell_type": "code",
   "execution_count": null,
   "metadata": {},
   "outputs": [],
   "source": [
    "#model_road_net.links_metcouncil_df[model_road_net.links_metcouncil_df.model_link_id.isin([390975])]"
   ]
  },
  {
   "cell_type": "code",
   "execution_count": null,
   "metadata": {},
   "outputs": [],
   "source": [
    "#model_road_net.links_metcouncil_df.segment_id.value_counts()\n",
    "pd.crosstab(model_road_net.links_metcouncil_df.segment_id, model_road_net.links_metcouncil_df.managed)"
   ]
  },
  {
   "cell_type": "code",
   "execution_count": null,
   "metadata": {},
   "outputs": [],
   "source": [
    "#model_road_net.links_metcouncil_df.plot(\"lanes_AM\")"
   ]
  },
  {
   "cell_type": "markdown",
   "metadata": {},
   "source": [
    "## Export to shapefile\n",
    "\n",
    "As a last step, the network can be exported to a shapefile and paired CSVs after removing extraneous variables.\n",
    "\n",
    "(note that this step will also run the `roadway_standard_to_met_council_network()` method but I wanted to show it to you piecewise)"
   ]
  },
  {
   "cell_type": "code",
   "execution_count": null,
   "metadata": {},
   "outputs": [],
   "source": [
    "model_road_net.write_roadway_as_shp(\n",
    "    output_link_shp = \"C:/projects/met_council_git/data/interim/networks/fixed_width/link.shp\",\n",
    "    output_node_shp = \"C:/projects/met_council_git/data/interim/networks/fixed_width/node.shp\"\n",
    ")"
   ]
  },
  {
   "cell_type": "markdown",
   "metadata": {},
   "source": [
    "# Export to fixed width file"
   ]
  },
  {
   "cell_type": "code",
   "execution_count": null,
   "metadata": {},
   "outputs": [],
   "source": [
    "model_road_net.write_roadway_as_fixedwidth(\n",
    "    output_link_txt = \"C:/projects/met_council_git/data/interim/networks/fixed_width/link.txt\",\n",
    "    output_node_txt = \"C:/projects/met_council_git/data/interim/networks/fixed_width/node.txt\",\n",
    "    output_link_header_width_txt = \"C:/projects/met_council_git/data/interim/networks/fixed_width/link_header.csv\",\n",
    "    output_node_header_width_txt = \"C:/projects/met_council_git/data/interim/networks/fixed_width/node_header.csv\",\n",
    "    output_cube_network_script = \"C:/projects/met_council_git/data/interim/networks/fixed_width/make_complete_network_from_fixed_width_file.s\"\n",
    ")"
   ]
  },
  {
   "cell_type": "markdown",
   "metadata": {},
   "source": [
    "# Write out as MetCouncil Model Transit Network\n",
    "\n",
    "Similar to the roadway network, the first step is to convert it to a Lasso object, and then write it to a cube line file.  Optionally, you could also export it to a shapefile to inspect using other means. "
   ]
  },
  {
   "cell_type": "code",
   "execution_count": null,
   "metadata": {},
   "outputs": [],
   "source": [
    "#standard_transit = StandardTransit.fromTransitNetwork(my_scenario.transit_net)\n",
    "#standard_transit.feed"
   ]
  },
  {
   "cell_type": "markdown",
   "metadata": {},
   "source": [
    "Write out the StandardTransit Lasso object to a cube line file:"
   ]
  },
  {
   "cell_type": "code",
   "execution_count": null,
   "metadata": {},
   "outputs": [],
   "source": [
    "#standard_transit.write_as_cube_lin()"
   ]
  },
  {
   "cell_type": "code",
   "execution_count": null,
   "metadata": {},
   "outputs": [],
   "source": []
  },
  {
   "cell_type": "code",
   "execution_count": null,
   "metadata": {},
   "outputs": [],
   "source": []
  }
 ],
 "metadata": {
  "kernelspec": {
   "display_name": "Python 3",
   "language": "python",
   "name": "python3"
  },
  "language_info": {
   "codemirror_mode": {
    "name": "ipython",
    "version": 3
   },
   "file_extension": ".py",
   "mimetype": "text/x-python",
   "name": "python",
   "nbconvert_exporter": "python",
   "pygments_lexer": "ipython3",
   "version": "3.7.6"
  }
 },
 "nbformat": 4,
 "nbformat_minor": 2
}

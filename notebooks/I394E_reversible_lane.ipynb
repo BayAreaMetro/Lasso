{
 "cells": [
  {
   "cell_type": "markdown",
   "metadata": {},
   "source": [
    "# I394E Reversible Lane Project Card\n"
   ]
  },
  {
   "cell_type": "code",
   "execution_count": 1,
   "metadata": {},
   "outputs": [],
   "source": [
    "import os\n",
    "import sys\n",
    "\n",
    "from lasso import Project\n",
    "from lasso import CubeTransit\n",
    "from network_wrangler import WranglerLogger"
   ]
  },
  {
   "cell_type": "code",
   "execution_count": 2,
   "metadata": {},
   "outputs": [],
   "source": [
    "%load_ext autoreload\n",
    "%autoreload 2"
   ]
  },
  {
   "cell_type": "code",
   "execution_count": 3,
   "metadata": {},
   "outputs": [],
   "source": [
    "import logging\n",
    "logger = logging.getLogger(\"WranglerLogger\")\n",
    "logger.handlers[0].stream = sys.stdout\n",
    "# if you don't want to see so much detail, set to logging.INFO or DEBUG\n",
    "logger.setLevel(logging.DEBUG)"
   ]
  },
  {
   "cell_type": "code",
   "execution_count": 9,
   "metadata": {},
   "outputs": [
    {
     "data": {
      "text/plain": [
       "'C:\\\\projects\\\\met_council_git\\\\data\\\\interim'"
      ]
     },
     "execution_count": 9,
     "metadata": {},
     "output_type": "execute_result"
    }
   ],
   "source": [
    "#set examples directory\n",
    "INTERIM_DIR = \"C:\\\\projects\\\\met_council_git\\\\data\\\\interim\"\n",
    "INTERIM_DIR"
   ]
  },
  {
   "cell_type": "markdown",
   "metadata": {},
   "source": [
    "## Roadway Project Card\n",
    "\n",
    "Roadway project cards are built by reading in a base network in the standard network format and a then processing cube log files.  \n",
    "\n",
    "The log file information is stored in a dataframe called `roadway_changes`\n",
    "\n",
    "The project card data is created when comparing log file to the base network and is  stored in the variable `card_data`"
   ]
  },
  {
   "cell_type": "code",
   "execution_count": 10,
   "metadata": {},
   "outputs": [
    {
     "name": "stdout",
     "output_type": "stream",
     "text": [
      "2020-05-07 11:32:43, INFO: No base transit network.\n",
      "2020-05-07 11:32:43, INFO: No transit changes given or processed.\n",
      "2020-05-07 11:32:43, INFO: Reading logfile: C:\\projects\\met_council_git\\data\\interim\\change_logs\\i394_reversible_lanes.log\n",
      "2020-05-07 11:32:43, INFO: Processed 19 Node lines and 0 Link lines\n",
      "2020-05-07 11:32:43, INFO: Reading from following files:\n",
      "-C:\\projects\\met_council_git\\data\\interim\\networks\\base_network\\link.json\n",
      "-C:\\projects\\met_council_git\\data\\interim\\networks\\base_network\\node.geojson\n",
      "-C:\\projects\\met_council_git\\data\\interim\\networks\\base_network\\shape.geojson.\n",
      "2020-05-07 11:37:12, INFO: Read 1134074 links from C:\\projects\\met_council_git\\data\\interim\\networks\\base_network\\link.json\n",
      "2020-05-07 11:37:12, INFO: Read 354346 nodes from C:\\projects\\met_council_git\\data\\interim\\networks\\base_network\\node.geojson\n",
      "2020-05-07 11:37:12, INFO: Read 1134074 shapes from C:\\projects\\met_council_git\\data\\interim\\networks\\base_network\\shape.geojson\n",
      "2020-05-07 11:47:32, INFO: Lasso base directory set as: D:\\lasso\n",
      "2020-05-07 11:47:32, INFO: Creating calculated roadway variables.\n",
      "2020-05-07 11:47:32, INFO: Calculating Area Type from Spatial Data and adding as roadway network variable: area_type\n",
      "2020-05-07 11:47:45, DEBUG: Reading Area Type Shapefile D:\\lasso\\metcouncil_data\\area_type\\ThriveMSP2040CommunityDesignation.shp\n"
     ]
    },
    {
     "name": "stderr",
     "output_type": "stream",
     "text": [
      "C:\\Anaconda3\\envs\\lasso_env\\lib\\site-packages\\pyproj\\crs.py:77: FutureWarning: '+init=<authority>:<code>' syntax is deprecated. '<authority>:<code>' is the preferred initialization method.\n",
      "  return _prepare_from_string(\" \".join(pjargs))\n",
      "C:\\Anaconda3\\envs\\lasso_env\\lib\\site-packages\\geopandas\\tools\\sjoin.py:61: UserWarning: CRS of frames being joined does not match!(+proj=longlat +ellps=WGS84 +datum=WGS84 +no_defs != {'init': 'epsg:4326', 'no_defs': True})\n",
      "  \"(%s != %s)\" % (left_df.crs, right_df.crs)\n"
     ]
    },
    {
     "name": "stdout",
     "output_type": "stream",
     "text": [
      "2020-05-07 11:49:22, DEBUG: Area Type Codes Used: {23: 4, 24: 3, 25: 2, 35: 2, 36: 1, 41: 1, 51: 1, 52: 1, 53: 1, 60: 1}\n",
      "2020-05-07 11:49:22, INFO: Finished Calculating Area Type from Spatial Data into variable: area_type\n",
      "2020-05-07 11:49:25, INFO: Adding roadway network variable for county using a spatial join with: D:\\lasso\\metcouncil_data\\county\\cb_2017_us_county_5m.shp\n"
     ]
    },
    {
     "name": "stderr",
     "output_type": "stream",
     "text": [
      "C:\\Anaconda3\\envs\\lasso_env\\lib\\site-packages\\pyproj\\crs.py:77: FutureWarning: '+init=<authority>:<code>' syntax is deprecated. '<authority>:<code>' is the preferred initialization method.\n",
      "  return _prepare_from_string(\" \".join(pjargs))\n",
      "C:\\Anaconda3\\envs\\lasso_env\\lib\\site-packages\\geopandas\\tools\\sjoin.py:61: UserWarning: CRS of frames being joined does not match!(+proj=longlat +ellps=WGS84 +datum=WGS84 +no_defs != {'init': 'epsg:4326', 'no_defs': True})\n",
      "  \"(%s != %s)\" % (left_df.crs, right_df.crs)\n"
     ]
    },
    {
     "name": "stdout",
     "output_type": "stream",
     "text": [
      "2020-05-07 11:51:04, INFO: Finished Calculating county variable: county\n",
      "2020-05-07 11:51:07, INFO: Calculating Centroid Connector and adding as roadway network variable: centroidconnect\n",
      "2020-05-07 11:51:07, DEBUG: Calculating Centroid Connectors using highest TAZ number: 3100\n",
      "2020-05-07 11:51:07, INFO: Finished calculating centroid connector variable: centroidconnect\n",
      "2020-05-07 11:51:07, INFO: Calculating MPO as roadway network variable: mpo\n",
      "2020-05-07 11:51:07, DEBUG: MPO Counties: [,1,,, ,3,,, ,4,,, ,5,,, ,6,,, ,7,,, ,2,]\n",
      "2020-05-07 11:51:07, INFO: Finished calculating MPO variable: mpo\n",
      "2020-05-07 11:51:07, INFO: Calculating Assignment Group as network variable: assign_group\n",
      "2020-05-07 11:51:07, DEBUG: Calculating Centroid Connectors\n",
      "2020-05-07 11:51:07, INFO: Centroid Connector Variable 'centroidconnect' already in network. Returning without overwriting.\n",
      "2020-05-07 11:51:07, DEBUG: Reading MRCC / Shared Streets Match CSV\n",
      "2020-05-07 11:51:07, DEBUG: Reading MRCC Shapefile: D:\\lasso\\metcouncil_data\\mrcc\\trans_mrcc_centerlines.shp\n",
      "2020-05-07 11:51:14, DEBUG: MRCC GDF Columns\n",
      "Index(['LINK_ID', 'ROUTE_SYS', 'ST_CONCAT', 'geometry'], dtype='object')\n",
      "2020-05-07 11:51:16, DEBUG: mrcc shst ref df columns\n",
      "Index(['shstReferenceId', 'shstGeometryId', 'pp_link_id', 'score'], dtype='object')\n",
      "2020-05-07 11:51:24, DEBUG: WiDOT GDF Columns\n",
      "Index(['OBJECTID', 'WISLR_OVLY', 'SURF_TYCD', 'TRLNS_SURF', 'TRLNS_SU_1',\n",
      "       'LSHD_SURF_', 'LEFT_SHLD_', 'RSHD_SURF_', 'RGHT_SHLD_', 'RDWY_OWRST',\n",
      "       'RW_INDC', 'RW_WD', 'MEDN_TYCD', 'LEFT_CURB_', 'RGHT_CURB_',\n",
      "       'PRKG_TYCD', 'TRLNS_NB', 'WISLR_SFRT', 'SDWK_TYCD', 'HARST_TYCD',\n",
      "       'VARST_TYCD', 'RDWY_MAGMT', 'RDWY_MAG_1', 'LOC_WISLR_', 'RWCRT_MILG',\n",
      "       'RDWY_CTGY_', 'RDWY_SBCTG', 'AVG_DLY_TR', 'AVG_DLY__1', 'AVG_DLY__2',\n",
      "       'RDWY_ACS_T', 'FED_URLC_T', 'FEDUA_TYCD', 'FED_CLSN_T', 'FNCT_CLS_T',\n",
      "       'NHS_CLS_TY', 'NHS_RTE_NB', 'HPMS_SMPL_', 'HOV_LANE_T', 'PVMT_IRI_N',\n",
      "       'PVMT_IRI_Y', 'ST_LABL_NM', 'ST_PRMY_SY', 'RDWY_LINK_', 'SHC_NTWK_N',\n",
      "       'WISLR_PTY_', 'WISLR_PTY1', 'WISLR_CMTY', 'WISLR_CERT', 'DOT_CNTY_C',\n",
      "       'LOC_FLKOS_', 'LOC_TLKOS_', 'LINK_OVLY_', 'DIR_INDC', 'OPOS_RDWY_',\n",
      "       'INV_YR', 'LOC_WI_CMT', 'MEDN_WD_MS', 'RDWY_SBML_', 'RDWY_GTRST',\n",
      "       'RDWY_HTRST', 'RDWY_MNTNR', 'RDWY_OWNR_', 'RDWY_SLRST', 'RDWY_WDRST',\n",
      "       'RDWY_WTRST', 'RWCRT_PTY_', 'RDWY_CERT_', 'RWSR_SYS_T', 'RDWY_SURF_',\n",
      "       'CSTMS_SFRT', 'RDWY_RTG_D', 'CNTY_PRMY_', 'DSGND_TRK_', 'DSGND_TRK1',\n",
      "       'CTFR_INDC', 'FNCT_CLS_C', 'FNCT_CLS_G', 'HPMS_SMPL1', 'WISLR_PT_1',\n",
      "       'SEG_WISLR_', 'RWCRT_RTE_', 'ASGD_RTE_I', 'ASGD_RTE_S', 'SFRTG_TYCD',\n",
      "       'RTG_SURF_T', 'TRADS_ID', 'PA_WISLR_P', 'WISLR_PT_2', 'PMRC_TYCD',\n",
      "       'DOT_RGN_NB', 'FED_SFGRP_', 'TRMT_TYID', 'MNTC_TRMT_', 'MNTC_TRMT1',\n",
      "       'MNTC_TRM_1', 'SHAPE_Leng', 'geometry', 'LINK_ID'],\n",
      "      dtype='object')\n",
      "2020-05-07 11:51:44, DEBUG: widot shst ref df columns\n",
      "2020-05-07 11:51:44, DEBUG: source ShSt rename_variables_for_dbf columns\n",
      "Index(['shstReferenceId', 'shstGeometryId', 'pp_link_id', 'score'], dtype='object')\n",
      "2020-05-07 11:51:44, DEBUG: source gdf columns\n",
      "Index(['LINK_ID', 'ROUTE_SYS', 'ST_CONCAT', 'geometry'], dtype='object')\n",
      "2020-05-07 11:52:03, DEBUG: source ShSt rename_variables_for_dbf columns\n",
      "Index(['shstReferenceId', 'shstGeometryId', 'shstFromIntersectionId',\n",
      "       'shstToIntersectionId', 'gisReferenceId', 'gisGeometryId',\n",
      "       'gisTotalSegments', 'gisSegmentIndex', 'gisFromIntersectionId',\n",
      "       'gisToIntersectionId', 'startSideOfStreet', 'endSideOfStreet',\n",
      "       'sideOfStreet', 'score', 'matchType', 'pp_link_id', 'geometry'],\n",
      "      dtype='object')\n",
      "2020-05-07 11:52:03, DEBUG: source gdf columns\n",
      "Index(['OBJECTID', 'WISLR_OVLY', 'SURF_TYCD', 'TRLNS_SURF', 'TRLNS_SU_1',\n",
      "       'LSHD_SURF_', 'LEFT_SHLD_', 'RSHD_SURF_', 'RGHT_SHLD_', 'RDWY_OWRST',\n",
      "       'RW_INDC', 'RW_WD', 'MEDN_TYCD', 'LEFT_CURB_', 'RGHT_CURB_',\n",
      "       'PRKG_TYCD', 'TRLNS_NB', 'WISLR_SFRT', 'SDWK_TYCD', 'HARST_TYCD',\n",
      "       'VARST_TYCD', 'RDWY_MAGMT', 'RDWY_MAG_1', 'LOC_WISLR_', 'RWCRT_MILG',\n",
      "       'RDWY_CTGY_', 'RDWY_SBCTG', 'AVG_DLY_TR', 'AVG_DLY__1', 'AVG_DLY__2',\n",
      "       'RDWY_ACS_T', 'FED_URLC_T', 'FEDUA_TYCD', 'FED_CLSN_T', 'FNCT_CLS_T',\n",
      "       'NHS_CLS_TY', 'NHS_RTE_NB', 'HPMS_SMPL_', 'HOV_LANE_T', 'PVMT_IRI_N',\n",
      "       'PVMT_IRI_Y', 'ST_LABL_NM', 'ST_PRMY_SY', 'RDWY_LINK_', 'SHC_NTWK_N',\n",
      "       'WISLR_PTY_', 'WISLR_PTY1', 'WISLR_CMTY', 'WISLR_CERT', 'DOT_CNTY_C',\n",
      "       'LOC_FLKOS_', 'LOC_TLKOS_', 'LINK_OVLY_', 'DIR_INDC', 'OPOS_RDWY_',\n",
      "       'INV_YR', 'LOC_WI_CMT', 'MEDN_WD_MS', 'RDWY_SBML_', 'RDWY_GTRST',\n",
      "       'RDWY_HTRST', 'RDWY_MNTNR', 'RDWY_OWNR_', 'RDWY_SLRST', 'RDWY_WDRST',\n",
      "       'RDWY_WTRST', 'RWCRT_PTY_', 'RDWY_CERT_', 'RWSR_SYS_T', 'RDWY_SURF_',\n",
      "       'CSTMS_SFRT', 'RDWY_RTG_D', 'CNTY_PRMY_', 'DSGND_TRK_', 'DSGND_TRK1',\n",
      "       'CTFR_INDC', 'FNCT_CLS_C', 'FNCT_CLS_G', 'HPMS_SMPL1', 'WISLR_PT_1',\n",
      "       'SEG_WISLR_', 'RWCRT_RTE_', 'ASGD_RTE_I', 'ASGD_RTE_S', 'SFRTG_TYCD',\n",
      "       'RTG_SURF_T', 'TRADS_ID', 'PA_WISLR_P', 'WISLR_PT_2', 'PMRC_TYCD',\n",
      "       'DOT_RGN_NB', 'FED_SFGRP_', 'TRMT_TYID', 'MNTC_TRMT_', 'MNTC_TRMT1',\n",
      "       'MNTC_TRM_1', 'SHAPE_Leng', 'geometry', 'LINK_ID'],\n",
      "      dtype='object')\n",
      "2020-05-07 11:54:01, INFO: Finished calculating assignment group variable: assign_group\n",
      "2020-05-07 11:54:02, INFO: Calculating Roadway Class\n",
      "2020-05-07 11:54:05, INFO: Finished calculating roadway class variable: roadway_class\n",
      "2020-05-07 11:54:06, INFO: Adding Counts\n",
      "2020-05-07 11:54:06, DEBUG: Adding MNDOT Counts using \n",
      "- shst file: D:\\lasso\\metcouncil_data\\count_mn\\mn_count_ShSt_API_match.csv\n",
      "- shp file: AADT_mn\n",
      "- as network variable: AADT\n",
      "2020-05-07 11:54:06, INFO: Adding Variable AADT using Shared Streets Reference from D:\\lasso\\metcouncil_data\\count_mn\\mn_count_ShSt_API_match.csv\n",
      "2020-05-07 11:54:10, INFO: Added variable: AADT using Shared Streets Reference\n",
      "2020-05-07 11:54:10, DEBUG: Adding WiDot Counts using \n",
      "- shst file: D:\\lasso\\metcouncil_data\\Wisconsin_Lanes_Counts_Median\\wi_count_ShSt_API_match.csv\n",
      "- shp file: AADT_wi\n",
      "- as network variable: AADT\n",
      "2020-05-07 11:54:10, INFO: Adding Variable AADT using Shared Streets Reference from D:\\lasso\\metcouncil_data\\Wisconsin_Lanes_Counts_Median\\wi_count_ShSt_API_match.csv\n",
      "2020-05-07 11:54:16, INFO: Added variable: AADT using Shared Streets Reference\n"
     ]
    },
    {
     "name": "stderr",
     "output_type": "stream",
     "text": [
      "d:\\lasso\\lasso\\roadway.py:933: SettingWithCopyWarning: \n",
      "A value is trying to be set on a copy of a slice from a DataFrame.\n",
      "Try using .loc[row_indexer,col_indexer] = value instead\n",
      "\n",
      "See the caveats in the documentation: http://pandas.pydata.org/pandas-docs/stable/user_guide/indexing.html#returning-a-view-versus-a-copy\n",
      "  ].astype(network_var_type)\n"
     ]
    },
    {
     "name": "stdout",
     "output_type": "stream",
     "text": [
      "2020-05-07 11:54:16, INFO: Finished adding counts variable: AADT\n",
      "2020-05-07 11:54:16, INFO: Finished creating ML lanes variable: ML_lanes\n",
      "2020-05-07 11:54:16, INFO: Finished creating hov corridor variable: segment_id\n",
      "2020-05-07 11:54:16, INFO: Overwriting existing distance Variable 'distance' already in network\n"
     ]
    },
    {
     "name": "stderr",
     "output_type": "stream",
     "text": [
      "C:\\Anaconda3\\envs\\lasso_env\\lib\\site-packages\\pyproj\\crs.py:77: FutureWarning: '+init=<authority>:<code>' syntax is deprecated. '<authority>:<code>' is the preferred initialization method.\n",
      "  return _prepare_from_string(\" \".join(pjargs))\n"
     ]
    },
    {
     "name": "stdout",
     "output_type": "stream",
     "text": [
      "2020-05-07 11:55:04, INFO: Calculating distance for centroid connectors\n",
      "2020-05-07 11:55:09, INFO: Filling nan for network from network wrangler\n",
      "2020-05-07 11:55:38, INFO: Converting variable type to MetCouncil standard\n",
      "2020-05-07 11:56:14, INFO: Lasso base directory set as: D:\\lasso\n",
      "2020-05-07 11:56:14, INFO: Evaluating compatibility between roadway network changes and base network. Not evaluating deletions.\n",
      "2020-05-07 11:56:19, INFO: Evaluating project changes.\n",
      "2020-05-07 11:56:19, DEBUG: Processing link deletions\n",
      "2020-05-07 11:56:19, DEBUG: 0 Links Deleted.\n",
      "2020-05-07 11:56:19, DEBUG: Processing link additions\n",
      "2020-05-07 11:56:19, DEBUG: 0 Links Added\n",
      "2020-05-07 11:56:19, DEBUG: No Nodes Added\n",
      "2020-05-07 11:56:19, DEBUG: Processing changes\n",
      "2020-05-07 11:56:20, DEBUG: 11 Changes Processed\n"
     ]
    }
   ],
   "source": [
    "i394e_roadway_project = Project.create_project(\n",
    "        base_roadway_dir=os.path.join(INTERIM_DIR,\"networks\", \"base_network\"),\n",
    "        roadway_log_file=os.path.join(INTERIM_DIR,\"change_logs\",\"i394_reversible_lanes.log\"),\n",
    "    )"
   ]
  },
  {
   "cell_type": "code",
   "execution_count": null,
   "metadata": {},
   "outputs": [],
   "source": []
  },
  {
   "cell_type": "code",
   "execution_count": 12,
   "metadata": {},
   "outputs": [
    {
     "data": {
      "text/plain": [
       "Index(['OBJECT', 'OPERATION', 'GROUP', 'A', 'B', 'model_link_id',\n",
       "       'SHSTGEOMETRYID[32]', 'distance', 'ROADWAY[33]', 'NAME[111]',\n",
       "       'roadway_class', 'bike_access', 'transit_access', 'walk_access',\n",
       "       'drive_access', 'truck_access', 'trn_priority_AM', 'trn_priority_MD',\n",
       "       'trn_priority_PM', 'trn_priority_NT', 'ttime_assert_AM',\n",
       "       'ttime_assert_MD', 'ttime_assert_PM', 'ttime_assert_NT', 'lanes_AM',\n",
       "       'lanes_MD', 'lanes_PM', 'lanes_NT', 'price_sov_AM', 'price_hov2_AM',\n",
       "       'price_hov3_AM', 'price_truck_AM', 'price_sov_MD', 'price_hov2_MD',\n",
       "       'price_hov3_MD', 'price_truck_MD', 'price_sov_PM', 'price_hov2_PM',\n",
       "       'price_hov3_PM', 'price_truck_PM', 'price_sov_NT', 'price_hov2_NT',\n",
       "       'price_hov3_NT', 'price_truck_NT', 'assign_group', 'ACCESS_AM[15]',\n",
       "       'ACCESS_MD[15]', 'ACCESS_PM[15]', 'ACCESS_NT[15]', 'mpo', 'area_type',\n",
       "       'county', 'centroidconnect', 'AADT', 'count_year', 'count_AM',\n",
       "       'count_MD', 'count_PM', 'count_NT', 'count_daily', 'HOV', 'RCI',\n",
       "       'LANES', 'LINKCLASS', 'SPEED', 'CAPACITY', 'TIME', 'HOV_CORRIDOR[4]',\n",
       "       'model_node_id', 'OSM_NODE_ID[10]', 'bike_node', 'transit_node',\n",
       "       'walk_node', 'drive_node', 'X', 'Y'],\n",
       "      dtype='object')"
      ]
     },
     "execution_count": 12,
     "metadata": {},
     "output_type": "execute_result"
    }
   ],
   "source": [
    "i394e_roadway_project.roadway_changes.columns"
   ]
  },
  {
   "cell_type": "code",
   "execution_count": 13,
   "metadata": {},
   "outputs": [
    {
     "data": {
      "text/plain": [
       "{'project': 'USER TO define',\n",
       " 'changes': [{'category': 'Roadway Deletion', 'links': {'model_link_id': []}},\n",
       "  {'category': 'New Roadway', 'links': []},\n",
       "  {'facility': {'link': {'model_link_id': [419239, 419238, 403047]}},\n",
       "   'properties': [{'property': 'lanes',\n",
       "     'existing': 1,\n",
       "     'timeofday': [{'time': ['16:00', '19:00'], 'set': 0},\n",
       "      {'time': ['19:00', '6:00'], 'set': 0}]}],\n",
       "   'category': 'Roadway Attribute Change'},\n",
       "  {'facility': {'link': {'model_link_id': [402702, 402935]}},\n",
       "   'properties': [{'property': 'lanes',\n",
       "     'existing': 1,\n",
       "     'timeofday': [{'time': ['6:00', '9:00'], 'set': 0},\n",
       "      {'time': ['9:00', '16:00'], 'set': 0},\n",
       "      {'time': ['16:00', '19:00'], 'set': 0},\n",
       "      {'time': ['19:00', '6:00'], 'set': 0}]}],\n",
       "   'category': 'Roadway Attribute Change'},\n",
       "  {'facility': {'link': {'model_link_id': [403289]}},\n",
       "   'properties': [{'property': 'lanes',\n",
       "     'existing': 1,\n",
       "     'timeofday': [{'time': ['6:00', '9:00'], 'set': 0},\n",
       "      {'time': ['9:00', '16:00'], 'set': 0},\n",
       "      {'time': ['16:00', '19:00'], 'set': 2},\n",
       "      {'time': ['19:00', '6:00'], 'set': 2}]},\n",
       "    {'property': 'AADT', 'existing': 47000, 'set': 0},\n",
       "    {'property': 'count_AM', 'existing': 11750, 'set': 0},\n",
       "    {'property': 'count_MD', 'existing': 11750, 'set': 0},\n",
       "    {'property': 'count_PM', 'existing': 11750, 'set': 0},\n",
       "    {'property': 'count_NT', 'existing': 11750, 'set': 0},\n",
       "    {'property': 'count_daily', 'existing': 47000, 'set': 0}],\n",
       "   'category': 'Roadway Attribute Change'},\n",
       "  {'facility': {'link': {'model_link_id': [419090, 410686, 403007]}},\n",
       "   'properties': [{'property': 'lanes',\n",
       "     'existing': 1,\n",
       "     'timeofday': [{'time': ['6:00', '9:00'], 'set': 0},\n",
       "      {'time': ['9:00', '16:00'], 'set': 0}]}],\n",
       "   'category': 'Roadway Attribute Change'},\n",
       "  {'facility': {'link': {'model_link_id': [402700, 403008, 416339]}},\n",
       "   'properties': [{'property': 'lanes',\n",
       "     'existing': 1,\n",
       "     'timeofday': [{'time': ['6:00', '9:00'], 'set': 2},\n",
       "      {'time': ['9:00', '16:00'], 'set': 2},\n",
       "      {'time': ['16:00', '19:00'], 'set': 0},\n",
       "      {'time': ['19:00', '6:00'], 'set': 0}]}],\n",
       "   'category': 'Roadway Attribute Change'},\n",
       "  {'facility': {'link': {'model_link_id': [382273]}},\n",
       "   'properties': [{'property': 'lanes',\n",
       "     'existing': 2,\n",
       "     'timeofday': [{'time': ['16:00', '19:00'], 'set': 0},\n",
       "      {'time': ['19:00', '6:00'], 'set': 0}]}],\n",
       "   'category': 'Roadway Attribute Change'},\n",
       "  {'facility': {'link': {'model_link_id': [403290]}},\n",
       "   'properties': [{'property': 'lanes',\n",
       "     'existing': 2,\n",
       "     'timeofday': [{'time': ['6:00', '9:00'], 'set': 0},\n",
       "      {'time': ['9:00', '16:00'], 'set': 0}]},\n",
       "    {'property': 'AADT', 'existing': 47000, 'set': 13700},\n",
       "    {'property': 'count_AM', 'existing': 11750, 'set': 3425},\n",
       "    {'property': 'count_MD', 'existing': 11750, 'set': 3425},\n",
       "    {'property': 'count_PM', 'existing': 11750, 'set': 3425},\n",
       "    {'property': 'count_NT', 'existing': 11750, 'set': 3425},\n",
       "    {'property': 'count_daily', 'existing': 47000, 'set': 13700}],\n",
       "   'category': 'Roadway Attribute Change'},\n",
       "  {'facility': {'link': {'model_link_id': [410682]}},\n",
       "   'properties': [{'property': 'lanes',\n",
       "     'existing': 2,\n",
       "     'timeofday': [{'time': ['6:00', '9:00'], 'set': 0},\n",
       "      {'time': ['9:00', '16:00'], 'set': 0}]},\n",
       "    {'property': 'AADT', 'existing': 8000, 'set': 0},\n",
       "    {'property': 'count_AM', 'existing': 2000, 'set': 0},\n",
       "    {'property': 'count_MD', 'existing': 2000, 'set': 0},\n",
       "    {'property': 'count_PM', 'existing': 2000, 'set': 0},\n",
       "    {'property': 'count_NT', 'existing': 2000, 'set': 0},\n",
       "    {'property': 'count_daily', 'existing': 8000, 'set': 0}],\n",
       "   'category': 'Roadway Attribute Change'},\n",
       "  {'facility': {'link': {'model_link_id': [402701, 403006]}},\n",
       "   'properties': [{'property': 'lanes',\n",
       "     'existing': 2,\n",
       "     'timeofday': [{'time': ['6:00', '9:00'], 'set': 0},\n",
       "      {'time': ['9:00', '16:00'], 'set': 0}]}],\n",
       "   'category': 'Roadway Attribute Change'},\n",
       "  {'facility': {'link': {'model_link_id': [404192]}},\n",
       "   'properties': [{'property': 'lanes',\n",
       "     'existing': 3,\n",
       "     'timeofday': [{'time': ['16:00', '19:00'], 'set': 0},\n",
       "      {'time': ['19:00', '6:00'], 'set': 0}]}],\n",
       "   'category': 'Roadway Attribute Change'},\n",
       "  {'facility': {'link': {'model_link_id': [416340]}},\n",
       "   'properties': [{'property': 'lanes',\n",
       "     'existing': 3,\n",
       "     'timeofday': [{'time': ['6:00', '9:00'], 'set': 0},\n",
       "      {'time': ['9:00', '16:00'], 'set': 0}]}],\n",
       "   'category': 'Roadway Attribute Change'}]}"
      ]
     },
     "execution_count": 13,
     "metadata": {},
     "output_type": "execute_result"
    }
   ],
   "source": [
    "i394e_roadway_project.card_data"
   ]
  },
  {
   "cell_type": "code",
   "execution_count": 15,
   "metadata": {},
   "outputs": [
    {
     "name": "stdout",
     "output_type": "stream",
     "text": [
      "2020-05-07 12:01:30, INFO: Wrote project card to: C:\\projects\\met_council_git\\data\\interim\\project_cards\\i394_reversible_lane.yml\n"
     ]
    }
   ],
   "source": [
    "i394e_roadway_project.write_project_card(\n",
    "        os.path.join(INTERIM_DIR,\"project_cards\", \"i394_reversible_lane.yml\")\n",
    "    )"
   ]
  }
 ],
 "metadata": {
  "kernelspec": {
   "display_name": "Python 3",
   "language": "python",
   "name": "python3"
  },
  "language_info": {
   "codemirror_mode": {
    "name": "ipython",
    "version": 3
   },
   "file_extension": ".py",
   "mimetype": "text/x-python",
   "name": "python",
   "nbconvert_exporter": "python",
   "pygments_lexer": "ipython3",
   "version": "3.7.6"
  }
 },
 "nbformat": 4,
 "nbformat_minor": 2
}

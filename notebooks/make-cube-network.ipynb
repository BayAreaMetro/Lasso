{
 "cells": [
  {
   "cell_type": "markdown",
   "metadata": {},
   "source": [
    "# Make Cube Network"
   ]
  },
  {
   "cell_type": "code",
   "execution_count": 36,
   "metadata": {},
   "outputs": [],
   "source": [
    "import os\n",
    "import sys\n",
    "import yaml\n",
    "\n",
    "import pandas as pd\n",
    "\n",
    "from network_wrangler import RoadwayNetwork\n",
    "from network_wrangler import TransitNetwork\n",
    "from network_wrangler import WranglerLogger\n",
    "\n",
    "from lasso import ModelRoadwayNetwork\n",
    "from lasso import StandardTransit\n",
    "from lasso import Parameters"
   ]
  },
  {
   "cell_type": "code",
   "execution_count": 37,
   "metadata": {},
   "outputs": [
    {
     "name": "stdout",
     "output_type": "stream",
     "text": [
      "The autoreload extension is already loaded. To reload it, use:\n",
      "  %reload_ext autoreload\n"
     ]
    }
   ],
   "source": [
    "%load_ext autoreload\n",
    "%autoreload 2"
   ]
  },
  {
   "cell_type": "code",
   "execution_count": 38,
   "metadata": {},
   "outputs": [],
   "source": [
    "import logging\n",
    "logger = logging.getLogger(\"WranglerLogger\")\n",
    "logger.handlers[0].stream = sys.stdout\n",
    "logger.setLevel(logging.INFO)"
   ]
  },
  {
   "cell_type": "markdown",
   "metadata": {},
   "source": [
    "## Remote I/O"
   ]
  },
  {
   "cell_type": "code",
   "execution_count": 39,
   "metadata": {},
   "outputs": [],
   "source": [
    "input_dir = os.path.join('/Users', 'wsp', 'Documents', 'GitHub', 'network_wrangler', 'examples', 'stpaul')\n",
    "output_dir = os.path.join('/Users', 'wsp', 'Documents', 'GitHub', 'network_wrangler', 'examples', 'stpaul', 'cube')"
   ]
  },
  {
   "cell_type": "markdown",
   "metadata": {},
   "source": [
    "## Read Roadway and Transit Networks"
   ]
  },
  {
   "cell_type": "code",
   "execution_count": 40,
   "metadata": {},
   "outputs": [
    {
     "name": "stdout",
     "output_type": "stream",
     "text": [
      "2020-07-21 10:10:42, INFO: Reading from following files:\n",
      "-/Users/wsp/Documents/GitHub/network_wrangler/examples/stpaul/link.json\n",
      "-/Users/wsp/Documents/GitHub/network_wrangler/examples/stpaul/node.geojson\n",
      "-/Users/wsp/Documents/GitHub/network_wrangler/examples/stpaul/shape.geojson.\n",
      "2020-07-21 10:10:47, INFO: Read 66253 links from /Users/wsp/Documents/GitHub/network_wrangler/examples/stpaul/link.json\n",
      "2020-07-21 10:10:47, INFO: Read 17159 nodes from /Users/wsp/Documents/GitHub/network_wrangler/examples/stpaul/node.geojson\n",
      "2020-07-21 10:10:47, INFO: Read 66253 shapes from /Users/wsp/Documents/GitHub/network_wrangler/examples/stpaul/shape.geojson\n"
     ]
    }
   ],
   "source": [
    "link_file = os.path.join(input_dir, 'link.json')\n",
    "node_file = os.path.join(input_dir, 'node.geojson')\n",
    "shape_file = os.path.join(input_dir, 'shape.geojson')\n",
    "\n",
    "roadway_net = RoadwayNetwork.read(link_file = link_file, node_file = node_file, shape_file = shape_file)"
   ]
  },
  {
   "cell_type": "code",
   "execution_count": 41,
   "metadata": {},
   "outputs": [
    {
     "name": "stdout",
     "output_type": "stream",
     "text": [
      "2020-07-21 10:10:58, INFO: Read in transit feed from: /Users/wsp/Documents/GitHub/network_wrangler/examples/stpaul\n",
      "2020-07-21 10:10:58, INFO: Removing calendar.txt from transit network config because file not found\n",
      "2020-07-21 10:10:58, INFO: Removing calendar_dates.txt from transit network config because file not found\n",
      "2020-07-21 10:10:58, INFO: Removing fare_attributes.txt from transit network config because file not found\n",
      "2020-07-21 10:10:58, INFO: Removing fare_rules.txt from transit network config because file not found\n",
      "2020-07-21 10:10:58, INFO: Removing transfers.txt from transit network config because file not found\n",
      "2020-07-21 10:10:58, INFO: Removing feed_info.txt from transit network config because file not found\n"
     ]
    }
   ],
   "source": [
    "transit_net = TransitNetwork.read(feed_path = input_dir)"
   ]
  },
  {
   "cell_type": "markdown",
   "metadata": {},
   "source": [
    "## Make Travel Model Networks"
   ]
  },
  {
   "cell_type": "code",
   "execution_count": 42,
   "metadata": {},
   "outputs": [
    {
     "name": "stdout",
     "output_type": "stream",
     "text": [
      "2020-07-21 10:11:09, INFO: Lasso base directory set as: /Users/wsp/Documents/GitHub/Lasso\n",
      "2020-07-21 10:11:10, INFO: Renaming roadway attributes to be consistent with what metcouncil's model is expecting\n",
      "2020-07-21 10:11:10, INFO: Didn't detect managed lanes in network.\n",
      "2020-07-21 10:11:10, INFO: Creating calculated roadway variables.\n",
      "2020-07-21 10:11:10, INFO: Calculating Area Type from Spatial Data and adding as roadway network variable: area_type\n"
     ]
    },
    {
     "name": "stderr",
     "output_type": "stream",
     "text": [
      "/Users/wsp/Documents/GitHub/Lasso/lasso/roadway.py:374: UserWarning: Geometry is in a geographic CRS. Results from 'centroid' are likely incorrect. Use 'GeoSeries.to_crs()' to re-project geometries to a projected CRS before this operation.\n",
      "\n",
      "  centroids_gdf[\"geometry\"] = centroids_gdf[\"geometry\"].centroid\n"
     ]
    },
    {
     "name": "stdout",
     "output_type": "stream",
     "text": [
      "2020-07-21 10:11:17, INFO: Finished Calculating Area Type from Spatial Data into variable: area_type\n",
      "2020-07-21 10:11:17, INFO: Adding roadway network variable for county using a spatial join with: /Users/wsp/Documents/GitHub/Lasso/metcouncil_data/county/cb_2017_us_county_5m.shp\n"
     ]
    },
    {
     "name": "stderr",
     "output_type": "stream",
     "text": [
      "/Users/wsp/Documents/GitHub/Lasso/lasso/roadway.py:266: UserWarning: Geometry is in a geographic CRS. Results from 'centroid' are likely incorrect. Use 'GeoSeries.to_crs()' to re-project geometries to a projected CRS before this operation.\n",
      "\n",
      "  centroids_gdf[\"geometry\"] = centroids_gdf[\"geometry\"].centroid\n"
     ]
    },
    {
     "name": "stdout",
     "output_type": "stream",
     "text": [
      "2020-07-21 10:11:24, INFO: Finished Calculating county variable: county\n",
      "2020-07-21 10:11:24, INFO: Calculating Centroid Connector and adding as roadway network variable: centroidconnect\n",
      "2020-07-21 10:11:24, INFO: Finished calculating centroid connector variable: centroidconnect\n",
      "2020-07-21 10:11:24, INFO: Calculating MPO as roadway network variable: mpo\n",
      "2020-07-21 10:11:24, INFO: Finished calculating MPO variable: mpo\n",
      "2020-07-21 10:11:24, INFO: Calculating Assignment Group as network variable: assign_group\n",
      "2020-07-21 10:11:24, INFO: Centroid Connector Variable 'centroidconnect' already in network. Returning without overwriting.\n",
      "2020-07-21 10:11:53, INFO: Finished calculating assignment group variable: assign_group\n",
      "2020-07-21 10:11:54, INFO: Calculating Roadway Class\n",
      "2020-07-21 10:11:54, INFO: Finished calculating roadway class variable: roadway_class\n",
      "2020-07-21 10:11:54, INFO: Adding Counts\n",
      "2020-07-21 10:11:54, INFO: Adding Variable AADT using Shared Streets Reference from /Users/wsp/Documents/GitHub/Lasso/metcouncil_data/count_mn/mn_count_ShSt_API_match.csv\n",
      "2020-07-21 10:11:54, INFO: Added variable: AADT using Shared Streets Reference\n",
      "2020-07-21 10:11:54, INFO: Adding Variable AADT using Shared Streets Reference from /Users/wsp/Documents/GitHub/Lasso/metcouncil_data/Wisconsin_Lanes_Counts_Median/wi_count_ShSt_API_match.csv\n",
      "2020-07-21 10:11:54, INFO: Added variable: AADT using Shared Streets Reference\n",
      "2020-07-21 10:11:54, INFO: Finished adding counts variable: AADT\n",
      "2020-07-21 10:11:54, INFO: Finished creating ML lanes variable: ML_lanes\n",
      "2020-07-21 10:11:54, INFO: Finished creating hov corridor variable: segment_id\n",
      "2020-07-21 10:11:54, INFO: Finished creating managed variable: managed\n",
      "2020-07-21 10:11:54, INFO: Overwriting existing distance Variable 'distance' already in network\n",
      "2020-07-21 10:11:56, INFO: Calculating distance for centroid connectors\n",
      "2020-07-21 10:11:56, INFO: Filling nan for network from network wrangler\n",
      "2020-07-21 10:11:57, INFO: Splitting variables by time period and category\n",
      "2020-07-21 10:11:57, WARNING: Specified variable to split: ML_lanes not in network variables: Index(['model_link_id', 'osm_link_id', 'shstReferenceId', 'shstGeometryId',\n",
      "       'shape_id', 'u', 'v', 'A', 'B', 'locationReferences', 'distance',\n",
      "       'roadway', 'name', 'ref', 'bridge', 'tunnel', 'width', 'max_speed',\n",
      "       'bike_facility', 'drive_access', 'walk_access', 'bike_access',\n",
      "       'truck_access', 'bus_only', 'rail_only', 'lanes', 'access', 'price',\n",
      "       'trn_priority', 'ttime_assert', 'geometry', 'area_type', 'county',\n",
      "       'centroidconnect', 'mpo', 'assign_group', 'roadway_class', 'AADT',\n",
      "       'count_AM', 'count_MD', 'count_PM', 'count_NT', 'count_daily',\n",
      "       'count_year', 'segment_id', 'managed', 'trn_priority_AM',\n",
      "       'trn_priority_MD', 'trn_priority_PM', 'trn_priority_NT',\n",
      "       'ttime_assert_AM', 'ttime_assert_MD', 'ttime_assert_PM',\n",
      "       'ttime_assert_NT', 'lanes_AM', 'lanes_MD', 'lanes_PM', 'lanes_NT'],\n",
      "      dtype='object'). Returning 0.\n",
      "2020-07-21 10:11:58, INFO: Converting variable type to MetCouncil standard\n",
      "2020-07-21 10:11:58, INFO: Setting Coordinate Reference System to EPSG 26915\n"
     ]
    }
   ],
   "source": [
    "model_roadway_net = ModelRoadwayNetwork.from_RoadwayNetwork(roadway_network_object = roadway_net)\n",
    "model_roadway_net.roadway_standard_to_met_council_network()"
   ]
  },
  {
   "cell_type": "markdown",
   "metadata": {},
   "source": [
    "## Write Networks to Disk as SHP and TXT"
   ]
  },
  {
   "cell_type": "code",
   "execution_count": 43,
   "metadata": {},
   "outputs": [
    {
     "name": "stdout",
     "output_type": "stream",
     "text": [
      "2020-07-21 10:12:03, INFO: Writing Network as Shapefile\n",
      "2020-07-21 10:12:03, INFO: Renaming DBF Node Variables\n",
      "2020-07-21 10:12:03, INFO: Renaming variables so that they are DBF-safe\n",
      "2020-07-21 10:12:03, INFO: Renaming DBF Link Variables\n",
      "2020-07-21 10:12:03, INFO: Renaming variables so that they are DBF-safe\n",
      "2020-07-21 10:12:03, INFO: Writing Node Shapes:\n",
      " - /Users/wsp/Documents/GitHub/network_wrangler/examples/stpaul/cube/nodes.shp\n",
      "2020-07-21 10:12:05, INFO: Writing Link Shapes:\n",
      " - /Users/wsp/Documents/GitHub/network_wrangler/examples/stpaul/cube/links.shp\n",
      "2020-07-21 10:12:09, INFO: Writing Network Data to CSVs:\n",
      " - /Users/wsp/Documents/GitHub/Lasso/tests/scratch/links.csv\n",
      " - /Users/wsp/Documents/GitHub/Lasso/tests/scratch/nodes.csv\n"
     ]
    }
   ],
   "source": [
    "model_roadway_net.write_roadway_as_shp(\n",
    "    output_link_shp = os.path.join(output_dir, 'links.shp'),\n",
    "    output_node_shp = os.path.join(output_dir, 'nodes.shp'),\n",
    ")"
   ]
  },
  {
   "cell_type": "code",
   "execution_count": 44,
   "metadata": {},
   "outputs": [
    {
     "name": "stdout",
     "output_type": "stream",
     "text": [
      "2020-07-21 10:12:11, INFO: Starting fixed width convertion\n",
      "2020-07-21 10:14:13, INFO: Writing out link database\n",
      "2020-07-21 10:14:14, INFO: Writing out link header and width ----\n",
      "2020-07-21 10:14:14, INFO: Starting fixed width convertion\n",
      "2020-07-21 10:14:18, INFO: Writing out node database\n",
      "2020-07-21 10:14:18, INFO: Writing out node header and width\n"
     ]
    }
   ],
   "source": [
    "model_roadway_net.write_roadway_as_fixedwidth(\n",
    "    output_link_txt = os.path.join(output_dir, 'links.txt'),\n",
    "    output_node_txt = os.path.join(output_dir, 'nodes.txt'),\n",
    "    output_link_header_width_txt = os.path.join(output_dir, 'links_header_width.txt'),\n",
    "    output_node_header_width_txt = os.path.join(output_dir, 'nodes_header_width.txt'),\n",
    "    output_cube_network_script = os.path.join(output_dir, 'make_complete_network_from_fixed_width_file.s'),\n",
    ")"
   ]
  },
  {
   "cell_type": "code",
   "execution_count": 45,
   "metadata": {},
   "outputs": [
    {
     "name": "stdout",
     "output_type": "stream",
     "text": [
      "2020-07-21 10:14:18, INFO: Lasso base directory set as: /Users/wsp/Documents/GitHub/Lasso\n",
      "2020-07-21 10:14:18, INFO: Converting GTFS Standard Properties to MetCouncil's Cube Standard\n"
     ]
    }
   ],
   "source": [
    "standard_transit_net = StandardTransit.fromTransitNetwork(transit_net)\n",
    "standard_transit_net.write_as_cube_lin(outpath = os.path.join(output_dir, \"transit.lin\"))"
   ]
  },
  {
   "cell_type": "markdown",
   "metadata": {},
   "source": [
    "## Make Cube .net File"
   ]
  },
  {
   "cell_type": "code",
   "execution_count": 49,
   "metadata": {},
   "outputs": [
    {
     "data": {
      "text/plain": [
       "32512"
      ]
     },
     "execution_count": 49,
     "metadata": {},
     "output_type": "execute_result"
    }
   ],
   "source": [
    "os.environ['LINK_DATA_PATH'] = os.path.join(output_dir, 'links.txt')\n",
    "os.environ['NODE_DATA_PATH'] = os.path.join(output_dir, 'nodes.txt')\n",
    "command = 'call runtpp ' + output_dir + 'make_complete_network_from_fixed_width_file.s'\n",
    "os.system(command)"
   ]
  },
  {
   "cell_type": "code",
   "execution_count": null,
   "metadata": {},
   "outputs": [],
   "source": []
  }
 ],
 "metadata": {
  "kernelspec": {
   "display_name": "lasso_x",
   "language": "python",
   "name": "lasso_x"
  },
  "language_info": {
   "codemirror_mode": {
    "name": "ipython",
    "version": 3
   },
   "file_extension": ".py",
   "mimetype": "text/x-python",
   "name": "python",
   "nbconvert_exporter": "python",
   "pygments_lexer": "ipython3",
   "version": "3.7.7"
  }
 },
 "nbformat": 4,
 "nbformat_minor": 4
}

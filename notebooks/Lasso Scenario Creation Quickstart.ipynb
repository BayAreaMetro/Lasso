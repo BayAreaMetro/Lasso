{
 "cells": [
  {
   "cell_type": "markdown",
   "metadata": {},
   "source": [
    "# Lasso Scenario Creation Quickstart\n",
    "\n",
    "In this notebook we will run through:\n",
    "\n",
    "1. Using a configuration file to run lasso  \n",
    "2. Setting up a base scenario and applying projects  \n",
    "3. Transforming the standard network format to the MetCouncil expected format    \n",
    "4. Exporting the network to a shapefile and csvs  "
   ]
  },
  {
   "cell_type": "code",
   "execution_count": 1,
   "metadata": {},
   "outputs": [],
   "source": [
    "import os\n",
    "import sys\n",
    "import yaml\n",
    "\n",
    "import pandas as pd\n",
    "\n",
    "from network_wrangler import RoadwayNetwork\n",
    "from network_wrangler import TransitNetwork\n",
    "from network_wrangler import ProjectCard\n",
    "from network_wrangler import Scenario\n",
    "from network_wrangler import WranglerLogger\n",
    "\n",
    "from lasso import ModelRoadwayNetwork\n",
    "from lasso import StandardTransit"
   ]
  },
  {
   "cell_type": "code",
   "execution_count": 2,
   "metadata": {},
   "outputs": [],
   "source": [
    "%load_ext autoreload\n",
    "%autoreload 2"
   ]
  },
  {
   "cell_type": "code",
   "execution_count": 3,
   "metadata": {},
   "outputs": [],
   "source": [
    "import logging\n",
    "logger = logging.getLogger(\"WranglerLogger\")\n",
    "logger.handlers[0].stream = sys.stdout\n",
    "# if you don't want to see so much detail, set to logging.INFO or DEBUG\n",
    "logger.setLevel(logging.DEBUG)"
   ]
  },
  {
   "cell_type": "markdown",
   "metadata": {},
   "source": [
    "## Read a Config File\n",
    "\n",
    "Let's examine the configuration file and store it as `my_config` variable.  \n",
    "\n",
    "Configuration files are written in YAML and read in as python dictionaries."
   ]
  },
  {
   "cell_type": "code",
   "execution_count": 4,
   "metadata": {},
   "outputs": [
    {
     "name": "stdout",
     "output_type": "stream",
     "text": [
      "{\n",
      "  \"base_scenario\": {\n",
      "    \"input_dir\": \"examples/stpaul\",\n",
      "    \"shape_file_name\": \"shape.geojson\",\n",
      "    \"link_file_name\": \"link.json\",\n",
      "    \"node_file_name\": \"node.geojson\",\n",
      "    \"transit_directory\": \"\",\n",
      "    \"validate_network\": false\n",
      "  },\n",
      "  \"scenario\": {\n",
      "    \"project_cards_filenames\": [],\n",
      "    \"card_directory\": \"examples/stpaul/project_cards\",\n",
      "    \"glob_search\": \"*simple*.yml\",\n",
      "    \"tags\": []\n",
      "  },\n",
      "  \"output\": {\n",
      "    \"format\": \"geojson\",\n",
      "    \"directory\": \"\",\n",
      "    \"prefix\": \"\"\n",
      "  }\n",
      "}\n"
     ]
    }
   ],
   "source": [
    "MY_CONFIG_FILE = os.path.join(\n",
    "    os.path.dirname(os.path.abspath('')), \"examples\", \"settings\",\"my_config.yaml\"\n",
    ")\n",
    "\n",
    "with open(MY_CONFIG_FILE) as f:\n",
    "        my_config = yaml.safe_load(f)\n",
    "        \n",
    "import json\n",
    "print(json.dumps(my_config, indent=2))\n",
    "\n",
    "## Alternatively this could be written in the notebook our selected via a notebook GUI"
   ]
  },
  {
   "cell_type": "markdown",
   "metadata": {},
   "source": [
    "## Create a Base Scenario\n",
    "\n",
    "Base scenarios must at the least specify a highway network but can also specify a directory where transit networks can be found.  \n",
    "\n",
    "In this step the highway and transit networks are read in and validated to each other.  \n",
    "\n",
    "In some cases, you may want to override the validation (after reviewing the errors) using the flag: `validate = False`."
   ]
  },
  {
   "cell_type": "code",
   "execution_count": 8,
   "metadata": {},
   "outputs": [
    {
     "name": "stdout",
     "output_type": "stream",
     "text": [
      "2020-03-16 15:54:34, INFO: Base Wrangler Path: D:\\network_wrangler\n",
      "2020-03-16 15:54:34, INFO: Reading from following files:\n",
      "-D:\\network_wrangler\\examples/stpaul\\link.json\n",
      "-D:\\network_wrangler\\examples/stpaul\\node.geojson\n",
      "-D:\\network_wrangler\\examples/stpaul\\shape.geojson.\n",
      "2020-03-16 15:54:40, ERROR: Failed Node schema validation: Validation Error\n",
      "2020-03-16 15:54:40, ERROR: Node File Loc:D:\\network_wrangler\\examples/stpaul\\node.geojson\n",
      "2020-03-16 15:54:40, ERROR: Node Schema Loc:d:\\network_wrangler\\network_wrangler\\schemas\\roadway_network_node.json\n",
      "2020-03-16 15:54:40, ERROR: 'outboundReferenceId' is a required property\n"
     ]
    },
    {
     "ename": "SystemExit",
     "evalue": "RoadwayNetwork: Data doesn't conform to schema",
     "output_type": "error",
     "traceback": [
      "An exception has occurred, use %tb to see the full traceback.\n",
      "\u001b[1;31mSystemExit\u001b[0m\u001b[1;31m:\u001b[0m RoadwayNetwork: Data doesn't conform to schema\n"
     ]
    },
    {
     "name": "stderr",
     "output_type": "stream",
     "text": [
      "C:\\Anaconda3\\envs\\lasso_env\\lib\\site-packages\\IPython\\core\\interactiveshell.py:3339: UserWarning: To exit: use 'exit', 'quit', or Ctrl-D.\n",
      "  warn(\"To exit: use 'exit', 'quit', or Ctrl-D.\", stacklevel=1)\n"
     ]
    }
   ],
   "source": [
    "base_wrangler_path = os.path.join(os.path.dirname((os.path.dirname(os.path.abspath('')))),\"network_wrangler\")\n",
    "WranglerLogger.info(\"Base Wrangler Path: {}\".format(base_wrangler_path))\n",
    "\n",
    "base_scenario = Scenario.create_base_scenario(\n",
    "        my_config[\"base_scenario\"][\"shape_file_name\"],\n",
    "        my_config[\"base_scenario\"][\"link_file_name\"],\n",
    "        my_config[\"base_scenario\"][\"node_file_name\"],\n",
    "        roadway_dir=os.path.join(base_wrangler_path,my_config[\"base_scenario\"][\"input_dir\"]),\n",
    "        transit_dir=os.path.join(base_wrangler_path,my_config[\"base_scenario\"][\"input_dir\"])\n",
    "    )"
   ]
  },
  {
   "cell_type": "code",
   "execution_count": 9,
   "metadata": {},
   "outputs": [
    {
     "name": "stdout",
     "output_type": "stream",
     "text": [
      "2020-03-16 15:54:55, INFO: Base Wrangler Path: D:\\network_wrangler\n",
      "2020-03-16 15:54:55, INFO: Reading from following files:\n",
      "-D:\\network_wrangler\\examples/stpaul\\link.json\n",
      "-D:\\network_wrangler\\examples/stpaul\\node.geojson\n",
      "-D:\\network_wrangler\\examples/stpaul\\shape.geojson.\n",
      "2020-03-16 15:55:20, INFO: Read 66221 links from D:\\network_wrangler\\examples/stpaul\\link.json\n",
      "2020-03-16 15:55:20, INFO: Read 17159 nodes from D:\\network_wrangler\\examples/stpaul\\node.geojson\n",
      "2020-03-16 15:55:20, INFO: Read 66221 shapes from D:\\network_wrangler\\examples/stpaul\\shape.geojson\n",
      "2020-03-16 15:56:00, INFO: Read in transit feed from: D:\\network_wrangler\\examples/stpaul\n",
      "2020-03-16 15:56:00, DEBUG: ...agency.txt:\n",
      "  agency_id       agency_name                   agency_url  agency_timezone  \\\n",
      "0         0     Metro Transit  http://www.metrotransit.org  America/Chicago   \n",
      "1         2     Metro Transit  http://www.metrotransit.org  America/Chicago   \n",
      "2         3  Minnesota Valley          http://www.mvta.com  America/Chicago   \n",
      "\n",
      "  agency_lang  \n",
      "0          EN  \n",
      "1          EN  \n",
      "2          EN  \n",
      "2020-03-16 15:56:00, DEBUG: ...routes.txt:\n",
      "  route_id agency_id route_short_name  \\\n",
      "0    3-111         0                3   \n",
      "1   16-111         2               16   \n",
      "2   21-111         0               21   \n",
      "3   53-111         0               53   \n",
      "4   62-111         0               62   \n",
      "5   67-111         0               67   \n",
      "6   70-111         0               70   \n",
      "7   71-111         0               71   \n",
      "8   74-111         0               74   \n",
      "9   75-111         0               75   \n",
      "\n",
      "                                     route_long_name route_desc  route_type  \\\n",
      "0    U of M - Como Av - Energy Park Dr - Maryland Av        NaN           3   \n",
      "1                             University Av - Midway        NaN           3   \n",
      "2              Uptown - Lake St - Midway - Selby  Av        NaN           3   \n",
      "3          Ltd Stop - Uptown - Lake St - Marshall Av        NaN           3   \n",
      "4   Shoreview - Little Canada - Rice St Signal Hills        NaN           3   \n",
      "5         W Minnehaha Av - Raymond Sta - Franklin Av        NaN           3   \n",
      "6         St Clair Av - W 7th St - Burns Av - Sunray        NaN           3   \n",
      "7   Little Canada - Edgerton - Concord - Inver Hills        NaN           3   \n",
      "8  46th St - Randolph - W 7th St - E 7th St - Sunray        NaN           3   \n",
      "9    Stryker - Robert - Mendota Hts - Lake Cove Apts        NaN           3   \n",
      "\n",
      "                              route_url route_color route_text_color  \n",
      "0   http://www.metrotransit.org/route/3         NaN           000000  \n",
      "1  http://www.metrotransit.org/route/16         NaN           000000  \n",
      "2  http://www.metrotransit.org/route/21         NaN           000000  \n",
      "3  http://www.metrotransit.org/route/53         NaN           000000  \n",
      "4  http://www.metrotransit.org/route/62         NaN           000000  \n",
      "5  http://www.metrotransit.org/route/67         NaN           000000  \n",
      "6  http://www.metrotransit.org/route/70         NaN           000000  \n",
      "7  http://www.metrotransit.org/route/71         NaN           000000  \n",
      "8  http://www.metrotransit.org/route/74         NaN           000000  \n",
      "9  http://www.metrotransit.org/route/75         NaN           000000  \n",
      "2020-03-16 15:56:00, DEBUG: ...calendar.txt:\n",
      "Empty DataFrame\n",
      "Columns: [service_id, monday, tuesday, wednesday, thursday, friday, saturday, sunday, start_date, end_date]\n",
      "Index: []\n",
      "2020-03-16 15:56:00, INFO: Removing calendar.txt from transit network config because file not found\n",
      "2020-03-16 15:56:00, DEBUG: ...trips.txt:\n",
      "  route_id                service_id                            trip_id  \\\n",
      "0  452-111  JUN19-MVS-BUS-Weekday-01  14940701-JUN19-MVS-BUS-Weekday-01   \n",
      "1    3-111  JUN19-MVS-BUS-Weekday-01  14941148-JUN19-MVS-BUS-Weekday-01   \n",
      "2    3-111  JUN19-MVS-BUS-Weekday-01  14941151-JUN19-MVS-BUS-Weekday-01   \n",
      "3    3-111  JUN19-MVS-BUS-Weekday-01  14941153-JUN19-MVS-BUS-Weekday-01   \n",
      "4    3-111  JUN19-MVS-BUS-Weekday-01  14941163-JUN19-MVS-BUS-Weekday-01   \n",
      "5   74-111  JUN19-MVS-BUS-Weekday-01  14941643-JUN19-MVS-BUS-Weekday-01   \n",
      "6   74-111  JUN19-MVS-BUS-Weekday-01  14941652-JUN19-MVS-BUS-Weekday-01   \n",
      "7  417-111  JUN19-MVS-BUS-Weekday-01  14942968-JUN19-MVS-BUS-Weekday-01   \n",
      "8  294-111  JUN19-MVS-BUS-Weekday-01  14943414-JUN19-MVS-BUS-Weekday-01   \n",
      "9  294-111  JUN19-MVS-BUS-Weekday-01  14943415-JUN19-MVS-BUS-Weekday-01   \n",
      "\n",
      "                                       trip_headsign  direction_id block_id  \\\n",
      "0               Westbound 452  Express / Minneapolis             1     1874   \n",
      "1     Eastbound 3B Como Av/St Paul - Depot/Via Front             0     1018   \n",
      "2     Westbound 3B Como-Front/Dwtn Mpls/Target Field             1     1017   \n",
      "3     Westbound 3B Como-Front/Dwtn Mpls/Target Field             1     1017   \n",
      "4     Eastbound 3B Como Av/St Paul - Depot/Via Front             0     1036   \n",
      "5          Westbound 74A  Randolph Av / 46St Station             1     1642   \n",
      "6          Westbound 74A  Randolph Av / 46St Station             1     1642   \n",
      "7          Northbound 417 Ltd Stop/ Dodd Rd/ St Paul             0    31290   \n",
      "8                   Westbound 294  Express / St Paul             1     1576   \n",
      "9  Eastbound 294 Express/St Crx P&R/Via 4 Front Tech             0     1649   \n",
      "\n",
      "  shape_id  wheelchair_accessible trip_destination trip_short_name  \\\n",
      "0  4520004                    1.0              NaN             NaN   \n",
      "1    30009                    1.0              NaN             NaN   \n",
      "2    30014                    1.0              NaN             NaN   \n",
      "3    30014                    1.0              NaN             NaN   \n",
      "4    30009                    1.0              NaN             NaN   \n",
      "5   740006                    1.0              NaN             NaN   \n",
      "6   740006                    1.0              NaN             NaN   \n",
      "7  4170001                    1.0              NaN             NaN   \n",
      "8  2940002                    1.0              NaN             NaN   \n",
      "9  2940004                    1.0              NaN             NaN   \n",
      "\n",
      "  trip_route_name pub_dir_id rm_block_id  \n",
      "0             NaN        NaN         NaN  \n",
      "1             NaN        NaN         NaN  \n",
      "2             NaN        NaN         NaN  \n",
      "3             NaN        NaN         NaN  \n",
      "4             NaN        NaN         NaN  \n",
      "5             NaN        NaN         NaN  \n",
      "6             NaN        NaN         NaN  \n",
      "7             NaN        NaN         NaN  \n",
      "8             NaN        NaN         NaN  \n",
      "9             NaN        NaN         NaN  \n",
      "2020-03-16 15:56:00, DEBUG: ...calendar_dates.txt:\n",
      "Empty DataFrame\n",
      "Columns: [service_id, date, exception_type]\n",
      "Index: []\n",
      "2020-03-16 15:56:00, INFO: Removing calendar_dates.txt from transit network config because file not found\n",
      "2020-03-16 15:56:00, DEBUG: ...fare_attributes.txt:\n",
      "Empty DataFrame\n",
      "Columns: [fare_id, price, currency_type, payment_method, transfers]\n",
      "Index: []\n",
      "2020-03-16 15:56:00, INFO: Removing fare_attributes.txt from transit network config because file not found\n",
      "2020-03-16 15:56:00, DEBUG: ...fare_rules.txt:\n",
      "Empty DataFrame\n",
      "Columns: [fare_id]\n",
      "Index: []\n",
      "2020-03-16 15:56:00, INFO: Removing fare_rules.txt from transit network config because file not found\n",
      "2020-03-16 15:56:00, DEBUG: ...stops.txt:\n",
      "  stop_id stop_code                        stop_name      stop_desc  \\\n",
      "0   10119       NaN  St Clair Ave & Stairs to Grotto    Near side W   \n",
      "1   10120       NaN           St Clair Ave & Avon St    Near side W   \n",
      "2   10121       NaN       St Clair Ave & Victoria St    Near side W   \n",
      "3   10123       NaN         St Clair Ave & Milton St    Near side W   \n",
      "4   10124       NaN     St Clair Ave & Chatsworth St    Near side W   \n",
      "5   10126       NaN         St Clair Ave & Oxford St    Near side W   \n",
      "6   10172       NaN        St Clair Ave & Benhill Rd    Near side E   \n",
      "7   10174       NaN         St Clair Ave & Milton St    Near side E   \n",
      "8   10176       NaN       St Clair Ave & Victoria St  Across from E   \n",
      "9   10177       NaN           St Clair Ave & Avon St  Across from E   \n",
      "\n",
      "    stop_lat   stop_lon zone_id  \\\n",
      "0  44.934173 -93.131190     NaN   \n",
      "1  44.934178 -93.133690     NaN   \n",
      "2  44.934186 -93.136243     NaN   \n",
      "3  44.934210 -93.138773     NaN   \n",
      "4  44.934218 -93.141323     NaN   \n",
      "5  44.934215 -93.143884     NaN   \n",
      "6  44.934106 -93.143053     NaN   \n",
      "7  44.934106 -93.139055     NaN   \n",
      "8  44.934084 -93.136517     NaN   \n",
      "9  44.934073 -93.133944     NaN   \n",
      "\n",
      "                                            stop_url  location_type  \\\n",
      "0  http://www.metrotransit.org/NexTripBadge.aspx?...              0   \n",
      "1  http://www.metrotransit.org/NexTripBadge.aspx?...              0   \n",
      "2  http://www.metrotransit.org/NexTripBadge.aspx?...              0   \n",
      "3  http://www.metrotransit.org/NexTripBadge.aspx?...              0   \n",
      "4  http://www.metrotransit.org/NexTripBadge.aspx?...              0   \n",
      "5  http://www.metrotransit.org/NexTripBadge.aspx?...              0   \n",
      "6  http://www.metrotransit.org/NexTripBadge.aspx?...              0   \n",
      "7  http://www.metrotransit.org/NexTripBadge.aspx?...              0   \n",
      "8  http://www.metrotransit.org/NexTripBadge.aspx?...              0   \n",
      "9  http://www.metrotransit.org/NexTripBadge.aspx?...              0   \n",
      "\n",
      "   wheelchair_boarding model_node_id osm_node_id  \\\n",
      "0                  1.0         46886   187868000   \n",
      "1                  1.0         54358   187883263   \n",
      "2                  1.0         43004   187860779   \n",
      "3                  1.0         57392   187890295   \n",
      "4                  1.0         56476   187888280   \n",
      "5                  1.0         74731   187936294   \n",
      "6                  1.0         74730   187936293   \n",
      "7                  1.0         57392   187890295   \n",
      "8                  1.0        137734  3071141453   \n",
      "9                  1.0         54358   187883263   \n",
      "\n",
      "                          node_ssid parent_station  \n",
      "0  e096bcee806f8ee804e223b832b914a4            NaN  \n",
      "1  fb83b4f2cd360907befedfaf61081ef2            NaN  \n",
      "2  c16292a1f8165c26b71f2743189b7a49            NaN  \n",
      "3                               NaN            NaN  \n",
      "4                               NaN            NaN  \n",
      "5  e253d08af7eac74b6650133252908472            NaN  \n",
      "6  192efcdf1e3bf6912303adcba9c18bbb            NaN  \n",
      "7                               NaN            NaN  \n",
      "8  49e0f73c301f745ec9dc36a5b752a32e            NaN  \n",
      "9  fb83b4f2cd360907befedfaf61081ef2            NaN  \n"
     ]
    },
    {
     "name": "stdout",
     "output_type": "stream",
     "text": [
      "2020-03-16 15:56:00, DEBUG: ...frequencies.txt:\n",
      "                             trip_id  headway_secs  start_time  end_time\n",
      "0  14940701-JUN19-MVS-BUS-Weekday-01          3600     21600.0   32400.0\n",
      "1  14941148-JUN19-MVS-BUS-Weekday-01           830     21600.0   32400.0\n",
      "2  14941151-JUN19-MVS-BUS-Weekday-01           540     21600.0   32400.0\n",
      "3  14941153-JUN19-MVS-BUS-Weekday-01           696     32400.0   54000.0\n",
      "4  14941163-JUN19-MVS-BUS-Weekday-01           830     32400.0   54000.0\n",
      "5  14941643-JUN19-MVS-BUS-Weekday-01           900     21600.0   32400.0\n",
      "6  14941652-JUN19-MVS-BUS-Weekday-01          1200     32400.0   54000.0\n",
      "7  14942968-JUN19-MVS-BUS-Weekday-01          5400     21600.0   32400.0\n",
      "8  14943414-JUN19-MVS-BUS-Weekday-01          2160     21600.0   32400.0\n",
      "9  14943415-JUN19-MVS-BUS-Weekday-01          5400     21600.0   32400.0\n",
      "2020-03-16 15:56:01, DEBUG: ...shapes.txt:\n",
      "  shape_id  shape_pt_lat  shape_pt_lon  shape_pt_sequence shape_osm_node_id  \\\n",
      "0  4520004     44.923257    -93.067060                 55         507955865   \n",
      "1  4520004     44.930632    -93.071166                 56         507951624   \n",
      "2  4520004     44.932669    -93.071710                 57         507951633   \n",
      "3  4520004     44.939445    -93.075273                 58         507951645   \n",
      "4  4520004     44.943056    -93.076998                 59        2548150957   \n",
      "5  4520004     44.951951    -93.081687                 60        2291969930   \n",
      "6  4520004     44.952673    -93.083884                 61         187872060   \n",
      "7  4520004     44.952707    -93.087583                 62         961117649   \n",
      "8  4520004     44.954043    -93.089649                 63         961116213   \n",
      "9  4520004     44.952407    -93.096553                 64         961086473   \n",
      "\n",
      "  shape_model_node_id  \n",
      "0              152495  \n",
      "1              151635  \n",
      "2              151637  \n",
      "3              151641  \n",
      "4               23834  \n",
      "5              108658  \n",
      "6               49113  \n",
      "7               19614  \n",
      "8               19288  \n",
      "9               11354  \n",
      "2020-03-16 15:56:01, DEBUG: ...stop_times.txt:\n",
      "                             trip_id  arrival_time  departure_time stop_id  \\\n",
      "0  14941148-JUN19-MVS-BUS-Weekday-01           0.0             0.0   18618   \n",
      "1  14941148-JUN19-MVS-BUS-Weekday-01          60.0            60.0   18619   \n",
      "2  14941148-JUN19-MVS-BUS-Weekday-01          60.0            60.0   18621   \n",
      "3  14941148-JUN19-MVS-BUS-Weekday-01         120.0           120.0     948   \n",
      "4  14941148-JUN19-MVS-BUS-Weekday-01         120.0           120.0     950   \n",
      "5  14941148-JUN19-MVS-BUS-Weekday-01         180.0           180.0     952   \n",
      "6  14941148-JUN19-MVS-BUS-Weekday-01         180.0           180.0     954   \n",
      "7  14941148-JUN19-MVS-BUS-Weekday-01         240.0           240.0     956   \n",
      "8  14941148-JUN19-MVS-BUS-Weekday-01         240.0           240.0     957   \n",
      "9  14941148-JUN19-MVS-BUS-Weekday-01         300.0           300.0     958   \n",
      "\n",
      "   stop_sequence  pickup_type drop_off_type stop_distance  timepoint  \\\n",
      "0             46            0             0           NaN        NaN   \n",
      "1             47            0             0           NaN        NaN   \n",
      "2             48            0             0           NaN        NaN   \n",
      "3             49            0             0           NaN        NaN   \n",
      "4             50            0             0           NaN        NaN   \n",
      "5             51            0             0           NaN        NaN   \n",
      "6             52            0             0           NaN        NaN   \n",
      "7             53            0             0           NaN        NaN   \n",
      "8             54            0             0           NaN        NaN   \n",
      "9             55            0             0           NaN        NaN   \n",
      "\n",
      "  stop_is_skipped  \n",
      "0             NaN  \n",
      "1             NaN  \n",
      "2             NaN  \n",
      "3             NaN  \n",
      "4             NaN  \n",
      "5             NaN  \n",
      "6             NaN  \n",
      "7             NaN  \n",
      "8             NaN  \n",
      "9             NaN  \n",
      "2020-03-16 15:56:01, DEBUG: ...transfers.txt:\n",
      "Empty DataFrame\n",
      "Columns: [from_stop_id, to_stop_id, transfer_type, min_transfer_time]\n",
      "Index: []\n",
      "2020-03-16 15:56:01, INFO: Removing transfers.txt from transit network config because file not found\n",
      "2020-03-16 15:56:01, DEBUG: ...feed_info.txt:\n",
      "Empty DataFrame\n",
      "Columns: [feed_publisher_name, feed_publisher_url, feed_lang]\n",
      "Index: []\n",
      "2020-03-16 15:56:01, INFO: Removing feed_info.txt from transit network config because file not found\n",
      "2020-03-16 15:56:01, DEBUG: starting ox_graph()\n",
      "2020-03-16 15:56:01, DEBUG: GRAPH NODES: Index(['model_node_id', 'osm_node_id', 'shstReferenceId', 'transit_node',\n",
      "       'drive_node', 'walk_node', 'bike_node', 'geometry', 'x', 'y'],\n",
      "      dtype='object')\n",
      "2020-03-16 15:56:01, DEBUG: starting ox.gdfs_to_graph()\n",
      "2020-03-16 15:56:32, DEBUG: finished ox.gdfs_to_graph()\n"
     ]
    }
   ],
   "source": [
    "base_wrangler_path = os.path.join(os.path.dirname((os.path.dirname(os.path.abspath('')))),\"network_wrangler\")\n",
    "WranglerLogger.info(\"Base Wrangler Path: {}\".format(base_wrangler_path))\n",
    "base_scenario = Scenario.create_base_scenario(\n",
    "        my_config[\"base_scenario\"][\"shape_file_name\"],\n",
    "        my_config[\"base_scenario\"][\"link_file_name\"],\n",
    "        my_config[\"base_scenario\"][\"node_file_name\"],\n",
    "        roadway_dir=os.path.join(base_wrangler_path,my_config[\"base_scenario\"][\"input_dir\"]),\n",
    "        transit_dir=os.path.join(base_wrangler_path,my_config[\"base_scenario\"][\"input_dir\"]),\n",
    "        validate = False,\n",
    "    )"
   ]
  },
  {
   "cell_type": "markdown",
   "metadata": {},
   "source": [
    "#### Create project cards from projects that are explicitely specified in config\n"
   ]
  },
  {
   "cell_type": "code",
   "execution_count": 10,
   "metadata": {},
   "outputs": [
    {
     "data": {
      "text/plain": [
       "[]"
      ]
     },
     "execution_count": 10,
     "metadata": {},
     "output_type": "execute_result"
    }
   ],
   "source": [
    "if len(my_config[\"scenario\"][\"project_cards_filenames\"]) > 0:\n",
    "    project_cards_list = [\n",
    "        ProjectCard.read(filename, validate=False)\n",
    "        for filename in my_config[\"scenario\"][\"project_cards_filenames\"]\n",
    "    ]\n",
    "else: \n",
    "    project_cards_list = []\n",
    "project_cards_list"
   ]
  },
  {
   "cell_type": "markdown",
   "metadata": {},
   "source": [
    "## Create Scenario\n",
    "\n",
    "A scenario is constructed with a base scenario and then selecting project cards to be added to that base scenario to create the new scenario.\n",
    "\n",
    "Projects can be added a variety of ways:\n",
    "\n",
    " 1. `card_directory` + `tags` will search a directory add project's who's project tags match *at least one of* the tags in the keyword.\n",
    " 2. `card_directory` + `glob_search` will search a directory add project's who's file name matches the [glob search text](https://docs.python.org/3/library/glob.html)\n",
    " 3. `project_cards_list` is a list of ProjectCard objects\n",
    " \n",
    "Optionally, you may specify that project card formats are not validated by setting they keyword: \n",
    "   `validate = False`\n",
    "   \n",
    "Projects that are not added in the initial scenario development can be added by using the following methods:  \n",
    "\n",
    " - `add_project_card_from_file()`  \n",
    " - `add_project_cards_from_directory()`  \n",
    " - `add_project_cards_from_tags`\n",
    " \n",
    "Or by directly adding the project to the scenario's project attribute by running:\n",
    "\n",
    "```python\n",
    "my_project = ProjectCard.read(path_to_card)\n",
    "my_scenario.projects += my_project\n",
    "\n",
    "```\n"
   ]
  },
  {
   "cell_type": "code",
   "execution_count": 11,
   "metadata": {},
   "outputs": [
    {
     "name": "stdout",
     "output_type": "stream",
     "text": [
      "2020-03-16 15:56:44, INFO: Creating Scenario\n",
      "2020-03-16 15:56:59, DEBUG: Adding project cards from directory.\n",
      "Dir: D:\\network_wrangler\\examples/stpaul/project_cards\n",
      "2020-03-16 15:56:59, DEBUG: Adding project cards using glob search: *simple*.yml\n",
      "2020-03-16 15:56:59, DEBUG: Trying to add project card from file: D:\\network_wrangler\\examples/stpaul/project_cards\\10_simple_roadway_add_change.yml\n",
      "2020-03-16 15:56:59, DEBUG: Adding project card to scenario: test simple roadway add\n",
      "2020-03-16 15:56:59, DEBUG: Adding project card dependencies\n",
      "2020-03-16 15:56:59, DEBUG: Trying to add project card from file: D:\\network_wrangler\\examples/stpaul/project_cards\\13_simple_roadway_delete_change.yml\n",
      "2020-03-16 15:56:59, DEBUG: Adding project card to scenario: test simple roadway deletion\n",
      "2020-03-16 15:56:59, DEBUG: Trying to add project card from file: D:\\network_wrangler\\examples/stpaul/project_cards\\1_simple_roadway_attribute_change.yml\n",
      "2020-03-16 15:56:59, DEBUG: Adding project card to scenario: 6th St E Road Diet\n",
      "2020-03-16 15:56:59, DEBUG: Adding project card dependencies\n",
      "2020-03-16 15:56:59, DEBUG: Trying to add project card from file: D:\\network_wrangler\\examples/stpaul/project_cards\\4_simple_managed_lane.yml\n",
      "2020-03-16 15:56:59, DEBUG: Adding project card to scenario: test managed lane project\n",
      "2020-03-16 15:56:59, DEBUG: Adding project card dependencies\n",
      "2020-03-16 15:56:59, DEBUG: Trying to add project card from file: D:\\network_wrangler\\examples/stpaul/project_cards\\7_simple_transit_attribute_change.yml\n",
      "2020-03-16 15:56:59, DEBUG: Adding project card to scenario: Blue Line Service Enhancement A\n",
      "2020-03-16 15:56:59, DEBUG: Adding project card dependencies\n",
      "2020-03-16 15:56:59, DEBUG: Trying to add project card from file: D:\\network_wrangler\\examples/stpaul/project_cards\\8_simple_transit_attribute_change.yml\n",
      "2020-03-16 15:56:59, DEBUG: Adding project card to scenario: Blue Line Service Enhancement C\n",
      "2020-03-16 15:56:59, DEBUG: Adding project card dependencies\n",
      "2020-03-16 15:56:59, DEBUG: Trying to add project card from file: D:\\network_wrangler\\examples/stpaul/project_cards\\9_simple_transit_attribute_change.yml\n",
      "2020-03-16 15:56:59, DEBUG: Adding project card to scenario: Improve Express Bus Frequency\n",
      "2020-03-16 15:56:59, DEBUG: Adding project card dependencies\n"
     ]
    }
   ],
   "source": [
    "my_scenario=None\n",
    "\n",
    "my_scenario = Scenario.create_scenario(\n",
    "    base_scenario=base_scenario,\n",
    "    card_directory=os.path.join(base_wrangler_path,my_config[\"scenario\"][\"card_directory\"]),\n",
    "    tags=my_config[\"scenario\"][\"tags\"],\n",
    "    project_cards_list=project_cards_list,\n",
    "    glob_search=my_config[\"scenario\"][\"glob_search\"],\n",
    "    validate_project_cards=False,\n",
    ")"
   ]
  },
  {
   "cell_type": "markdown",
   "metadata": {},
   "source": [
    "### Apply all projects in scenario"
   ]
  },
  {
   "cell_type": "code",
   "execution_count": 12,
   "metadata": {},
   "outputs": [
    {
     "name": "stdout",
     "output_type": "stream",
     "text": [
      "2020-03-16 15:56:59, INFO: \n",
      "Projects in queue to be applied: \n",
      " - test simple roadway add\n",
      " - test simple roadway deletion\n",
      " - 6th St E Road Diet\n",
      " - test managed lane project\n",
      " - Blue Line Service Enhancement A\n",
      " - Blue Line Service Enhancement C\n",
      " - Improve Express Bus Frequency\n",
      "2020-03-16 15:56:59, INFO: \n",
      "[Before] Applied Projects: \n",
      " - \n",
      "2020-03-16 15:56:59, DEBUG: Ordered Project Cards: {'improve express bus frequency': <network_wrangler.ProjectCard.ProjectCard object at 0x0000026D31E60BC8>, 'blue line service enhancement c': <network_wrangler.ProjectCard.ProjectCard object at 0x0000026D31E60F88>, 'blue line service enhancement a': <network_wrangler.ProjectCard.ProjectCard object at 0x0000026D31E76208>, 'test managed lane project': <network_wrangler.ProjectCard.ProjectCard object at 0x0000026D31E0BF88>, '6th st e road diet': <network_wrangler.ProjectCard.ProjectCard object at 0x0000026D31E0B4C8>, 'test simple roadway deletion': <network_wrangler.ProjectCard.ProjectCard object at 0x0000026D1AB515C8>, 'test simple roadway add': <network_wrangler.ProjectCard.ProjectCard object at 0x0000026D1AE6AE48>}\n",
      "2020-03-16 15:56:59, DEBUG: Project Cards: [<network_wrangler.ProjectCard.ProjectCard object at 0x0000026D31E60BC8>, <network_wrangler.ProjectCard.ProjectCard object at 0x0000026D31E60F88>, <network_wrangler.ProjectCard.ProjectCard object at 0x0000026D31E76208>, <network_wrangler.ProjectCard.ProjectCard object at 0x0000026D31E0BF88>, <network_wrangler.ProjectCard.ProjectCard object at 0x0000026D31E0B4C8>, <network_wrangler.ProjectCard.ProjectCard object at 0x0000026D1AB515C8>, <network_wrangler.ProjectCard.ProjectCard object at 0x0000026D1AE6AE48>]\n",
      "2020-03-16 15:56:59, INFO: Applying Improve Express Bus Frequency\n",
      "2020-03-16 15:56:59, INFO: Applying Project to Transit Network: Improve Express Bus Frequency\n",
      "2020-03-16 15:56:59, INFO: Applying Blue Line Service Enhancement C\n",
      "2020-03-16 15:56:59, INFO: Applying Project to Transit Network: Blue Line Service Enhancement C\n",
      "2020-03-16 15:56:59, INFO: Applying Blue Line Service Enhancement A\n",
      "2020-03-16 15:56:59, INFO: Applying Project to Transit Network: Blue Line Service Enhancement A\n",
      "2020-03-16 15:56:59, INFO: Applying test managed lane project\n",
      "2020-03-16 15:56:59, INFO: Applying Project to Roadway Network: test managed lane project\n",
      "2020-03-16 15:56:59, DEBUG: validating selection\n",
      "2020-03-16 15:56:59, DEBUG: Selection Key: ('((name.str.contains(\"I 35E\")) and drive_access==1)', 19607, 93497)\n",
      "2020-03-16 15:56:59, DEBUG: Building selection query\n",
      "2020-03-16 15:56:59, DEBUG: Selecting features:\n",
      "((name.str.contains(\"I 35E\")) and drive_access==1)\n",
      "2020-03-16 15:56:59, DEBUG: Completed query\n",
      "2020-03-16 15:56:59, DEBUG: No candidate links in initial search.\n",
      "Retrying query using 'ref' instead of 'name'\n",
      "2020-03-16 15:56:59, DEBUG: Trying selection query replacing 'name' with 'ref'\n",
      "2020-03-16 15:56:59, DEBUG: Not a unique ID selection, conduct search\n",
      "2020-03-16 15:56:59, DEBUG: Foreign key list: [76932, 38918, 121739, 19345, 131218, 131220, 19607, 47257, 76953, 54171, 54177, 3494, 54183, 76969, 8235, 38443, 54189, 36660, 93497, 53818, 35131, 161596, 77118, 53828, 38729, 35145, 36683, 36945, 137686, 11354, 37724, 36959, 76899, 54119, 38121, 54125, 4218]\n",
      "2020-03-16 15:56:59, DEBUG: calculating shortest path from graph\n",
      "2020-03-16 15:56:59, DEBUG: _shortest_path(): calculating shortest path from graph\n",
      "2020-03-16 15:56:59, DEBUG: creating network graph\n",
      "2020-03-16 15:56:59, DEBUG: starting ox_graph()\n",
      "2020-03-16 15:56:59, DEBUG: GRAPH NODES: Index(['model_node_id', 'osm_node_id', 'shstReferenceId', 'transit_node',\n",
      "       'drive_node', 'walk_node', 'bike_node', 'geometry', 'x', 'y'],\n",
      "      dtype='object')\n",
      "2020-03-16 15:56:59, DEBUG: starting ox.gdfs_to_graph()\n",
      "2020-03-16 15:56:59, DEBUG: finished ox.gdfs_to_graph()\n",
      "2020-03-16 15:56:59, DEBUG: Calculating NX shortest path from A_id: 19607 to B_id: 93497\n",
      "2020-03-16 15:56:59, DEBUG: Shortest path successfully routed\n"
     ]
    },
    {
     "name": "stderr",
     "output_type": "stream",
     "text": [
      "d:\\network_wrangler\\network_wrangler\\RoadwayNetwork.py:877: SettingWithCopyWarning: \n",
      "A value is trying to be set on a copy of a slice from a DataFrame.\n",
      "Try using .loc[row_indexer,col_indexer] = value instead\n",
      "\n",
      "See the caveats in the documentation: http://pandas.pydata.org/pandas-docs/stable/user_guide/indexing.html#returning-a-view-versus-a-copy\n",
      "  candidate_links[\"i\"] = 0\n",
      "d:\\network_wrangler\\network_wrangler\\RoadwayNetwork.py:959: SettingWithCopyWarning: \n",
      "A value is trying to be set on a copy of a slice from a DataFrame.\n",
      "Try using .loc[row_indexer,col_indexer] = value instead\n",
      "\n",
      "See the caveats in the documentation: http://pandas.pydata.org/pandas-docs/stable/user_guide/indexing.html#returning-a-view-versus-a-copy\n",
      "  candidate_links[\"i\"] * RoadwayNetwork.SP_WEIGHT_FACTOR\n"
     ]
    },
    {
     "name": "stdout",
     "output_type": "stream",
     "text": [
      "2020-03-16 15:57:00, INFO: Applying 6th St E Road Diet\n",
      "2020-03-16 15:57:00, INFO: Applying Project to Roadway Network: 6th St E Road Diet\n",
      "2020-03-16 15:57:00, DEBUG: validating selection\n",
      "2020-03-16 15:57:00, DEBUG: Selection Key: ('((osm_link_id.str.contains(\"223371529\")) and drive_access==1)', 39425, 62146)\n",
      "2020-03-16 15:57:00, DEBUG: Building selection query\n",
      "2020-03-16 15:57:00, DEBUG: Selecting features:\n",
      "((osm_link_id.str.contains(\"223371529\")) and drive_access==1)\n",
      "2020-03-16 15:57:00, DEBUG: Completed query\n",
      "2020-03-16 15:57:00, DEBUG: Not a unique ID selection, conduct search\n",
      "2020-03-16 15:57:00, DEBUG: Foreign key list: [39425, 62146, 68609, 41991]\n",
      "2020-03-16 15:57:00, DEBUG: calculating shortest path from graph\n",
      "2020-03-16 15:57:00, DEBUG: _shortest_path(): calculating shortest path from graph\n",
      "2020-03-16 15:57:00, DEBUG: creating network graph\n",
      "2020-03-16 15:57:00, DEBUG: starting ox_graph()\n",
      "2020-03-16 15:57:00, DEBUG: GRAPH NODES: Index(['model_node_id', 'osm_node_id', 'shstReferenceId', 'transit_node',\n",
      "       'drive_node', 'walk_node', 'bike_node', 'geometry', 'x', 'y'],\n",
      "      dtype='object')\n",
      "2020-03-16 15:57:00, DEBUG: starting ox.gdfs_to_graph()\n",
      "2020-03-16 15:57:00, DEBUG: finished ox.gdfs_to_graph()\n",
      "2020-03-16 15:57:00, DEBUG: Calculating NX shortest path from A_id: 39425 to B_id: 62146\n",
      "2020-03-16 15:57:00, DEBUG: Shortest path successfully routed\n",
      "2020-03-16 15:57:00, WARNING: Existing value defined for lanes in project card does not match the value in the roadway network for the selected links\n",
      "2020-03-16 15:57:00, INFO: Applying test simple roadway deletion\n",
      "2020-03-16 15:57:00, INFO: Applying Project to Roadway Network: test simple roadway deletion\n",
      "2020-03-16 15:57:00, INFO: Applying Project to Transit Network: test simple roadway deletion\n"
     ]
    },
    {
     "name": "stderr",
     "output_type": "stream",
     "text": [
      "d:\\network_wrangler\\network_wrangler\\RoadwayNetwork.py:844: SettingWithCopyWarning: \n",
      "A value is trying to be set on a copy of a slice from a DataFrame.\n",
      "Try using .loc[row_indexer,col_indexer] = value instead\n",
      "\n",
      "See the caveats in the documentation: http://pandas.pydata.org/pandas-docs/stable/user_guide/indexing.html#returning-a-view-versus-a-copy\n",
      "  candidate_links[\"i\"] = 0\n"
     ]
    },
    {
     "name": "stdout",
     "output_type": "stream",
     "text": [
      "2020-03-16 15:57:00, WARNING: Roadway Deletion not yet implemented in Transit; ignoring\n",
      "2020-03-16 15:57:00, INFO: Applying test simple roadway add\n",
      "2020-03-16 15:57:00, INFO: Applying Project to Roadway Network: test simple roadway add\n",
      "2020-03-16 15:57:01, INFO: \n",
      "[After] Applied Projects: \n",
      " - Improve Express Bus Frequency\n",
      " - Blue Line Service Enhancement C\n",
      " - Blue Line Service Enhancement A\n",
      " - test managed lane project\n",
      " - 6th St E Road Diet\n",
      " - test simple roadway deletion\n",
      " - test simple roadway add\n"
     ]
    }
   ],
   "source": [
    "WranglerLogger.info(\"\\nProjects in queue to be applied: \\n - {}\".format(\"\\n - \".join(my_scenario.get_project_names())))\n",
    "WranglerLogger.info(\"\\n[Before] Applied Projects: \\n - {}\".format(\"\\n - \".join(my_scenario.applied_projects)))\n",
    "\n",
    "my_scenario.apply_all_projects()\n",
    "\n",
    "WranglerLogger.info(\"\\n[After] Applied Projects: \\n - {}\".format(\"\\n - \".join(my_scenario.applied_projects)))"
   ]
  },
  {
   "cell_type": "markdown",
   "metadata": {},
   "source": [
    "# Write out as MetCouncil Model Roadway Network\n",
    "Everything above was done in \"pure wrangler\" rather than lasso.  However, we will need Lasso in order to add the MetCouncil specific variables. You can create a lasso ModelRoadwayNetwork object from the roadway network object and feed it any additional parameters from that `my_config` variable.\n",
    "\n",
    "You can see that the link variables for this network are the same as the standard roadway network at this point but that will change.\n",
    "\n",
    "Since this is a GeoDataFrame you can also use build-in Geopandas features to make simple plots based on these variables."
   ]
  },
  {
   "cell_type": "code",
   "execution_count": null,
   "metadata": {},
   "outputs": [],
   "source": [
    "model_road_net = ModelRoadwayNetwork.from_RoadwayNetwork(\n",
    "    my_scenario.road_net, parameters=my_config.get(\"my_parameters\", {})\n",
    ")\n",
    "\n",
    "WranglerLogger.info(\"\\nmodel_road_net columns:\\n - {}\".format(\"\\n - \".join(model_road_net.links_df.columns)))"
   ]
  },
  {
   "cell_type": "code",
   "execution_count": null,
   "metadata": {},
   "outputs": [],
   "source": [
    "model_road_net.links_df.plot(\"bike_access\")"
   ]
  },
  {
   "cell_type": "markdown",
   "metadata": {},
   "source": [
    "## Add MetCouncil variables\n",
    "At this point, we need to calculate all the variables into what MetCouncil's model is expecting. The method `roadway_standard_to_met_council_network()` broadly does the following:  \n",
    " \n",
    "- creates a parallel managed lane network\n",
    "- calculates additional variables based on geography or other variables (i.e. county, assignment group, area type, etc)\n",
    "- flattens variables stored as continuous time values and determines their value by time period (i.e. lanes_am)   \n",
    "- reprojects into MetCouncil's projection"
   ]
  },
  {
   "cell_type": "code",
   "execution_count": null,
   "metadata": {},
   "outputs": [],
   "source": [
    "model_road_net.roadway_standard_to_met_council_network()"
   ]
  },
  {
   "cell_type": "code",
   "execution_count": null,
   "metadata": {},
   "outputs": [],
   "source": [
    "WranglerLogger.info(\"\\nmodel_road_net **links_metcouncil** columns:\\n - {}\".format(\"\\n - \".join(model_road_net.links_metcouncil_df.columns)))"
   ]
  },
  {
   "cell_type": "code",
   "execution_count": null,
   "metadata": {},
   "outputs": [],
   "source": [
    "model_road_net.links_metcouncil_df.plot(\"lanes_AM\")"
   ]
  },
  {
   "cell_type": "markdown",
   "metadata": {},
   "source": [
    "## Export to shapefile\n",
    "\n",
    "As a last step, the network can be exported to a shapefile and paired CSVs after removing extraneous variables.\n",
    "\n",
    "(note that this step will also run the `roadway_standard_to_met_council_network()` method but I wanted to show it to you piecewise)"
   ]
  },
  {
   "cell_type": "code",
   "execution_count": null,
   "metadata": {},
   "outputs": [],
   "source": [
    "model_road_net.write_roadway_as_shp()"
   ]
  },
  {
   "cell_type": "markdown",
   "metadata": {},
   "source": [
    "# Export to fixed width file"
   ]
  },
  {
   "cell_type": "code",
   "execution_count": null,
   "metadata": {},
   "outputs": [],
   "source": [
    "model_road_net.write_roadway_as_fixedwidth()"
   ]
  },
  {
   "cell_type": "markdown",
   "metadata": {},
   "source": [
    "# Write out as MetCouncil Model Transit Network\n",
    "\n",
    "Similar to the roadway network, the first step is to convert it to a Lasso object, and then write it to a cube line file.  Optionally, you could also export it to a shapefile to inspect using other means. "
   ]
  },
  {
   "cell_type": "code",
   "execution_count": null,
   "metadata": {},
   "outputs": [],
   "source": [
    "standard_transit = StandardTransit.fromTransitNetwork(my_scenario.transit_net)\n",
    "standard_transit.feed"
   ]
  },
  {
   "cell_type": "markdown",
   "metadata": {},
   "source": [
    "Write out the StandardTransit Lasso object to a cube line file:"
   ]
  },
  {
   "cell_type": "code",
   "execution_count": null,
   "metadata": {},
   "outputs": [],
   "source": [
    "standard_transit.write_as_cube_lin()"
   ]
  }
 ],
 "metadata": {
  "kernelspec": {
   "display_name": "Python 3",
   "language": "python",
   "name": "python3"
  },
  "language_info": {
   "codemirror_mode": {
    "name": "ipython",
    "version": 3
   },
   "file_extension": ".py",
   "mimetype": "text/x-python",
   "name": "python",
   "nbconvert_exporter": "python",
   "pygments_lexer": "ipython3",
   "version": "3.7.6"
  }
 },
 "nbformat": 4,
 "nbformat_minor": 2
}
